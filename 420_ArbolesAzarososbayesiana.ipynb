{
  "nbformat": 4,
  "nbformat_minor": 0,
  "metadata": {
    "colab": {
      "provenance": [],
      "include_colab_link": true
    },
    "kernelspec": {
      "name": "python3",
      "display_name": "Python 3"
    },
    "language_info": {
      "name": "python"
    }
  },
  "cells": [
    {
      "cell_type": "markdown",
      "metadata": {
        "id": "view-in-github",
        "colab_type": "text"
      },
      "source": [
        "<a href=\"https://colab.research.google.com/github/rsalbertiaustral/labo2025v/blob/main/420_ArbolesAzarososbayesiana.ipynb\" target=\"_parent\"><img src=\"https://colab.research.google.com/assets/colab-badge.svg\" alt=\"Open In Colab\"/></a>"
      ]
    },
    {
      "cell_type": "markdown",
      "source": [
        "# 4. Ensembles de Arboles de Decision"
      ],
      "metadata": {
        "id": "kgJ0E--L0n9s"
      }
    },
    {
      "cell_type": "markdown",
      "source": [
        "Un arbol de decisión es un modelo débil, el aumento del poder predictivo proviene al ensamblar varios arboles de decisión.\n",
        "<br> Si promedio n arboles identicos, el resultados es exactamente el mismo que utilizar un solo arbol, necesito PERTURBAR cada arbol para disponer de variablidad"
      ],
      "metadata": {
        "id": "PgLdmWznXWGZ"
      }
    },
    {
      "cell_type": "markdown",
      "source": [
        "la variabilidad provendrá de estas fuentes:\n",
        "\n",
        "\n",
        "*   Perturbar el dataset\n",
        "*   Perturbar el algoritmo del arbol\n",
        "*   Perturbar el dataset y el algoritmo del arbol al mismo tiempo"
      ],
      "metadata": {
        "id": "FTnxMEOqYRXZ"
      }
    },
    {
      "cell_type": "markdown",
      "source": [
        "Se verán estos tres algoritmos\n",
        "\n",
        "\n",
        "*   Arboles Azarosos\n",
        "*   Random Forest\n",
        "*   Gradient Boosting of Decision Trees"
      ],
      "metadata": {
        "id": "DHp1h9m-X7Rc"
      }
    },
    {
      "cell_type": "markdown",
      "metadata": {
        "id": "3m0ySYPfa7Zr"
      },
      "source": [
        "#### 4.01 Seteo del ambiente en Google Colab"
      ]
    },
    {
      "cell_type": "markdown",
      "metadata": {
        "id": "NGY7H9xza7Zr"
      },
      "source": [
        "Esta parte se debe correr con el runtime en Python3\n",
        "<br>Ir al menu, Runtime -> Change Runtime Type -> Runtime type ->  **Python 3**"
      ]
    },
    {
      "cell_type": "markdown",
      "metadata": {
        "id": "7PupIBNba7Zr"
      },
      "source": [
        "Conectar la virtual machine donde esta corriendo Google Colab con el  Google Drive, para poder tener persistencia de archivos"
      ]
    },
    {
      "cell_type": "code",
      "execution_count": null,
      "metadata": {
        "id": "9LpZCst5a7Zs",
        "outputId": "db6b06af-fe81-46a3-f7a5-91bb6d4953a3",
        "colab": {
          "base_uri": "https://localhost:8080/"
        }
      },
      "outputs": [
        {
          "output_type": "stream",
          "name": "stdout",
          "text": [
            "Mounted at /content/.drive\n"
          ]
        }
      ],
      "source": [
        "# primero establecer el Runtime de Python 3\n",
        "from google.colab import drive\n",
        "drive.mount('/content/.drive')"
      ]
    },
    {
      "cell_type": "markdown",
      "metadata": {
        "id": "JYC_F-wla7Zs"
      },
      "source": [
        "Para correr la siguiente celda es fundamental en Arranque en Frio haber copiado el archivo kaggle.json al Google Drive, en la carpeta indicada en el instructivo\n",
        "\n",
        "<br>los siguientes comando estan en shell script de Linux\n",
        "*   Crear las carpetas en el Google Drive\n",
        "*   \"instalar\" el archivo kaggle.json desde el Google Drive a la virtual machine para que pueda ser utilizado por la libreria  kaggle de Python\n",
        "*   Bajar el  **dataset_pequeno**  al  Google Drive  y tambien al disco local de la virtual machine que esta corriendo Google Colab\n",
        "\n"
      ]
    },
    {
      "cell_type": "code",
      "execution_count": null,
      "metadata": {
        "id": "XWLelftXa7Zt",
        "outputId": "b01d054c-44f1-4764-c22f-224b282b276f",
        "colab": {
          "base_uri": "https://localhost:8080/"
        }
      },
      "outputs": [
        {
          "output_type": "execute_result",
          "data": {
            "text/plain": []
          },
          "metadata": {},
          "execution_count": 2
        }
      ],
      "source": [
        "%%shell\n",
        "\n",
        "mkdir -p \"/content/.drive/My Drive/labo1\"\n",
        "mkdir -p \"/content/buckets\"\n",
        "ln -s \"/content/.drive/My Drive/labo1\" /content/buckets/b1\n",
        "\n",
        "mkdir -p ~/.kaggle\n",
        "cp /content/buckets/b1/kaggle/kaggle.json  ~/.kaggle\n",
        "chmod 600 ~/.kaggle/kaggle.json\n",
        "\n",
        "\n",
        "mkdir -p /content/buckets/b1/exp\n",
        "mkdir -p /content/buckets/b1/datasets\n",
        "mkdir -p /content/datasets\n",
        "\n",
        "\n",
        "\n",
        "archivo_origen=\"https://storage.googleapis.com/open-courses/austral2025-af91/dataset_pequeno.csv\"\n",
        "archivo_destino=\"/content/datasets/dataset_pequeno.csv\"\n",
        "archivo_destino_bucket=\"/content/buckets/b1/datasets/dataset_pequeno.csv\"\n",
        "\n",
        "if ! test -f $archivo_destino_bucket; then\n",
        "  wget  $archivo_origen  -O $archivo_destino_bucket\n",
        "fi\n",
        "\n",
        "\n",
        "if ! test -f $archivo_destino; then\n",
        "  cp  $archivo_destino_bucket  $archivo_destino\n",
        "fi"
      ]
    },
    {
      "cell_type": "markdown",
      "metadata": {
        "id": "Pc9x9DnsNlZv"
      },
      "source": [
        "\n",
        "\n",
        "---\n",
        "\n"
      ]
    },
    {
      "cell_type": "markdown",
      "source": [
        "## 4.02 Arboles Azarosos"
      ],
      "metadata": {
        "id": "qq0KVOtq1K5D"
      }
    },
    {
      "cell_type": "markdown",
      "source": [
        "Arboles Azarosos es el nombre de un algoritmo trivial (por favor NO confundir con Random Forest)\n",
        "Qué tipo de perturbaciones se realizan en Arboles Azarosos\n",
        "* Se perturba el dataset\n",
        "* No se perturba el algoritmo, es siempre rpart original"
      ],
      "metadata": {
        "id": "HsNJjhlRo9jM"
      }
    },
    {
      "cell_type": "markdown",
      "source": [
        "Cada  arbolito de  Arboles Azarosos se entrena sobre un dataset perturbado,  que tiene exactamente la misma cantidad de registros pero solo un subconjunto de los atributos (campos)  del dataset, tomados al azar, de los originales.\n",
        "<br> En esta primera corrida, se construira cada arbol en un dataset utilizando el 50% de los campos"
      ],
      "metadata": {
        "id": "rq2HC28CpXBR"
      }
    },
    {
      "cell_type": "markdown",
      "metadata": {
        "id": "eSU5vi00CPRS"
      },
      "source": [
        "Esta parte se debe correr con el runtime en lenguaje **R** Ir al menu, Runtime -> Change Runtime Type -> Runtime type -> R"
      ]
    },
    {
      "cell_type": "markdown",
      "metadata": {
        "id": "Zq8dySimCPRT"
      },
      "source": [
        "limpio el ambiente de R"
      ]
    },
    {
      "cell_type": "code",
      "source": [
        "format(Sys.time(), \"%a %b %d %X %Y\")"
      ],
      "metadata": {
        "id": "LrdtraBYJrsx",
        "outputId": "b2be3ffd-b656-48d3-cd93-a86b37b00fda",
        "colab": {
          "base_uri": "https://localhost:8080/",
          "height": 34
        }
      },
      "execution_count": null,
      "outputs": [
        {
          "output_type": "display_data",
          "data": {
            "text/html": [
              "'Wed Oct 22 10:51:36 AM 2025'"
            ],
            "text/markdown": "'Wed Oct 22 10:51:36 AM 2025'",
            "text/latex": "'Wed Oct 22 10:51:36 AM 2025'",
            "text/plain": [
              "[1] \"Wed Oct 22 10:51:36 AM 2025\""
            ]
          },
          "metadata": {}
        }
      ]
    },
    {
      "cell_type": "code",
      "execution_count": null,
      "metadata": {
        "id": "1iE0U4_WCPRT",
        "outputId": "76a113e9-41f8-4b09-b5ad-f67525692378",
        "colab": {
          "base_uri": "https://localhost:8080/",
          "height": 130
        }
      },
      "outputs": [
        {
          "output_type": "display_data",
          "data": {
            "text/html": [
              "<table class=\"dataframe\">\n",
              "<caption>A matrix: 2 × 6 of type dbl</caption>\n",
              "<thead>\n",
              "\t<tr><th></th><th scope=col>used</th><th scope=col>(Mb)</th><th scope=col>gc trigger</th><th scope=col>(Mb)</th><th scope=col>max used</th><th scope=col>(Mb)</th></tr>\n",
              "</thead>\n",
              "<tbody>\n",
              "\t<tr><th scope=row>Ncells</th><td> 660387</td><td>35.3</td><td>1454460</td><td>77.7</td><td>1454460</td><td>77.7</td></tr>\n",
              "\t<tr><th scope=row>Vcells</th><td>1226637</td><td> 9.4</td><td>8388608</td><td>64.0</td><td>1975128</td><td>15.1</td></tr>\n",
              "</tbody>\n",
              "</table>\n"
            ],
            "text/markdown": "\nA matrix: 2 × 6 of type dbl\n\n| <!--/--> | used | (Mb) | gc trigger | (Mb) | max used | (Mb) |\n|---|---|---|---|---|---|---|\n| Ncells |  660387 | 35.3 | 1454460 | 77.7 | 1454460 | 77.7 |\n| Vcells | 1226637 |  9.4 | 8388608 | 64.0 | 1975128 | 15.1 |\n\n",
            "text/latex": "A matrix: 2 × 6 of type dbl\n\\begin{tabular}{r|llllll}\n  & used & (Mb) & gc trigger & (Mb) & max used & (Mb)\\\\\n\\hline\n\tNcells &  660387 & 35.3 & 1454460 & 77.7 & 1454460 & 77.7\\\\\n\tVcells & 1226637 &  9.4 & 8388608 & 64.0 & 1975128 & 15.1\\\\\n\\end{tabular}\n",
            "text/plain": [
              "       used    (Mb) gc trigger (Mb) max used (Mb)\n",
              "Ncells  660387 35.3 1454460    77.7 1454460  77.7\n",
              "Vcells 1226637  9.4 8388608    64.0 1975128  15.1"
            ]
          },
          "metadata": {}
        }
      ],
      "source": [
        "# limpio la memoria\n",
        "rm(list=ls(all.names=TRUE)) # remove all objects\n",
        "gc(full=TRUE, verbose=FALSE) # garbage collection"
      ]
    },
    {
      "cell_type": "code",
      "execution_count": null,
      "metadata": {
        "id": "BJDwdD0dCPRU",
        "outputId": "1b1c9e81-d2cf-40a2-d0f8-048520008556",
        "colab": {
          "base_uri": "https://localhost:8080/"
        }
      },
      "outputs": [
        {
          "output_type": "stream",
          "name": "stderr",
          "text": [
            "Loading required package: data.table\n",
            "\n",
            "Loading required package: rpart\n",
            "\n"
          ]
        }
      ],
      "source": [
        "# cargo las librerias que necesito\n",
        "require(\"data.table\")\n",
        "require(\"rpart\")"
      ]
    },
    {
      "cell_type": "markdown",
      "source": [
        "Aqui debe cargar SU semilla primigenia"
      ],
      "metadata": {
        "id": "M8-Pyp6CCPRU"
      }
    },
    {
      "cell_type": "code",
      "source": [
        "PARAM <- list()\n",
        "PARAM$semilla_primigenia <- 163733\n",
        "\n",
        "# parametros  arbol\n",
        "# entreno cada arbol con solo 50% de las variables variables\n",
        "#  por ahora, es fijo\n",
        "PARAM$feature_fraction <- 0.5\n",
        "\n",
        "PARAM$rpart$cp <- -0.5\n",
        "PARAM$rpart$minsplit <- 800\n",
        "PARAM$rpart$minbucket <- 5\n",
        "PARAM$rpart$maxdepth <- 12\n",
        "\n",
        "# voy a generar 512 arboles,\n",
        "#  a mas arboles mas tiempo de proceso y MEJOR MODELO,\n",
        "#  pero ganancias marginales\n",
        "PARAM$num_trees_max <- 512"
      ],
      "metadata": {
        "id": "peRH7ySLCPRV"
      },
      "execution_count": null,
      "outputs": []
    },
    {
      "cell_type": "code",
      "source": [
        "# carpeta de trabajo\n",
        "setwd(\"/content/buckets/b1/exp\")\n",
        "experimento <- \"exp4020\"\n",
        "dir.create(experimento, showWarnings=FALSE)\n",
        "setwd( paste0(\"/content/buckets/b1/exp/\", experimento ))"
      ],
      "metadata": {
        "id": "1gZD6ZMvCPRV"
      },
      "execution_count": null,
      "outputs": []
    },
    {
      "cell_type": "code",
      "source": [
        "# lectura del dataset\n",
        "dataset <- fread(\"/content/datasets/dataset_pequeno.csv\")"
      ],
      "metadata": {
        "id": "Xi0emX2ECPRV"
      },
      "execution_count": null,
      "outputs": []
    },
    {
      "cell_type": "code",
      "source": [
        "# defino los dataset de entrenamiento y aplicacion\n",
        "dtrain <- dataset[foto_mes == 202107]\n",
        "dfuture <- dataset[foto_mes == 202109]\n",
        "\n",
        "# arreglo clase_ternaria por algun distraido \"\"\n",
        "dfuture[, clase_ternaria := NA ]"
      ],
      "metadata": {
        "id": "RA3cSJ6KaGwA"
      },
      "execution_count": null,
      "outputs": []
    },
    {
      "cell_type": "code",
      "source": [
        "# Establezco cuales son los campos que puedo usar para la prediccion\n",
        "# el copy() es por la Lazy Evaluation\n",
        "campos_buenos <- copy(setdiff(colnames(dtrain), c(\"clase_ternaria\")))"
      ],
      "metadata": {
        "id": "EByLkVMwaC8K"
      },
      "execution_count": null,
      "outputs": []
    },
    {
      "cell_type": "code",
      "source": [
        "# que tamanos de ensemble grabo a disco\n",
        "grabar <- c(1, 2, 4, 8, 16, 32, 64, 128, 256, 384, 512)"
      ],
      "metadata": {
        "id": "rHMrHwwpaB8D"
      },
      "execution_count": null,
      "outputs": []
    },
    {
      "cell_type": "code",
      "source": [
        "tb_prediccion <- dfuture[, list(numero_de_cliente)]\n",
        "# aqui se va acumulando la probabilidad del ensemble\n",
        "tb_prediccion[, prob_acumulada := 0]"
      ],
      "metadata": {
        "id": "bJHS2aeghw6I"
      },
      "execution_count": null,
      "outputs": []
    },
    {
      "cell_type": "code",
      "source": [
        "set.seed(PARAM$semilla_primigenia) # Establezco la semilla aleatoria"
      ],
      "metadata": {
        "id": "H_DGUB_fhzHr"
      },
      "execution_count": null,
      "outputs": []
    },
    {
      "cell_type": "code",
      "source": [
        "for (arbolito in seq(PARAM$num_trees_max) ) {\n",
        "  message( arbolito, \" \")\n",
        "  qty_campos_a_utilizar <- as.integer(length(campos_buenos)\n",
        "    * PARAM$feature_fraction)\n",
        "\n",
        "  # elijo los campos al azar\n",
        "  campos_random <- sample(campos_buenos, qty_campos_a_utilizar)\n",
        "\n",
        "  # paso de un vector a un string con los elementos\n",
        "  # separados por un signo de \"+\"\n",
        "  # este hace falta para la formula\n",
        "  campos_random <- paste(campos_random, collapse= \" + \")\n",
        "\n",
        "  # armo la formula para rpart\n",
        "  formulita <- paste0(\"clase_ternaria ~ \", campos_random)\n",
        "\n",
        "  # genero el arbol de decision\n",
        "  modelo <- rpart(formulita,\n",
        "    data= dtrain,\n",
        "    xval= 0,\n",
        "    control= PARAM$rpart\n",
        "  )\n",
        "\n",
        "  # aplico el modelo a los datos que no tienen clase\n",
        "  prediccion <- predict(modelo, dfuture, type= \"prob\")\n",
        "\n",
        "  tb_prediccion[, prob_acumulada := prob_acumulada + prediccion[, \"BAJA+2\"]]\n",
        "\n",
        "  if (arbolito %in% grabar) {\n",
        "    umbral_corte <- (1 / 40) * arbolito\n",
        "    tb_prediccion[, Predicted := as.numeric(prob_acumulada > umbral_corte)]\n",
        "\n",
        "    archivo_kaggle <- paste0(\n",
        "        \"KA420_\",\n",
        "        sprintf(\"%.3d\", arbolito), # para que tenga ceros adelante\n",
        "        \".csv\"\n",
        "      )\n",
        "\n",
        "    # grabo el archivo\n",
        "    fwrite( tb_prediccion[, list(numero_de_cliente, Predicted)],\n",
        "      file= archivo_kaggle,\n",
        "      sep= \",\"\n",
        "    )\n",
        "\n",
        "    # subida a Kaggle\n",
        "    comando <- \"kaggle competitions submit\"\n",
        "    competencia <- \"-c labo-i-2025-virtual-analista-sr\"\n",
        "    arch <- paste( \"-f\", archivo_kaggle)\n",
        "\n",
        "    mensaje <- paste0(\"-m 'cp=\", PARAM$rpart$cp, \"  minsplit=\", PARAM$rpart$minsplit, \"  minbucket=\", PARAM$rpart$minbucket, \" maxdepth=\", PARAM$rpart$maxdepth, \"'\" )\n",
        "    linea <- paste( comando, competencia, arch, mensaje)\n",
        "    salida <- system(linea, intern=TRUE)\n",
        "    cat(salida)\n",
        "  }\n",
        "}\n"
      ],
      "metadata": {
        "id": "j-xp2HQDhFmY",
        "outputId": "3e3ceb34-50fe-40f1-93d7-d4d87e21a0dd",
        "colab": {
          "base_uri": "https://localhost:8080/"
        }
      },
      "execution_count": null,
      "outputs": [
        {
          "output_type": "stream",
          "name": "stderr",
          "text": [
            "1 \n",
            "\n"
          ]
        },
        {
          "output_type": "stream",
          "name": "stdout",
          "text": [
            "Successfully submitted to LaboI 2025 virtual analista sr"
          ]
        },
        {
          "output_type": "stream",
          "name": "stderr",
          "text": [
            "2 \n",
            "\n"
          ]
        },
        {
          "output_type": "stream",
          "name": "stdout",
          "text": [
            "Successfully submitted to LaboI 2025 virtual analista sr"
          ]
        },
        {
          "output_type": "stream",
          "name": "stderr",
          "text": [
            "3 \n",
            "\n",
            "4 \n",
            "\n"
          ]
        },
        {
          "output_type": "stream",
          "name": "stdout",
          "text": [
            "Successfully submitted to LaboI 2025 virtual analista sr"
          ]
        },
        {
          "output_type": "stream",
          "name": "stderr",
          "text": [
            "5 \n",
            "\n",
            "6 \n",
            "\n",
            "7 \n",
            "\n",
            "8 \n",
            "\n"
          ]
        },
        {
          "output_type": "stream",
          "name": "stdout",
          "text": [
            "Successfully submitted to LaboI 2025 virtual analista sr"
          ]
        },
        {
          "output_type": "stream",
          "name": "stderr",
          "text": [
            "9 \n",
            "\n",
            "10 \n",
            "\n",
            "11 \n",
            "\n",
            "12 \n",
            "\n",
            "13 \n",
            "\n",
            "14 \n",
            "\n",
            "15 \n",
            "\n",
            "16 \n",
            "\n"
          ]
        },
        {
          "output_type": "stream",
          "name": "stdout",
          "text": [
            "Successfully submitted to LaboI 2025 virtual analista sr"
          ]
        },
        {
          "output_type": "stream",
          "name": "stderr",
          "text": [
            "17 \n",
            "\n",
            "18 \n",
            "\n",
            "19 \n",
            "\n",
            "20 \n",
            "\n",
            "21 \n",
            "\n",
            "22 \n",
            "\n",
            "23 \n",
            "\n",
            "24 \n",
            "\n",
            "25 \n",
            "\n",
            "26 \n",
            "\n",
            "27 \n",
            "\n",
            "28 \n",
            "\n",
            "29 \n",
            "\n",
            "30 \n",
            "\n",
            "31 \n",
            "\n",
            "32 \n",
            "\n"
          ]
        },
        {
          "output_type": "stream",
          "name": "stdout",
          "text": [
            "Successfully submitted to LaboI 2025 virtual analista sr"
          ]
        },
        {
          "output_type": "stream",
          "name": "stderr",
          "text": [
            "33 \n",
            "\n",
            "34 \n",
            "\n",
            "35 \n",
            "\n",
            "36 \n",
            "\n",
            "37 \n",
            "\n",
            "38 \n",
            "\n",
            "39 \n",
            "\n",
            "40 \n",
            "\n",
            "41 \n",
            "\n",
            "42 \n",
            "\n",
            "43 \n",
            "\n",
            "44 \n",
            "\n",
            "45 \n",
            "\n",
            "46 \n",
            "\n",
            "47 \n",
            "\n",
            "48 \n",
            "\n",
            "49 \n",
            "\n",
            "50 \n",
            "\n",
            "51 \n",
            "\n",
            "52 \n",
            "\n",
            "53 \n",
            "\n",
            "54 \n",
            "\n",
            "55 \n",
            "\n",
            "56 \n",
            "\n",
            "57 \n",
            "\n",
            "58 \n",
            "\n",
            "59 \n",
            "\n",
            "60 \n",
            "\n",
            "61 \n",
            "\n",
            "62 \n",
            "\n",
            "63 \n",
            "\n",
            "64 \n",
            "\n"
          ]
        },
        {
          "output_type": "stream",
          "name": "stdout",
          "text": [
            "Successfully submitted to LaboI 2025 virtual analista sr"
          ]
        },
        {
          "output_type": "stream",
          "name": "stderr",
          "text": [
            "65 \n",
            "\n",
            "66 \n",
            "\n",
            "67 \n",
            "\n",
            "68 \n",
            "\n",
            "69 \n",
            "\n",
            "70 \n",
            "\n",
            "71 \n",
            "\n",
            "72 \n",
            "\n",
            "73 \n",
            "\n",
            "74 \n",
            "\n",
            "75 \n",
            "\n",
            "76 \n",
            "\n",
            "77 \n",
            "\n",
            "78 \n",
            "\n",
            "79 \n",
            "\n",
            "80 \n",
            "\n",
            "81 \n",
            "\n",
            "82 \n",
            "\n",
            "83 \n",
            "\n",
            "84 \n",
            "\n",
            "85 \n",
            "\n",
            "86 \n",
            "\n",
            "87 \n",
            "\n",
            "88 \n",
            "\n",
            "89 \n",
            "\n",
            "90 \n",
            "\n",
            "91 \n",
            "\n",
            "92 \n",
            "\n",
            "93 \n",
            "\n",
            "94 \n",
            "\n",
            "95 \n",
            "\n",
            "96 \n",
            "\n",
            "97 \n",
            "\n",
            "98 \n",
            "\n",
            "99 \n",
            "\n",
            "100 \n",
            "\n",
            "101 \n",
            "\n",
            "102 \n",
            "\n",
            "103 \n",
            "\n",
            "104 \n",
            "\n",
            "105 \n",
            "\n",
            "106 \n",
            "\n",
            "107 \n",
            "\n",
            "108 \n",
            "\n",
            "109 \n",
            "\n",
            "110 \n",
            "\n",
            "111 \n",
            "\n",
            "112 \n",
            "\n",
            "113 \n",
            "\n",
            "114 \n",
            "\n",
            "115 \n",
            "\n",
            "116 \n",
            "\n",
            "117 \n",
            "\n",
            "118 \n",
            "\n",
            "119 \n",
            "\n",
            "120 \n",
            "\n",
            "121 \n",
            "\n",
            "122 \n",
            "\n",
            "123 \n",
            "\n",
            "124 \n",
            "\n",
            "125 \n",
            "\n",
            "126 \n",
            "\n",
            "127 \n",
            "\n",
            "128 \n",
            "\n"
          ]
        },
        {
          "output_type": "stream",
          "name": "stdout",
          "text": [
            "Successfully submitted to LaboI 2025 virtual analista sr"
          ]
        },
        {
          "output_type": "stream",
          "name": "stderr",
          "text": [
            "129 \n",
            "\n",
            "130 \n",
            "\n",
            "131 \n",
            "\n",
            "132 \n",
            "\n",
            "133 \n",
            "\n",
            "134 \n",
            "\n",
            "135 \n",
            "\n",
            "136 \n",
            "\n",
            "137 \n",
            "\n",
            "138 \n",
            "\n",
            "139 \n",
            "\n",
            "140 \n",
            "\n",
            "141 \n",
            "\n",
            "142 \n",
            "\n",
            "143 \n",
            "\n",
            "144 \n",
            "\n",
            "145 \n",
            "\n",
            "146 \n",
            "\n",
            "147 \n",
            "\n",
            "148 \n",
            "\n",
            "149 \n",
            "\n",
            "150 \n",
            "\n",
            "151 \n",
            "\n",
            "152 \n",
            "\n",
            "153 \n",
            "\n",
            "154 \n",
            "\n",
            "155 \n",
            "\n",
            "156 \n",
            "\n",
            "157 \n",
            "\n",
            "158 \n",
            "\n",
            "159 \n",
            "\n",
            "160 \n",
            "\n",
            "161 \n",
            "\n",
            "162 \n",
            "\n",
            "163 \n",
            "\n",
            "164 \n",
            "\n",
            "165 \n",
            "\n",
            "166 \n",
            "\n",
            "167 \n",
            "\n",
            "168 \n",
            "\n",
            "169 \n",
            "\n",
            "170 \n",
            "\n",
            "171 \n",
            "\n",
            "172 \n",
            "\n",
            "173 \n",
            "\n",
            "174 \n",
            "\n",
            "175 \n",
            "\n",
            "176 \n",
            "\n",
            "177 \n",
            "\n",
            "178 \n",
            "\n",
            "179 \n",
            "\n",
            "180 \n",
            "\n",
            "181 \n",
            "\n",
            "182 \n",
            "\n",
            "183 \n",
            "\n",
            "184 \n",
            "\n",
            "185 \n",
            "\n",
            "186 \n",
            "\n",
            "187 \n",
            "\n",
            "188 \n",
            "\n",
            "189 \n",
            "\n",
            "190 \n",
            "\n",
            "191 \n",
            "\n",
            "192 \n",
            "\n",
            "193 \n",
            "\n",
            "194 \n",
            "\n",
            "195 \n",
            "\n",
            "196 \n",
            "\n",
            "197 \n",
            "\n",
            "198 \n",
            "\n",
            "199 \n",
            "\n",
            "200 \n",
            "\n",
            "201 \n",
            "\n",
            "202 \n",
            "\n",
            "203 \n",
            "\n",
            "204 \n",
            "\n",
            "205 \n",
            "\n",
            "206 \n",
            "\n",
            "207 \n",
            "\n",
            "208 \n",
            "\n",
            "209 \n",
            "\n",
            "210 \n",
            "\n",
            "211 \n",
            "\n",
            "212 \n",
            "\n",
            "213 \n",
            "\n",
            "214 \n",
            "\n",
            "215 \n",
            "\n",
            "216 \n",
            "\n",
            "217 \n",
            "\n",
            "218 \n",
            "\n",
            "219 \n",
            "\n",
            "220 \n",
            "\n",
            "221 \n",
            "\n",
            "222 \n",
            "\n",
            "223 \n",
            "\n",
            "224 \n",
            "\n",
            "225 \n",
            "\n",
            "226 \n",
            "\n",
            "227 \n",
            "\n",
            "228 \n",
            "\n",
            "229 \n",
            "\n",
            "230 \n",
            "\n",
            "231 \n",
            "\n",
            "232 \n",
            "\n",
            "233 \n",
            "\n",
            "234 \n",
            "\n",
            "235 \n",
            "\n",
            "236 \n",
            "\n",
            "237 \n",
            "\n",
            "238 \n",
            "\n",
            "239 \n",
            "\n",
            "240 \n",
            "\n",
            "241 \n",
            "\n",
            "242 \n",
            "\n",
            "243 \n",
            "\n",
            "244 \n",
            "\n",
            "245 \n",
            "\n",
            "246 \n",
            "\n",
            "247 \n",
            "\n",
            "248 \n",
            "\n",
            "249 \n",
            "\n",
            "250 \n",
            "\n",
            "251 \n",
            "\n",
            "252 \n",
            "\n",
            "253 \n",
            "\n",
            "254 \n",
            "\n",
            "255 \n",
            "\n",
            "256 \n",
            "\n"
          ]
        },
        {
          "output_type": "stream",
          "name": "stdout",
          "text": [
            "Successfully submitted to LaboI 2025 virtual analista sr"
          ]
        },
        {
          "output_type": "stream",
          "name": "stderr",
          "text": [
            "257 \n",
            "\n",
            "258 \n",
            "\n",
            "259 \n",
            "\n",
            "260 \n",
            "\n",
            "261 \n",
            "\n",
            "262 \n",
            "\n",
            "263 \n",
            "\n",
            "264 \n",
            "\n",
            "265 \n",
            "\n",
            "266 \n",
            "\n",
            "267 \n",
            "\n",
            "268 \n",
            "\n",
            "269 \n",
            "\n",
            "270 \n",
            "\n",
            "271 \n",
            "\n",
            "272 \n",
            "\n",
            "273 \n",
            "\n",
            "274 \n",
            "\n",
            "275 \n",
            "\n",
            "276 \n",
            "\n",
            "277 \n",
            "\n",
            "278 \n",
            "\n",
            "279 \n",
            "\n",
            "280 \n",
            "\n",
            "281 \n",
            "\n",
            "282 \n",
            "\n",
            "283 \n",
            "\n",
            "284 \n",
            "\n",
            "285 \n",
            "\n",
            "286 \n",
            "\n",
            "287 \n",
            "\n",
            "288 \n",
            "\n",
            "289 \n",
            "\n",
            "290 \n",
            "\n",
            "291 \n",
            "\n",
            "292 \n",
            "\n",
            "293 \n",
            "\n",
            "294 \n",
            "\n",
            "295 \n",
            "\n",
            "296 \n",
            "\n",
            "297 \n",
            "\n",
            "298 \n",
            "\n",
            "299 \n",
            "\n",
            "300 \n",
            "\n",
            "301 \n",
            "\n",
            "302 \n",
            "\n",
            "303 \n",
            "\n",
            "304 \n",
            "\n",
            "305 \n",
            "\n",
            "306 \n",
            "\n",
            "307 \n",
            "\n",
            "308 \n",
            "\n",
            "309 \n",
            "\n",
            "310 \n",
            "\n",
            "311 \n",
            "\n",
            "312 \n",
            "\n",
            "313 \n",
            "\n",
            "314 \n",
            "\n",
            "315 \n",
            "\n",
            "316 \n",
            "\n",
            "317 \n",
            "\n",
            "318 \n",
            "\n",
            "319 \n",
            "\n",
            "320 \n",
            "\n",
            "321 \n",
            "\n",
            "322 \n",
            "\n",
            "323 \n",
            "\n",
            "324 \n",
            "\n",
            "325 \n",
            "\n",
            "326 \n",
            "\n",
            "327 \n",
            "\n",
            "328 \n",
            "\n",
            "329 \n",
            "\n",
            "330 \n",
            "\n",
            "331 \n",
            "\n",
            "332 \n",
            "\n",
            "333 \n",
            "\n",
            "334 \n",
            "\n",
            "335 \n",
            "\n",
            "336 \n",
            "\n",
            "337 \n",
            "\n",
            "338 \n",
            "\n",
            "339 \n",
            "\n",
            "340 \n",
            "\n",
            "341 \n",
            "\n",
            "342 \n",
            "\n",
            "343 \n",
            "\n",
            "344 \n",
            "\n",
            "345 \n",
            "\n",
            "346 \n",
            "\n",
            "347 \n",
            "\n",
            "348 \n",
            "\n",
            "349 \n",
            "\n",
            "350 \n",
            "\n",
            "351 \n",
            "\n",
            "352 \n",
            "\n",
            "353 \n",
            "\n",
            "354 \n",
            "\n",
            "355 \n",
            "\n",
            "356 \n",
            "\n",
            "357 \n",
            "\n",
            "358 \n",
            "\n",
            "359 \n",
            "\n",
            "360 \n",
            "\n",
            "361 \n",
            "\n",
            "362 \n",
            "\n",
            "363 \n",
            "\n",
            "364 \n",
            "\n",
            "365 \n",
            "\n",
            "366 \n",
            "\n",
            "367 \n",
            "\n",
            "368 \n",
            "\n",
            "369 \n",
            "\n",
            "370 \n",
            "\n",
            "371 \n",
            "\n",
            "372 \n",
            "\n",
            "373 \n",
            "\n",
            "374 \n",
            "\n",
            "375 \n",
            "\n",
            "376 \n",
            "\n",
            "377 \n",
            "\n",
            "378 \n",
            "\n",
            "379 \n",
            "\n",
            "380 \n",
            "\n",
            "381 \n",
            "\n",
            "382 \n",
            "\n",
            "383 \n",
            "\n",
            "384 \n",
            "\n"
          ]
        },
        {
          "output_type": "stream",
          "name": "stdout",
          "text": [
            "Successfully submitted to LaboI 2025 virtual analista sr"
          ]
        },
        {
          "output_type": "stream",
          "name": "stderr",
          "text": [
            "385 \n",
            "\n",
            "386 \n",
            "\n",
            "387 \n",
            "\n",
            "388 \n",
            "\n",
            "389 \n",
            "\n",
            "390 \n",
            "\n",
            "391 \n",
            "\n",
            "392 \n",
            "\n",
            "393 \n",
            "\n",
            "394 \n",
            "\n",
            "395 \n",
            "\n",
            "396 \n",
            "\n",
            "397 \n",
            "\n",
            "398 \n",
            "\n",
            "399 \n",
            "\n",
            "400 \n",
            "\n",
            "401 \n",
            "\n",
            "402 \n",
            "\n",
            "403 \n",
            "\n",
            "404 \n",
            "\n",
            "405 \n",
            "\n",
            "406 \n",
            "\n",
            "407 \n",
            "\n",
            "408 \n",
            "\n",
            "409 \n",
            "\n",
            "410 \n",
            "\n",
            "411 \n",
            "\n",
            "412 \n",
            "\n",
            "413 \n",
            "\n",
            "414 \n",
            "\n",
            "415 \n",
            "\n",
            "416 \n",
            "\n",
            "417 \n",
            "\n",
            "418 \n",
            "\n",
            "419 \n",
            "\n",
            "420 \n",
            "\n",
            "421 \n",
            "\n",
            "422 \n",
            "\n",
            "423 \n",
            "\n",
            "424 \n",
            "\n",
            "425 \n",
            "\n",
            "426 \n",
            "\n",
            "427 \n",
            "\n",
            "428 \n",
            "\n",
            "429 \n",
            "\n",
            "430 \n",
            "\n",
            "431 \n",
            "\n",
            "432 \n",
            "\n",
            "433 \n",
            "\n",
            "434 \n",
            "\n",
            "435 \n",
            "\n",
            "436 \n",
            "\n",
            "437 \n",
            "\n",
            "438 \n",
            "\n",
            "439 \n",
            "\n",
            "440 \n",
            "\n",
            "441 \n",
            "\n",
            "442 \n",
            "\n",
            "443 \n",
            "\n",
            "444 \n",
            "\n",
            "445 \n",
            "\n",
            "446 \n",
            "\n",
            "447 \n",
            "\n",
            "448 \n",
            "\n",
            "449 \n",
            "\n",
            "450 \n",
            "\n",
            "451 \n",
            "\n",
            "452 \n",
            "\n",
            "453 \n",
            "\n",
            "454 \n",
            "\n",
            "455 \n",
            "\n",
            "456 \n",
            "\n",
            "457 \n",
            "\n",
            "458 \n",
            "\n",
            "459 \n",
            "\n",
            "460 \n",
            "\n",
            "461 \n",
            "\n",
            "462 \n",
            "\n",
            "463 \n",
            "\n",
            "464 \n",
            "\n",
            "465 \n",
            "\n",
            "466 \n",
            "\n",
            "467 \n",
            "\n",
            "468 \n",
            "\n",
            "469 \n",
            "\n",
            "470 \n",
            "\n",
            "471 \n",
            "\n",
            "472 \n",
            "\n",
            "473 \n",
            "\n",
            "474 \n",
            "\n",
            "475 \n",
            "\n",
            "476 \n",
            "\n",
            "477 \n",
            "\n",
            "478 \n",
            "\n",
            "479 \n",
            "\n",
            "480 \n",
            "\n",
            "481 \n",
            "\n",
            "482 \n",
            "\n",
            "483 \n",
            "\n",
            "484 \n",
            "\n",
            "485 \n",
            "\n",
            "486 \n",
            "\n",
            "487 \n",
            "\n",
            "488 \n",
            "\n",
            "489 \n",
            "\n",
            "490 \n",
            "\n",
            "491 \n",
            "\n",
            "492 \n",
            "\n",
            "493 \n",
            "\n",
            "494 \n",
            "\n",
            "495 \n",
            "\n",
            "496 \n",
            "\n",
            "497 \n",
            "\n",
            "498 \n",
            "\n",
            "499 \n",
            "\n",
            "500 \n",
            "\n",
            "501 \n",
            "\n",
            "502 \n",
            "\n",
            "503 \n",
            "\n",
            "504 \n",
            "\n",
            "505 \n",
            "\n",
            "506 \n",
            "\n",
            "507 \n",
            "\n",
            "508 \n",
            "\n",
            "509 \n",
            "\n",
            "510 \n",
            "\n",
            "511 \n",
            "\n",
            "512 \n",
            "\n"
          ]
        },
        {
          "output_type": "stream",
          "name": "stdout",
          "text": [
            "Successfully submitted to LaboI 2025 virtual analista sr"
          ]
        }
      ]
    },
    {
      "cell_type": "code",
      "source": [
        "format(Sys.time(), \"%a %b %d %X %Y\")"
      ],
      "metadata": {
        "id": "lgmvRHcfJpls",
        "outputId": "a2166249-0cf3-41dc-972a-4f79969df4c9",
        "colab": {
          "base_uri": "https://localhost:8080/",
          "height": 34
        }
      },
      "execution_count": null,
      "outputs": [
        {
          "output_type": "display_data",
          "data": {
            "text/html": [
              "'Wed Oct 22 07:25:42 PM 2025'"
            ],
            "text/markdown": "'Wed Oct 22 07:25:42 PM 2025'",
            "text/latex": "'Wed Oct 22 07:25:42 PM 2025'",
            "text/plain": [
              "[1] \"Wed Oct 22 07:25:42 PM 2025\""
            ]
          },
          "metadata": {}
        }
      ]
    },
    {
      "cell_type": "markdown",
      "metadata": {
        "id": "UMr6Z1enOyd3"
      },
      "source": [
        "\n",
        "\n",
        "---\n",
        "\n"
      ]
    }
  ]
}