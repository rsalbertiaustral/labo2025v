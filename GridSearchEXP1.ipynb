{
  "nbformat": 4,
  "nbformat_minor": 0,
  "metadata": {
    "colab": {
      "provenance": [],
      "authorship_tag": "ABX9TyO/H32qcPpGBgMSIiOdS/JX",
      "include_colab_link": true
    },
    "kernelspec": {
      "name": "ir",
      "display_name": "R"
    },
    "language_info": {
      "name": "R"
    }
  },
  "cells": [
    {
      "cell_type": "markdown",
      "metadata": {
        "id": "view-in-github",
        "colab_type": "text"
      },
      "source": [
        "<a href=\"https://colab.research.google.com/github/rsalbertiaustral/labo2025v/blob/main/GridSearchEXP1.ipynb\" target=\"_parent\"><img src=\"https://colab.research.google.com/assets/colab-badge.svg\" alt=\"Open In Colab\"/></a>"
      ]
    },
    {
      "cell_type": "markdown",
      "source": [
        "**Seteo del ambiente en Google Colab**\n",
        "\n",
        "Esta parte se debe correr con el runtime en Python3\n",
        "Ir al menu, Runtime -> Change Runtime Tipe -> Runtime type -> Python 3\n",
        "\n",
        "Conectar la virtual machine donde esta corriendo Google Colab con el Google Drive, para poder tener persistencia de archivos"
      ],
      "metadata": {
        "id": "hxfJKxmMv9am"
      }
    },
    {
      "cell_type": "code",
      "source": [
        "# primero establecer el Runtime de Python 3\n",
        "from google.colab import drive\n",
        "drive.mount('/content/.drive')"
      ],
      "metadata": {
        "colab": {
          "base_uri": "https://localhost:8080/"
        },
        "id": "EYfz4qtWwcMN",
        "outputId": "4179a623-92da-42de-f547-76180b140869"
      },
      "execution_count": 1,
      "outputs": [
        {
          "output_type": "stream",
          "name": "stdout",
          "text": [
            "Mounted at /content/.drive\n"
          ]
        }
      ]
    },
    {
      "cell_type": "markdown",
      "source": [
        "Para correr la siguiente celda es fundamental en Arranque en Frio haber copiado el archivo kaggle.json al Google Drive, en la carpeta indicada en el instructivo\n",
        "\n",
        "\n",
        "los siguientes comando estan en shell script de Linux\n",
        "\n",
        "**Crear las carpetas en el Google Drive**\n",
        "\"instalar\" el archivo kaggle.json desde el Google Drive a la virtual machine para que pueda ser utilizado por la libreria kaggle de Python\n",
        "Bajar el dataset_pequeno al Google Drive y tambien al disco local de la virtual machine que esta corriendo Google Colab"
      ],
      "metadata": {
        "id": "yyvrtMlDwro0"
      }
    },
    {
      "cell_type": "code",
      "source": [
        "%%shell\n",
        "\n",
        "mkdir -p \"/content/.drive/My Drive/labo1\"\n",
        "mkdir -p \"/content/buckets\"\n",
        "ln -s \"/content/.drive/My Drive/labo1\" /content/buckets/b1\n",
        "\n",
        "mkdir -p ~/.kaggle\n",
        "cp /content/buckets/b1/kaggle/kaggle.json  ~/.kaggle\n",
        "chmod 600 ~/.kaggle/kaggle.json\n",
        "\n",
        "\n",
        "mkdir -p /content/buckets/b1/exp\n",
        "mkdir -p /content/buckets/b1/datasets\n",
        "mkdir -p /content/datasets\n",
        "\n",
        "\n",
        "\n",
        "archivo_origen=\"https://storage.googleapis.com/open-courses/austral2025-af91/dataset_pequeno.csv\"\n",
        "archivo_destino=\"/content/datasets/dataset_pequeno.csv\"\n",
        "archivo_destino_bucket=\"/content/buckets/b1/datasets/dataset_pequeno.csv\"\n",
        "\n",
        "if ! test -f $archivo_destino_bucket; then\n",
        "  wget  $archivo_origen  -O $archivo_destino_bucket\n",
        "fi\n",
        "\n",
        "\n",
        "if ! test -f $archivo_destino; then\n",
        "  cp  $archivo_destino_bucket  $archivo_destino\n",
        "fi"
      ],
      "metadata": {
        "colab": {
          "base_uri": "https://localhost:8080/"
        },
        "id": "5ao0RdKlwx_t",
        "outputId": "dc108b5a-9d19-440a-d402-8205ef22be80"
      },
      "execution_count": 2,
      "outputs": [
        {
          "output_type": "execute_result",
          "data": {
            "text/plain": []
          },
          "metadata": {},
          "execution_count": 2
        }
      ]
    },
    {
      "cell_type": "markdown",
      "source": [
        "limpio el ambiente de R"
      ],
      "metadata": {
        "id": "pAJ-il6pxP5l"
      }
    },
    {
      "cell_type": "code",
      "source": [
        "# limpio la memoria\n",
        "rm(list=ls(all.names=TRUE)) # remove all objects\n",
        "gc(full=TRUE, verbose=FALSE) # garbage collection"
      ],
      "metadata": {
        "colab": {
          "base_uri": "https://localhost:8080/",
          "height": 129
        },
        "id": "cMnQynymxRWN",
        "outputId": "f3c70628-a4cb-47c4-9970-5879f6cd312e"
      },
      "execution_count": 1,
      "outputs": [
        {
          "output_type": "display_data",
          "data": {
            "text/html": [
              "<table class=\"dataframe\">\n",
              "<caption>A matrix: 2 × 6 of type dbl</caption>\n",
              "<thead>\n",
              "\t<tr><th></th><th scope=col>used</th><th scope=col>(Mb)</th><th scope=col>gc trigger</th><th scope=col>(Mb)</th><th scope=col>max used</th><th scope=col>(Mb)</th></tr>\n",
              "</thead>\n",
              "<tbody>\n",
              "\t<tr><th scope=row>Ncells</th><td> 657251</td><td>35.2</td><td>1454460</td><td>77.7</td><td>1367470</td><td>73.1</td></tr>\n",
              "\t<tr><th scope=row>Vcells</th><td>1220297</td><td> 9.4</td><td>8388608</td><td>64.0</td><td>1975127</td><td>15.1</td></tr>\n",
              "</tbody>\n",
              "</table>\n"
            ],
            "text/markdown": "\nA matrix: 2 × 6 of type dbl\n\n| <!--/--> | used | (Mb) | gc trigger | (Mb) | max used | (Mb) |\n|---|---|---|---|---|---|---|\n| Ncells |  657251 | 35.2 | 1454460 | 77.7 | 1367470 | 73.1 |\n| Vcells | 1220297 |  9.4 | 8388608 | 64.0 | 1975127 | 15.1 |\n\n",
            "text/latex": "A matrix: 2 × 6 of type dbl\n\\begin{tabular}{r|llllll}\n  & used & (Mb) & gc trigger & (Mb) & max used & (Mb)\\\\\n\\hline\n\tNcells &  657251 & 35.2 & 1454460 & 77.7 & 1367470 & 73.1\\\\\n\tVcells & 1220297 &  9.4 & 8388608 & 64.0 & 1975127 & 15.1\\\\\n\\end{tabular}\n",
            "text/plain": [
              "       used    (Mb) gc trigger (Mb) max used (Mb)\n",
              "Ncells  657251 35.2 1454460    77.7 1367470  73.1\n",
              "Vcells 1220297  9.4 8388608    64.0 1975127  15.1"
            ]
          },
          "metadata": {}
        }
      ]
    },
    {
      "cell_type": "code",
      "source": [
        "# cargo las librerias que necesito\n",
        "require(\"data.table\")\n",
        "require(\"rpart\")\n",
        "require(\"parallel\")\n",
        "if (!require(\"primes\")) install.packages(\"primes\")\n",
        "require(\"primes\")"
      ],
      "metadata": {
        "colab": {
          "base_uri": "https://localhost:8080/"
        },
        "id": "QaYPQm1SyGAW",
        "outputId": "9cc99418-ec58-42f4-fa50-6dded662b20f"
      },
      "execution_count": 2,
      "outputs": [
        {
          "output_type": "stream",
          "name": "stderr",
          "text": [
            "Loading required package: data.table\n",
            "\n",
            "Loading required package: rpart\n",
            "\n",
            "Loading required package: parallel\n",
            "\n",
            "Loading required package: primes\n",
            "\n",
            "Warning message in library(package, lib.loc = lib.loc, character.only = TRUE, logical.return = TRUE, :\n",
            "“there is no package called ‘primes’”\n",
            "Installing package into ‘/usr/local/lib/R/site-library’\n",
            "(as ‘lib’ is unspecified)\n",
            "\n",
            "Loading required package: primes\n",
            "\n"
          ]
        }
      ]
    },
    {
      "cell_type": "markdown",
      "source": [
        "Aqui debe poner SU semiila primigenia"
      ],
      "metadata": {
        "id": "TdFZtRH9yRzs"
      }
    },
    {
      "cell_type": "code",
      "source": [
        "PARAM <- list()\n",
        "# reemplazar por su primer semilla\n",
        "PARAM$semilla_primigenia <- 163733\n",
        "PARAM$qsemillas <- 1\n",
        "\n",
        "PARAM$training_pct <- 70L  # entre  1L y 99L\n",
        "\n",
        "# elegir SU dataset comentando/ descomentando\n",
        "PARAM$dataset_nom <- \"~/datasets/dataset_pequeno.csv\""
      ],
      "metadata": {
        "id": "Kjtt8njxyTj8"
      },
      "execution_count": 3,
      "outputs": []
    },
    {
      "cell_type": "code",
      "source": [
        "# particionar agrega una columna llamada fold a un dataset\n",
        "#  que consiste en una particion estratificada segun agrupa\n",
        "# particionar( data=dataset, division=c(70,30), agrupa=clase_ternaria, seed=semilla)\n",
        "#   crea una particion 70, 30\n",
        "\n",
        "particionar <- function(data, division, agrupa = \"\", campo = \"fold\", start = 1, seed = NA) {\n",
        "  if (!is.na(seed)) set.seed(seed)\n",
        "\n",
        "  bloque <- unlist(mapply(function(x, y) {\n",
        "    rep(y, x)\n",
        "  }, division, seq(from = start, length.out = length(division))))\n",
        "\n",
        "  data[, (campo) := sample(rep(bloque, ceiling(.N / length(bloque))))[1:.N],\n",
        "    by = agrupa\n",
        "  ]\n",
        "}\n"
      ],
      "metadata": {
        "id": "7mQIAZ3-zC3N"
      },
      "execution_count": 4,
      "outputs": []
    },
    {
      "cell_type": "code",
      "source": [
        "ArbolEstimarGanancia <- function(semilla, training_pct, param_basicos) {\n",
        "  # particiono estratificadamente el dataset\n",
        "  particionar(dataset,\n",
        "    division = c(training_pct, 100L -training_pct),\n",
        "    agrupa = \"clase_ternaria\",\n",
        "    seed = semilla # aqui se usa SU semilla\n",
        "  )\n",
        "\n",
        "  # genero el modelo\n",
        "  # predecir clase_ternaria a partir del resto\n",
        "  modelo <- rpart(\"clase_ternaria ~ .\",\n",
        "    data = dataset[fold == 1], # fold==1  es training,  el 70% de los datos\n",
        "    xval = 0,\n",
        "    control = param_basicos\n",
        "  ) # aqui van los parametros del arbol\n",
        "\n",
        "  # aplico el modelo a los datos de testing\n",
        "  prediccion <- predict(modelo, # el modelo que genere recien\n",
        "    dataset[fold == 2], # fold==2  es testing, el 30% de los datos\n",
        "    type = \"prob\"\n",
        "  ) # type= \"prob\"  es que devuelva la probabilidad\n",
        "\n",
        "  # prediccion es una matriz con TRES columnas,\n",
        "  #  llamadas \"BAJA+1\", \"BAJA+2\"  y \"CONTINUA\"\n",
        "  # cada columna es el vector de probabilidades\n",
        "\n",
        "\n",
        "  # calculo la ganancia en testing  qu es fold==2\n",
        "  ganancia_test <- dataset[\n",
        "    fold == 2,\n",
        "    sum(ifelse(prediccion[, \"BAJA+2\"] > 0.025,\n",
        "      ifelse(clase_ternaria == \"BAJA+2\", 117000, -3000),\n",
        "      0\n",
        "    ))\n",
        "  ]\n",
        "\n",
        "  # escalo la ganancia como si fuera todo el dataset\n",
        "  ganancia_test_normalizada <- ganancia_test / (( 100 - PARAM$training_pct ) / 100 )\n",
        "\n",
        "  return(\n",
        "    c( list(\"semilla\" = semilla),\n",
        "      param_basicos,\n",
        "      list( \"ganancia_test\" = ganancia_test_normalizada )\n",
        "     )\n",
        "  )\n",
        "}"
      ],
      "metadata": {
        "id": "JXWzGlbazdqt"
      },
      "execution_count": 5,
      "outputs": []
    },
    {
      "cell_type": "code",
      "source": [
        "ArbolesMontecarlo <- function(semillas, param_basicos) {\n",
        "\n",
        "  # la funcion mcmapply  llama a la funcion ArbolEstimarGanancia\n",
        "  #  tantas veces como valores tenga el vector  PARAM$semillas\n",
        "  salida <- mcmapply(ArbolEstimarGanancia,\n",
        "    semillas, # paso el vector de semillas\n",
        "    MoreArgs = list(PARAM$training_pct, param_basicos), # aqui paso el segundo parametro\n",
        "    SIMPLIFY = FALSE,\n",
        "    mc.cores = detectCores()\n",
        "  )\n",
        "\n",
        "  return(salida)\n",
        "}"
      ],
      "metadata": {
        "id": "k4cC5nPwzoZe"
      },
      "execution_count": 6,
      "outputs": []
    },
    {
      "cell_type": "code",
      "source": [
        "# carpeta de trabajo\n",
        "# por favor cambiar numero de experimento si se cambia el loop principal\n",
        "setwd(\"/content/buckets/b1/exp\")\n",
        "experimento <- \"HT2900\"\n",
        "dir.create(experimento, showWarnings=FALSE)\n",
        "setwd( paste0(\"/content/buckets/b1/exp/\", experimento ))"
      ],
      "metadata": {
        "id": "UXYV15gRzuVe"
      },
      "execution_count": 9,
      "outputs": []
    },
    {
      "cell_type": "code",
      "source": [
        "# lectura del dataset\n",
        "dataset <- fread(\"/content/datasets/dataset_pequeno.csv\")\n",
        "\n",
        "# trabajo solo con los datos con clase, es decir 202107\n",
        "dataset <- dataset[clase_ternaria != \"\"]"
      ],
      "metadata": {
        "id": "rn63d_qM0B-0"
      },
      "execution_count": 10,
      "outputs": []
    },
    {
      "cell_type": "code",
      "source": [
        "# genero numeros primos\n",
        "primos <- generate_primes(min = 100000, max = 1000000)\n",
        "set.seed(PARAM$semilla_primigenia) # inicializo\n",
        "# me quedo con PARAM$qsemillas   semillas\n",
        "PARAM$semillas <- sample(primos, PARAM$qsemillas )"
      ],
      "metadata": {
        "id": "VoLtJ85t0H4E"
      },
      "execution_count": 12,
      "outputs": []
    },
    {
      "cell_type": "code",
      "source": [
        "# genero la data.table donde van los resultados detallados del Grid Search\n",
        "# un registro para cada combinacion de < semilla, parametros >\n",
        "\n",
        "if(file.exists(\"gridsearch_detalle.txt\")){\n",
        "  tb_grid_search_detalle <- fread(\"gridsearch_detalle.txt\")\n",
        "}else{\n",
        "  tb_grid_search_detalle <- data.table(\n",
        "    semilla = integer(),\n",
        "    cp = numeric(),\n",
        "    maxdepth = integer(),\n",
        "   minsplit = integer(),\n",
        "    minbucket = integer(),\n",
        "    ganancia_test = numeric()\n",
        "  )\n",
        "}\n",
        "\n",
        "nrow( tb_grid_search_detalle )"
      ],
      "metadata": {
        "colab": {
          "base_uri": "https://localhost:8080/",
          "height": 34
        },
        "id": "dbXrAD_f0Rr1",
        "outputId": "d29b4ce6-2cc4-469a-8f7b-b6e2c81d1681"
      },
      "execution_count": 13,
      "outputs": [
        {
          "output_type": "display_data",
          "data": {
            "text/html": [
              "0"
            ],
            "text/markdown": "0",
            "text/latex": "0",
            "text/plain": [
              "[1] 0"
            ]
          },
          "metadata": {}
        }
      ]
    },
    {
      "cell_type": "markdown",
      "source": [
        "Esta es la parte del código que usted debe expandir a TODOS los hiperparámetros de rpart,\n",
        "ya que actualmente apenas recorre maxdepth y minsplit dejando fijos cp=-0.5 y minbucket=5"
      ],
      "metadata": {
        "id": "sqRZ1Mvx0fGW"
      }
    },
    {
      "cell_type": "code",
      "source": [
        "# itero por los loops anidados para cada hiperparametro\n",
        "iter <- 0\n",
        "\n",
        "for (vmax_depth in c(4, 6, 8, 10, 12, 14)) {\n",
        "  for (vmin_split in c(1000, 800, 600, 400, 200, 100, 50, 20, 10)) {\n",
        "    # notar como se agrega\n",
        "\n",
        "    iter <- iter + 1\n",
        "    cat( iter, \" \" )\n",
        "    flush.console()\n",
        "    if( iter*PARAM$qsemillas < nrow(tb_grid_search_detalle)+1 ) next\n",
        "\n",
        "    # vminsplit  minima cantidad de registros en un nodo para hacer el split\n",
        "    param_basicos <- list(\n",
        "      \"cp\" = -0.5, # complejidad minima\n",
        "      \"maxdepth\" = vmax_depth, # profundidad máxima del arbol\n",
        "      \"minsplit\" = vmin_split, # tamaño minimo de nodo para hacer split\n",
        "      \"minbucket\" = 5 # minima cantidad de registros en una hoja\n",
        "    )\n",
        "\n",
        "    # Un solo llamado, con la semilla 17\n",
        "    ganancias <- ArbolesMontecarlo(PARAM$semillas, param_basicos)\n",
        "\n",
        "    # agrego a la tabla\n",
        "    tb_grid_search_detalle <- rbindlist(\n",
        "      list( tb_grid_search_detalle,\n",
        "            rbindlist(ganancias) )\n",
        "    )\n",
        "\n",
        "  }\n",
        "\n",
        "  # grabo cada vez TODA la tabla en el loop mas externo\n",
        "  fwrite( tb_grid_search_detalle,\n",
        "          file = \"gridsearch_detalle.txt\",\n",
        "          sep = \"\\t\" )\n",
        "}"
      ],
      "metadata": {
        "colab": {
          "base_uri": "https://localhost:8080/"
        },
        "id": "Yew5g0a902b8",
        "outputId": "bce01276-b173-4610-8f4f-5065eedeb1b1"
      },
      "execution_count": 14,
      "outputs": [
        {
          "output_type": "stream",
          "name": "stdout",
          "text": [
            "1  2  3  4  5  6  7  8  9  10  11  12  13  14  15  16  17  18  19  20  21  22  23  24  25  26  27  28  29  30  31  32  33  34  35  36  37  38  39  40  41  42  43  44  45  46  47  48  49  50  51  52  53  54  "
          ]
        }
      ]
    },
    {
      "cell_type": "code",
      "source": [
        "fwrite( tb_grid_search_detalle,\n",
        "   file = \"gridsearch_detalle.txt\",\n",
        "   sep = \"\\t\"\n",
        ")"
      ],
      "metadata": {
        "id": "uubv7Vu6F8CN"
      },
      "execution_count": 15,
      "outputs": []
    },
    {
      "cell_type": "code",
      "source": [
        "# cantidad de registros de la tabla\n",
        "nrow(tb_grid_search_detalle)"
      ],
      "metadata": {
        "colab": {
          "base_uri": "https://localhost:8080/",
          "height": 34
        },
        "id": "4V-e_V4xGBA0",
        "outputId": "1a62db7b-36be-43ec-abfa-8f6105fedf9f"
      },
      "execution_count": 16,
      "outputs": [
        {
          "output_type": "display_data",
          "data": {
            "text/html": [
              "54"
            ],
            "text/markdown": "54",
            "text/latex": "54",
            "text/plain": [
              "[1] 54"
            ]
          },
          "metadata": {}
        }
      ]
    },
    {
      "cell_type": "code",
      "source": [
        "# muestro la tabla\n",
        "tb_grid_search_detalle"
      ],
      "metadata": {
        "colab": {
          "base_uri": "https://localhost:8080/",
          "height": 1000
        },
        "id": "X1ZsMd04GFLd",
        "outputId": "3d43f7bb-03d9-4618-ac06-5d99edafbadb"
      },
      "execution_count": 17,
      "outputs": [
        {
          "output_type": "display_data",
          "data": {
            "text/html": [
              "<table class=\"dataframe\">\n",
              "<caption>A data.table: 54 × 6</caption>\n",
              "<thead>\n",
              "\t<tr><th scope=col>semilla</th><th scope=col>cp</th><th scope=col>maxdepth</th><th scope=col>minsplit</th><th scope=col>minbucket</th><th scope=col>ganancia_test</th></tr>\n",
              "\t<tr><th scope=col>&lt;int&gt;</th><th scope=col>&lt;dbl&gt;</th><th scope=col>&lt;dbl&gt;</th><th scope=col>&lt;dbl&gt;</th><th scope=col>&lt;dbl&gt;</th><th scope=col>&lt;dbl&gt;</th></tr>\n",
              "</thead>\n",
              "<tbody>\n",
              "\t<tr><td>681041</td><td>-0.5</td><td> 4</td><td>1000</td><td>5</td><td>43640000</td></tr>\n",
              "\t<tr><td>681041</td><td>-0.5</td><td> 4</td><td> 800</td><td>5</td><td>43640000</td></tr>\n",
              "\t<tr><td>681041</td><td>-0.5</td><td> 4</td><td> 600</td><td>5</td><td>43640000</td></tr>\n",
              "\t<tr><td>681041</td><td>-0.5</td><td> 4</td><td> 400</td><td>5</td><td>43640000</td></tr>\n",
              "\t<tr><td>681041</td><td>-0.5</td><td> 4</td><td> 200</td><td>5</td><td>43640000</td></tr>\n",
              "\t<tr><td>681041</td><td>-0.5</td><td> 4</td><td> 100</td><td>5</td><td>43640000</td></tr>\n",
              "\t<tr><td>681041</td><td>-0.5</td><td> 4</td><td>  50</td><td>5</td><td>43640000</td></tr>\n",
              "\t<tr><td>681041</td><td>-0.5</td><td> 4</td><td>  20</td><td>5</td><td>43640000</td></tr>\n",
              "\t<tr><td>681041</td><td>-0.5</td><td> 4</td><td>  10</td><td>5</td><td>43640000</td></tr>\n",
              "\t<tr><td>681041</td><td>-0.5</td><td> 6</td><td>1000</td><td>5</td><td>47590000</td></tr>\n",
              "\t<tr><td>681041</td><td>-0.5</td><td> 6</td><td> 800</td><td>5</td><td>47590000</td></tr>\n",
              "\t<tr><td>681041</td><td>-0.5</td><td> 6</td><td> 600</td><td>5</td><td>47970000</td></tr>\n",
              "\t<tr><td>681041</td><td>-0.5</td><td> 6</td><td> 400</td><td>5</td><td>47970000</td></tr>\n",
              "\t<tr><td>681041</td><td>-0.5</td><td> 6</td><td> 200</td><td>5</td><td>47970000</td></tr>\n",
              "\t<tr><td>681041</td><td>-0.5</td><td> 6</td><td> 100</td><td>5</td><td>48270000</td></tr>\n",
              "\t<tr><td>681041</td><td>-0.5</td><td> 6</td><td>  50</td><td>5</td><td>48200000</td></tr>\n",
              "\t<tr><td>681041</td><td>-0.5</td><td> 6</td><td>  20</td><td>5</td><td>48040000</td></tr>\n",
              "\t<tr><td>681041</td><td>-0.5</td><td> 6</td><td>  10</td><td>5</td><td>47360000</td></tr>\n",
              "\t<tr><td>681041</td><td>-0.5</td><td> 8</td><td>1000</td><td>5</td><td>47430000</td></tr>\n",
              "\t<tr><td>681041</td><td>-0.5</td><td> 8</td><td> 800</td><td>5</td><td>47430000</td></tr>\n",
              "\t<tr><td>681041</td><td>-0.5</td><td> 8</td><td> 600</td><td>5</td><td>47800000</td></tr>\n",
              "\t<tr><td>681041</td><td>-0.5</td><td> 8</td><td> 400</td><td>5</td><td>47800000</td></tr>\n",
              "\t<tr><td>681041</td><td>-0.5</td><td> 8</td><td> 200</td><td>5</td><td>47800000</td></tr>\n",
              "\t<tr><td>681041</td><td>-0.5</td><td> 8</td><td> 100</td><td>5</td><td>46300000</td></tr>\n",
              "\t<tr><td>681041</td><td>-0.5</td><td> 8</td><td>  50</td><td>5</td><td>46440000</td></tr>\n",
              "\t<tr><td>681041</td><td>-0.5</td><td> 8</td><td>  20</td><td>5</td><td>44980000</td></tr>\n",
              "\t<tr><td>681041</td><td>-0.5</td><td> 8</td><td>  10</td><td>5</td><td>44540000</td></tr>\n",
              "\t<tr><td>681041</td><td>-0.5</td><td>10</td><td>1000</td><td>5</td><td>47520000</td></tr>\n",
              "\t<tr><td>681041</td><td>-0.5</td><td>10</td><td> 800</td><td>5</td><td>46870000</td></tr>\n",
              "\t<tr><td>681041</td><td>-0.5</td><td>10</td><td> 600</td><td>5</td><td>48360000</td></tr>\n",
              "\t<tr><td>681041</td><td>-0.5</td><td>10</td><td> 400</td><td>5</td><td>47720000</td></tr>\n",
              "\t<tr><td>681041</td><td>-0.5</td><td>10</td><td> 200</td><td>5</td><td>47650000</td></tr>\n",
              "\t<tr><td>681041</td><td>-0.5</td><td>10</td><td> 100</td><td>5</td><td>44480000</td></tr>\n",
              "\t<tr><td>681041</td><td>-0.5</td><td>10</td><td>  50</td><td>5</td><td>43740000</td></tr>\n",
              "\t<tr><td>681041</td><td>-0.5</td><td>10</td><td>  20</td><td>5</td><td>41080000</td></tr>\n",
              "\t<tr><td>681041</td><td>-0.5</td><td>10</td><td>  10</td><td>5</td><td>39250000</td></tr>\n",
              "\t<tr><td>681041</td><td>-0.5</td><td>12</td><td>1000</td><td>5</td><td>46820000</td></tr>\n",
              "\t<tr><td>681041</td><td>-0.5</td><td>12</td><td> 800</td><td>5</td><td>46170000</td></tr>\n",
              "\t<tr><td>681041</td><td>-0.5</td><td>12</td><td> 600</td><td>5</td><td>46120000</td></tr>\n",
              "\t<tr><td>681041</td><td>-0.5</td><td>12</td><td> 400</td><td>5</td><td>45420000</td></tr>\n",
              "\t<tr><td>681041</td><td>-0.5</td><td>12</td><td> 200</td><td>5</td><td>44590000</td></tr>\n",
              "\t<tr><td>681041</td><td>-0.5</td><td>12</td><td> 100</td><td>5</td><td>39060000</td></tr>\n",
              "\t<tr><td>681041</td><td>-0.5</td><td>12</td><td>  50</td><td>5</td><td>39270000</td></tr>\n",
              "\t<tr><td>681041</td><td>-0.5</td><td>12</td><td>  20</td><td>5</td><td>35320000</td></tr>\n",
              "\t<tr><td>681041</td><td>-0.5</td><td>12</td><td>  10</td><td>5</td><td>32040000</td></tr>\n",
              "\t<tr><td>681041</td><td>-0.5</td><td>14</td><td>1000</td><td>5</td><td>45610000</td></tr>\n",
              "\t<tr><td>681041</td><td>-0.5</td><td>14</td><td> 800</td><td>5</td><td>44380000</td></tr>\n",
              "\t<tr><td>681041</td><td>-0.5</td><td>14</td><td> 600</td><td>5</td><td>44180000</td></tr>\n",
              "\t<tr><td>681041</td><td>-0.5</td><td>14</td><td> 400</td><td>5</td><td>43520000</td></tr>\n",
              "\t<tr><td>681041</td><td>-0.5</td><td>14</td><td> 200</td><td>5</td><td>42060000</td></tr>\n",
              "\t<tr><td>681041</td><td>-0.5</td><td>14</td><td> 100</td><td>5</td><td>37600000</td></tr>\n",
              "\t<tr><td>681041</td><td>-0.5</td><td>14</td><td>  50</td><td>5</td><td>39130000</td></tr>\n",
              "\t<tr><td>681041</td><td>-0.5</td><td>14</td><td>  20</td><td>5</td><td>33370000</td></tr>\n",
              "\t<tr><td>681041</td><td>-0.5</td><td>14</td><td>  10</td><td>5</td><td>28600000</td></tr>\n",
              "</tbody>\n",
              "</table>\n"
            ],
            "text/markdown": "\nA data.table: 54 × 6\n\n| semilla &lt;int&gt; | cp &lt;dbl&gt; | maxdepth &lt;dbl&gt; | minsplit &lt;dbl&gt; | minbucket &lt;dbl&gt; | ganancia_test &lt;dbl&gt; |\n|---|---|---|---|---|---|\n| 681041 | -0.5 |  4 | 1000 | 5 | 43640000 |\n| 681041 | -0.5 |  4 |  800 | 5 | 43640000 |\n| 681041 | -0.5 |  4 |  600 | 5 | 43640000 |\n| 681041 | -0.5 |  4 |  400 | 5 | 43640000 |\n| 681041 | -0.5 |  4 |  200 | 5 | 43640000 |\n| 681041 | -0.5 |  4 |  100 | 5 | 43640000 |\n| 681041 | -0.5 |  4 |   50 | 5 | 43640000 |\n| 681041 | -0.5 |  4 |   20 | 5 | 43640000 |\n| 681041 | -0.5 |  4 |   10 | 5 | 43640000 |\n| 681041 | -0.5 |  6 | 1000 | 5 | 47590000 |\n| 681041 | -0.5 |  6 |  800 | 5 | 47590000 |\n| 681041 | -0.5 |  6 |  600 | 5 | 47970000 |\n| 681041 | -0.5 |  6 |  400 | 5 | 47970000 |\n| 681041 | -0.5 |  6 |  200 | 5 | 47970000 |\n| 681041 | -0.5 |  6 |  100 | 5 | 48270000 |\n| 681041 | -0.5 |  6 |   50 | 5 | 48200000 |\n| 681041 | -0.5 |  6 |   20 | 5 | 48040000 |\n| 681041 | -0.5 |  6 |   10 | 5 | 47360000 |\n| 681041 | -0.5 |  8 | 1000 | 5 | 47430000 |\n| 681041 | -0.5 |  8 |  800 | 5 | 47430000 |\n| 681041 | -0.5 |  8 |  600 | 5 | 47800000 |\n| 681041 | -0.5 |  8 |  400 | 5 | 47800000 |\n| 681041 | -0.5 |  8 |  200 | 5 | 47800000 |\n| 681041 | -0.5 |  8 |  100 | 5 | 46300000 |\n| 681041 | -0.5 |  8 |   50 | 5 | 46440000 |\n| 681041 | -0.5 |  8 |   20 | 5 | 44980000 |\n| 681041 | -0.5 |  8 |   10 | 5 | 44540000 |\n| 681041 | -0.5 | 10 | 1000 | 5 | 47520000 |\n| 681041 | -0.5 | 10 |  800 | 5 | 46870000 |\n| 681041 | -0.5 | 10 |  600 | 5 | 48360000 |\n| 681041 | -0.5 | 10 |  400 | 5 | 47720000 |\n| 681041 | -0.5 | 10 |  200 | 5 | 47650000 |\n| 681041 | -0.5 | 10 |  100 | 5 | 44480000 |\n| 681041 | -0.5 | 10 |   50 | 5 | 43740000 |\n| 681041 | -0.5 | 10 |   20 | 5 | 41080000 |\n| 681041 | -0.5 | 10 |   10 | 5 | 39250000 |\n| 681041 | -0.5 | 12 | 1000 | 5 | 46820000 |\n| 681041 | -0.5 | 12 |  800 | 5 | 46170000 |\n| 681041 | -0.5 | 12 |  600 | 5 | 46120000 |\n| 681041 | -0.5 | 12 |  400 | 5 | 45420000 |\n| 681041 | -0.5 | 12 |  200 | 5 | 44590000 |\n| 681041 | -0.5 | 12 |  100 | 5 | 39060000 |\n| 681041 | -0.5 | 12 |   50 | 5 | 39270000 |\n| 681041 | -0.5 | 12 |   20 | 5 | 35320000 |\n| 681041 | -0.5 | 12 |   10 | 5 | 32040000 |\n| 681041 | -0.5 | 14 | 1000 | 5 | 45610000 |\n| 681041 | -0.5 | 14 |  800 | 5 | 44380000 |\n| 681041 | -0.5 | 14 |  600 | 5 | 44180000 |\n| 681041 | -0.5 | 14 |  400 | 5 | 43520000 |\n| 681041 | -0.5 | 14 |  200 | 5 | 42060000 |\n| 681041 | -0.5 | 14 |  100 | 5 | 37600000 |\n| 681041 | -0.5 | 14 |   50 | 5 | 39130000 |\n| 681041 | -0.5 | 14 |   20 | 5 | 33370000 |\n| 681041 | -0.5 | 14 |   10 | 5 | 28600000 |\n\n",
            "text/latex": "A data.table: 54 × 6\n\\begin{tabular}{llllll}\n semilla & cp & maxdepth & minsplit & minbucket & ganancia\\_test\\\\\n <int> & <dbl> & <dbl> & <dbl> & <dbl> & <dbl>\\\\\n\\hline\n\t 681041 & -0.5 &  4 & 1000 & 5 & 43640000\\\\\n\t 681041 & -0.5 &  4 &  800 & 5 & 43640000\\\\\n\t 681041 & -0.5 &  4 &  600 & 5 & 43640000\\\\\n\t 681041 & -0.5 &  4 &  400 & 5 & 43640000\\\\\n\t 681041 & -0.5 &  4 &  200 & 5 & 43640000\\\\\n\t 681041 & -0.5 &  4 &  100 & 5 & 43640000\\\\\n\t 681041 & -0.5 &  4 &   50 & 5 & 43640000\\\\\n\t 681041 & -0.5 &  4 &   20 & 5 & 43640000\\\\\n\t 681041 & -0.5 &  4 &   10 & 5 & 43640000\\\\\n\t 681041 & -0.5 &  6 & 1000 & 5 & 47590000\\\\\n\t 681041 & -0.5 &  6 &  800 & 5 & 47590000\\\\\n\t 681041 & -0.5 &  6 &  600 & 5 & 47970000\\\\\n\t 681041 & -0.5 &  6 &  400 & 5 & 47970000\\\\\n\t 681041 & -0.5 &  6 &  200 & 5 & 47970000\\\\\n\t 681041 & -0.5 &  6 &  100 & 5 & 48270000\\\\\n\t 681041 & -0.5 &  6 &   50 & 5 & 48200000\\\\\n\t 681041 & -0.5 &  6 &   20 & 5 & 48040000\\\\\n\t 681041 & -0.5 &  6 &   10 & 5 & 47360000\\\\\n\t 681041 & -0.5 &  8 & 1000 & 5 & 47430000\\\\\n\t 681041 & -0.5 &  8 &  800 & 5 & 47430000\\\\\n\t 681041 & -0.5 &  8 &  600 & 5 & 47800000\\\\\n\t 681041 & -0.5 &  8 &  400 & 5 & 47800000\\\\\n\t 681041 & -0.5 &  8 &  200 & 5 & 47800000\\\\\n\t 681041 & -0.5 &  8 &  100 & 5 & 46300000\\\\\n\t 681041 & -0.5 &  8 &   50 & 5 & 46440000\\\\\n\t 681041 & -0.5 &  8 &   20 & 5 & 44980000\\\\\n\t 681041 & -0.5 &  8 &   10 & 5 & 44540000\\\\\n\t 681041 & -0.5 & 10 & 1000 & 5 & 47520000\\\\\n\t 681041 & -0.5 & 10 &  800 & 5 & 46870000\\\\\n\t 681041 & -0.5 & 10 &  600 & 5 & 48360000\\\\\n\t 681041 & -0.5 & 10 &  400 & 5 & 47720000\\\\\n\t 681041 & -0.5 & 10 &  200 & 5 & 47650000\\\\\n\t 681041 & -0.5 & 10 &  100 & 5 & 44480000\\\\\n\t 681041 & -0.5 & 10 &   50 & 5 & 43740000\\\\\n\t 681041 & -0.5 & 10 &   20 & 5 & 41080000\\\\\n\t 681041 & -0.5 & 10 &   10 & 5 & 39250000\\\\\n\t 681041 & -0.5 & 12 & 1000 & 5 & 46820000\\\\\n\t 681041 & -0.5 & 12 &  800 & 5 & 46170000\\\\\n\t 681041 & -0.5 & 12 &  600 & 5 & 46120000\\\\\n\t 681041 & -0.5 & 12 &  400 & 5 & 45420000\\\\\n\t 681041 & -0.5 & 12 &  200 & 5 & 44590000\\\\\n\t 681041 & -0.5 & 12 &  100 & 5 & 39060000\\\\\n\t 681041 & -0.5 & 12 &   50 & 5 & 39270000\\\\\n\t 681041 & -0.5 & 12 &   20 & 5 & 35320000\\\\\n\t 681041 & -0.5 & 12 &   10 & 5 & 32040000\\\\\n\t 681041 & -0.5 & 14 & 1000 & 5 & 45610000\\\\\n\t 681041 & -0.5 & 14 &  800 & 5 & 44380000\\\\\n\t 681041 & -0.5 & 14 &  600 & 5 & 44180000\\\\\n\t 681041 & -0.5 & 14 &  400 & 5 & 43520000\\\\\n\t 681041 & -0.5 & 14 &  200 & 5 & 42060000\\\\\n\t 681041 & -0.5 & 14 &  100 & 5 & 37600000\\\\\n\t 681041 & -0.5 & 14 &   50 & 5 & 39130000\\\\\n\t 681041 & -0.5 & 14 &   20 & 5 & 33370000\\\\\n\t 681041 & -0.5 & 14 &   10 & 5 & 28600000\\\\\n\\end{tabular}\n",
            "text/plain": [
              "   semilla cp   maxdepth minsplit minbucket ganancia_test\n",
              "1  681041  -0.5  4       1000     5         43640000     \n",
              "2  681041  -0.5  4        800     5         43640000     \n",
              "3  681041  -0.5  4        600     5         43640000     \n",
              "4  681041  -0.5  4        400     5         43640000     \n",
              "5  681041  -0.5  4        200     5         43640000     \n",
              "6  681041  -0.5  4        100     5         43640000     \n",
              "7  681041  -0.5  4         50     5         43640000     \n",
              "8  681041  -0.5  4         20     5         43640000     \n",
              "9  681041  -0.5  4         10     5         43640000     \n",
              "10 681041  -0.5  6       1000     5         47590000     \n",
              "11 681041  -0.5  6        800     5         47590000     \n",
              "12 681041  -0.5  6        600     5         47970000     \n",
              "13 681041  -0.5  6        400     5         47970000     \n",
              "14 681041  -0.5  6        200     5         47970000     \n",
              "15 681041  -0.5  6        100     5         48270000     \n",
              "16 681041  -0.5  6         50     5         48200000     \n",
              "17 681041  -0.5  6         20     5         48040000     \n",
              "18 681041  -0.5  6         10     5         47360000     \n",
              "19 681041  -0.5  8       1000     5         47430000     \n",
              "20 681041  -0.5  8        800     5         47430000     \n",
              "21 681041  -0.5  8        600     5         47800000     \n",
              "22 681041  -0.5  8        400     5         47800000     \n",
              "23 681041  -0.5  8        200     5         47800000     \n",
              "24 681041  -0.5  8        100     5         46300000     \n",
              "25 681041  -0.5  8         50     5         46440000     \n",
              "26 681041  -0.5  8         20     5         44980000     \n",
              "27 681041  -0.5  8         10     5         44540000     \n",
              "28 681041  -0.5 10       1000     5         47520000     \n",
              "29 681041  -0.5 10        800     5         46870000     \n",
              "30 681041  -0.5 10        600     5         48360000     \n",
              "31 681041  -0.5 10        400     5         47720000     \n",
              "32 681041  -0.5 10        200     5         47650000     \n",
              "33 681041  -0.5 10        100     5         44480000     \n",
              "34 681041  -0.5 10         50     5         43740000     \n",
              "35 681041  -0.5 10         20     5         41080000     \n",
              "36 681041  -0.5 10         10     5         39250000     \n",
              "37 681041  -0.5 12       1000     5         46820000     \n",
              "38 681041  -0.5 12        800     5         46170000     \n",
              "39 681041  -0.5 12        600     5         46120000     \n",
              "40 681041  -0.5 12        400     5         45420000     \n",
              "41 681041  -0.5 12        200     5         44590000     \n",
              "42 681041  -0.5 12        100     5         39060000     \n",
              "43 681041  -0.5 12         50     5         39270000     \n",
              "44 681041  -0.5 12         20     5         35320000     \n",
              "45 681041  -0.5 12         10     5         32040000     \n",
              "46 681041  -0.5 14       1000     5         45610000     \n",
              "47 681041  -0.5 14        800     5         44380000     \n",
              "48 681041  -0.5 14        600     5         44180000     \n",
              "49 681041  -0.5 14        400     5         43520000     \n",
              "50 681041  -0.5 14        200     5         42060000     \n",
              "51 681041  -0.5 14        100     5         37600000     \n",
              "52 681041  -0.5 14         50     5         39130000     \n",
              "53 681041  -0.5 14         20     5         33370000     \n",
              "54 681041  -0.5 14         10     5         28600000     "
            ]
          },
          "metadata": {}
        }
      ]
    },
    {
      "cell_type": "code",
      "source": [
        "# genero y grabo el resumen\n",
        "tb_grid_search <- tb_grid_search_detalle[,\n",
        "  list( \"ganancia_mean\" = mean(ganancia_test),\n",
        "    \"qty\" = .N ),\n",
        "  list( cp, maxdepth, minsplit, minbucket )\n",
        "]"
      ],
      "metadata": {
        "id": "E-a5L3_JGTfk"
      },
      "execution_count": 18,
      "outputs": []
    },
    {
      "cell_type": "code",
      "source": [
        "# ordeno descendente por ganancia\n",
        "setorder( tb_grid_search, -ganancia_mean )"
      ],
      "metadata": {
        "id": "JpJWtYmSGYAz"
      },
      "execution_count": 19,
      "outputs": []
    },
    {
      "cell_type": "code",
      "source": [
        "# veo los 10 mejores hiperparámetros\n",
        "tb_grid_search[1:10]"
      ],
      "metadata": {
        "colab": {
          "base_uri": "https://localhost:8080/",
          "height": 412
        },
        "id": "IDhrSgY4Gdr0",
        "outputId": "3d0757db-08cb-4728-bb5c-10c03ce3251f"
      },
      "execution_count": 20,
      "outputs": [
        {
          "output_type": "display_data",
          "data": {
            "text/html": [
              "<table class=\"dataframe\">\n",
              "<caption>A data.table: 10 × 6</caption>\n",
              "<thead>\n",
              "\t<tr><th scope=col>cp</th><th scope=col>maxdepth</th><th scope=col>minsplit</th><th scope=col>minbucket</th><th scope=col>ganancia_mean</th><th scope=col>qty</th></tr>\n",
              "\t<tr><th scope=col>&lt;dbl&gt;</th><th scope=col>&lt;dbl&gt;</th><th scope=col>&lt;dbl&gt;</th><th scope=col>&lt;dbl&gt;</th><th scope=col>&lt;dbl&gt;</th><th scope=col>&lt;int&gt;</th></tr>\n",
              "</thead>\n",
              "<tbody>\n",
              "\t<tr><td>-0.5</td><td>10</td><td>600</td><td>5</td><td>48360000</td><td>1</td></tr>\n",
              "\t<tr><td>-0.5</td><td> 6</td><td>100</td><td>5</td><td>48270000</td><td>1</td></tr>\n",
              "\t<tr><td>-0.5</td><td> 6</td><td> 50</td><td>5</td><td>48200000</td><td>1</td></tr>\n",
              "\t<tr><td>-0.5</td><td> 6</td><td> 20</td><td>5</td><td>48040000</td><td>1</td></tr>\n",
              "\t<tr><td>-0.5</td><td> 6</td><td>600</td><td>5</td><td>47970000</td><td>1</td></tr>\n",
              "\t<tr><td>-0.5</td><td> 6</td><td>400</td><td>5</td><td>47970000</td><td>1</td></tr>\n",
              "\t<tr><td>-0.5</td><td> 6</td><td>200</td><td>5</td><td>47970000</td><td>1</td></tr>\n",
              "\t<tr><td>-0.5</td><td> 8</td><td>600</td><td>5</td><td>47800000</td><td>1</td></tr>\n",
              "\t<tr><td>-0.5</td><td> 8</td><td>400</td><td>5</td><td>47800000</td><td>1</td></tr>\n",
              "\t<tr><td>-0.5</td><td> 8</td><td>200</td><td>5</td><td>47800000</td><td>1</td></tr>\n",
              "</tbody>\n",
              "</table>\n"
            ],
            "text/markdown": "\nA data.table: 10 × 6\n\n| cp &lt;dbl&gt; | maxdepth &lt;dbl&gt; | minsplit &lt;dbl&gt; | minbucket &lt;dbl&gt; | ganancia_mean &lt;dbl&gt; | qty &lt;int&gt; |\n|---|---|---|---|---|---|\n| -0.5 | 10 | 600 | 5 | 48360000 | 1 |\n| -0.5 |  6 | 100 | 5 | 48270000 | 1 |\n| -0.5 |  6 |  50 | 5 | 48200000 | 1 |\n| -0.5 |  6 |  20 | 5 | 48040000 | 1 |\n| -0.5 |  6 | 600 | 5 | 47970000 | 1 |\n| -0.5 |  6 | 400 | 5 | 47970000 | 1 |\n| -0.5 |  6 | 200 | 5 | 47970000 | 1 |\n| -0.5 |  8 | 600 | 5 | 47800000 | 1 |\n| -0.5 |  8 | 400 | 5 | 47800000 | 1 |\n| -0.5 |  8 | 200 | 5 | 47800000 | 1 |\n\n",
            "text/latex": "A data.table: 10 × 6\n\\begin{tabular}{llllll}\n cp & maxdepth & minsplit & minbucket & ganancia\\_mean & qty\\\\\n <dbl> & <dbl> & <dbl> & <dbl> & <dbl> & <int>\\\\\n\\hline\n\t -0.5 & 10 & 600 & 5 & 48360000 & 1\\\\\n\t -0.5 &  6 & 100 & 5 & 48270000 & 1\\\\\n\t -0.5 &  6 &  50 & 5 & 48200000 & 1\\\\\n\t -0.5 &  6 &  20 & 5 & 48040000 & 1\\\\\n\t -0.5 &  6 & 600 & 5 & 47970000 & 1\\\\\n\t -0.5 &  6 & 400 & 5 & 47970000 & 1\\\\\n\t -0.5 &  6 & 200 & 5 & 47970000 & 1\\\\\n\t -0.5 &  8 & 600 & 5 & 47800000 & 1\\\\\n\t -0.5 &  8 & 400 & 5 & 47800000 & 1\\\\\n\t -0.5 &  8 & 200 & 5 & 47800000 & 1\\\\\n\\end{tabular}\n",
            "text/plain": [
              "   cp   maxdepth minsplit minbucket ganancia_mean qty\n",
              "1  -0.5 10       600      5         48360000      1  \n",
              "2  -0.5  6       100      5         48270000      1  \n",
              "3  -0.5  6        50      5         48200000      1  \n",
              "4  -0.5  6        20      5         48040000      1  \n",
              "5  -0.5  6       600      5         47970000      1  \n",
              "6  -0.5  6       400      5         47970000      1  \n",
              "7  -0.5  6       200      5         47970000      1  \n",
              "8  -0.5  8       600      5         47800000      1  \n",
              "9  -0.5  8       400      5         47800000      1  \n",
              "10 -0.5  8       200      5         47800000      1  "
            ]
          },
          "metadata": {}
        }
      ]
    },
    {
      "cell_type": "code",
      "source": [
        "# genero un id a la tabla\n",
        "tb_grid_search[, id := .I ]\n",
        "\n",
        "fwrite( tb_grid_search,\n",
        "  file = \"gridsearch.txt\",\n",
        "  sep = \"\\t\"\n",
        ")"
      ],
      "metadata": {
        "id": "mAMiFhECGjvE"
      },
      "execution_count": 21,
      "outputs": []
    }
  ]
}