{
  "nbformat": 4,
  "nbformat_minor": 0,
  "metadata": {
    "colab": {
      "provenance": [],
      "include_colab_link": true
    },
    "kernelspec": {
      "name": "ir",
      "display_name": "R"
    },
    "language_info": {
      "name": "R"
    }
  },
  "cells": [
    {
      "cell_type": "markdown",
      "metadata": {
        "id": "view-in-github",
        "colab_type": "text"
      },
      "source": [
        "<a href=\"https://colab.research.google.com/github/rsalbertiaustral/labo2025v/blob/main/470_gbdt_lightgbm.ipynb\" target=\"_parent\"><img src=\"https://colab.research.google.com/assets/colab-badge.svg\" alt=\"Open In Colab\"/></a>"
      ]
    },
    {
      "cell_type": "markdown",
      "source": [
        "# 4. Ensembles de Arboles de Decision"
      ],
      "metadata": {
        "id": "O94qX1svwzoC"
      }
    },
    {
      "cell_type": "markdown",
      "source": [
        "## 4.06 GBDT LightGBM"
      ],
      "metadata": {
        "id": "HsJFTcBZw1bE"
      }
    },
    {
      "cell_type": "markdown",
      "source": [
        "La técnica de Gradient Boosting fue creada por Jerome H. Friedman en 1999 - 2001\n",
        "<br>Se implementaron librerías ineficientes\n",
        "<br>En 2016 se crea XGBoost, en 2017 LightGBM\n",
        "\n",
        "\n"
      ],
      "metadata": {
        "id": "nsgvDbemw9Tc"
      }
    },
    {
      "cell_type": "markdown",
      "source": [
        "Paper original de  Gradient Boosting\n",
        "\n",
        "\n",
        "Friedman JH. Greedy function approximation: A gradient\n",
        "boosting machine. Ann Stat. 2001;29(5):1189–232. https://\n",
        "doi.org/10.1214/aos/1013203451.\n",
        "<br>\n",
        "https://projecteuclid.org/journals/annals-of-statistics/volume-29/issue-5/Greedy-function-approximation-A-gradient-boosting-machine/10.1214/aos/1013203451.pdf"
      ],
      "metadata": {
        "id": "1o-6jjy0Yedk"
      }
    },
    {
      "cell_type": "markdown",
      "source": [
        "Paper XGBoost\n",
        "\n",
        "Chen, T.; Guestrin, C. Xgboost: A scalable tree boosting system. In Proceedings of the 22nd ACM Sigkdd International Conference on Knowledge Discovery and Data Mining, San Francisco, CA, USA, 13–17 August 2016; pp. 785–794.\n",
        "\n",
        "https://dl.acm.org/doi/pdf/10.1145/2939672.2939785"
      ],
      "metadata": {
        "id": "14MlfCxMZWIc"
      }
    },
    {
      "cell_type": "markdown",
      "source": [
        "Paper  LightGBM\n",
        "\n",
        "Ke G., Meng Q., Finley T., Wang T., Chen W., Ma W., et al.\n",
        "Lightgbm: A highly efficient gradient boosting decision tree\n",
        "Advances in Neural Information Processing Systems, 30 (2017)\n",
        "\n",
        "https://proceedings.neurips.cc/paper/2017/file/6449f44a102fde848669bdd9eb6b76fa-Paper.pdf"
      ],
      "metadata": {
        "id": "IDk5edloZpBI"
      }
    },
    {
      "cell_type": "markdown",
      "source": [
        "Videos \"simplificados\" :\n",
        "*  https://www.youtube.com/watch?v=3CC4N4z3GJc\n",
        "*  https://www.youtube.com/watch?v=2xudPOBz-vs\n",
        "*  https://www.youtube.com/watch?v=jxuNLH5dXCs\n",
        "*  https://www.youtube.com/watch?v=StWY5QWMXCw"
      ],
      "metadata": {
        "id": "ZMyXpQyJaCsP"
      }
    },
    {
      "cell_type": "markdown",
      "source": [
        "Artículos ligeros:\n",
        "*  https://machinelearningmastery.com/gentle-introduction-gradient-boosting-algorithm-machine-learning/\n",
        "*   https://www.machinelearningplus.com/machine-learning/an-introduction-to-gradient-boosting-decision-trees/\n",
        "*   https://medium.com/@ruchi.awasthi63/gradient-boosted-decision-tree-clearly-explained-bd1d8c7d9923\n",
        "*   https://medium.com/data-science/a-visual-understanding-of-decision-trees-and-gradient-boosting-c6bc53f982ce\n",
        "*   https://medium.com/analytics-vidhya/introduction-to-the-gradient-boosting-algorithm-c25c653f826b\n",
        "*   https://medium.com/@datasciencewizards/understanding-the-gradient-boosting-algorithm-9fe698a352ad"
      ],
      "metadata": {
        "id": "Eyffb3AAahth"
      }
    },
    {
      "cell_type": "markdown",
      "source": [
        "El Gradient Boosting of Decision Trees es un ensemble de árboles de decisión, para un nuevo registro la predicción se hace sumando el score que cada arbol asigna a ese registro.\n",
        "\n",
        "En GBDT la construccion de los árboles es secuencial, ya que el arbol n-simo se genera para predecir el error del modelo conformado por los n-1 arboles previos, aunque sea un arbol de clasificación lo que se predice es un numero real mediante un arbol de regresión."
      ],
      "metadata": {
        "id": "0YOyfUaESdsX"
      }
    },
    {
      "cell_type": "markdown",
      "source": [
        "<br>Qué tipo de perturbaciones se realiza LightGBM\n",
        "\n",
        "*   Se perturba el dataset, seleccionando para cada arbol un subconjunto de las columnas.\n",
        "*   El algortimo de arbol de decisión no presenta perturbaciones"
      ],
      "metadata": {
        "id": "nF6XblBIYnY6"
      }
    },
    {
      "cell_type": "markdown",
      "source": [
        "Cada arbolito de LightGBM se entrena sobre un dataset perturbado, que en principio posee :\n",
        "* todos los registros del dataset original\n",
        "* solo un porcentaje *feature_fraction* de las columnas originales del dataset"
      ],
      "metadata": {
        "id": "j75A--Tsx2df"
      }
    },
    {
      "cell_type": "markdown",
      "source": [
        "#### 4.06.1  Seteo del ambiente en Google Colab"
      ],
      "metadata": {
        "id": "PX0qg_c0yqob"
      }
    },
    {
      "cell_type": "markdown",
      "metadata": {
        "id": "NGY7H9xza7Zr"
      },
      "source": [
        "Esta parte se debe correr con el runtime en Python3\n",
        "<br>Ir al menu, Runtime -> Change Runtime Type -> Runtime type ->  **Python 3**"
      ]
    },
    {
      "cell_type": "markdown",
      "metadata": {
        "id": "7PupIBNba7Zr"
      },
      "source": [
        "Conectar la virtual machine donde esta corriendo Google Colab con el  Google Drive, para poder tener persistencia de archivos"
      ]
    },
    {
      "cell_type": "code",
      "execution_count": 1,
      "metadata": {
        "id": "9LpZCst5a7Zs",
        "outputId": "1d578790-abb4-472a-e254-5d603257ac15",
        "colab": {
          "base_uri": "https://localhost:8080/"
        }
      },
      "outputs": [
        {
          "output_type": "stream",
          "name": "stdout",
          "text": [
            "Mounted at /content/.drive\n"
          ]
        }
      ],
      "source": [
        "# primero establecer el Runtime de Python 3\n",
        "from google.colab import drive\n",
        "drive.mount('/content/.drive')"
      ]
    },
    {
      "cell_type": "markdown",
      "metadata": {
        "id": "JYC_F-wla7Zs"
      },
      "source": [
        "Para correr la siguiente celda es fundamental en Arranque en Frio haber copiado el archivo kaggle.json al Google Drive, en la carpeta indicada en el instructivo\n",
        "\n",
        "<br>los siguientes comando estan en shell script de Linux\n",
        "*   Crear las carpetas en el Google Drive\n",
        "*   \"instalar\" el archivo kaggle.json desde el Google Drive a la virtual machine para que pueda ser utilizado por la libreria  kaggle de Python\n",
        "*   Bajar el  **dataset_pequeno**  al  Google Drive  y tambien al disco local de la virtual machine que esta corriendo Google Colab\n",
        "\n"
      ]
    },
    {
      "cell_type": "code",
      "execution_count": 2,
      "metadata": {
        "id": "XWLelftXa7Zt",
        "outputId": "2cb657fd-39c4-43aa-e28d-671aaecd2bac",
        "colab": {
          "base_uri": "https://localhost:8080/"
        }
      },
      "outputs": [
        {
          "output_type": "execute_result",
          "data": {
            "text/plain": []
          },
          "metadata": {},
          "execution_count": 2
        }
      ],
      "source": [
        "%%shell\n",
        "\n",
        "mkdir -p \"/content/.drive/My Drive/labo1\"\n",
        "mkdir -p \"/content/buckets\"\n",
        "ln -s \"/content/.drive/My Drive/labo1\" /content/buckets/b1\n",
        "\n",
        "mkdir -p ~/.kaggle\n",
        "cp /content/buckets/b1/kaggle/kaggle.json  ~/.kaggle\n",
        "chmod 600 ~/.kaggle/kaggle.json\n",
        "\n",
        "\n",
        "mkdir -p /content/buckets/b1/exp\n",
        "mkdir -p /content/buckets/b1/datasets\n",
        "mkdir -p /content/datasets\n",
        "\n",
        "\n",
        "\n",
        "archivo_origen=\"https://storage.googleapis.com/open-courses/austral2025-af91/dataset_pequeno.csv\"\n",
        "archivo_destino=\"/content/datasets/dataset_pequeno.csv\"\n",
        "archivo_destino_bucket=\"/content/buckets/b1/datasets/dataset_pequeno.csv\"\n",
        "\n",
        "if ! test -f $archivo_destino_bucket; then\n",
        "  wget  $archivo_origen  -O $archivo_destino_bucket\n",
        "fi\n",
        "\n",
        "\n",
        "if ! test -f $archivo_destino; then\n",
        "  cp  $archivo_destino_bucket  $archivo_destino\n",
        "fi\n"
      ]
    },
    {
      "cell_type": "markdown",
      "source": [
        "### 4.07  LightGBM, una corrida"
      ],
      "metadata": {
        "id": "oSKhZRToy2F7"
      }
    },
    {
      "cell_type": "markdown",
      "metadata": {
        "id": "eSU5vi00CPRS"
      },
      "source": [
        "Esta parte se debe correr con el runtime en lenguaje **R** Ir al menu, Runtime -> Change Runtime Type -> Runtime type -> R"
      ]
    },
    {
      "cell_type": "markdown",
      "metadata": {
        "id": "Zq8dySimCPRT"
      },
      "source": [
        "limpio el ambiente de R"
      ]
    },
    {
      "cell_type": "code",
      "source": [
        "format(Sys.time(), \"%a %b %d %X %Y\")"
      ],
      "metadata": {
        "id": "Tjda_YGOXaPw",
        "outputId": "4ce13df7-26c9-4999-a6f8-24807cdf442e",
        "colab": {
          "base_uri": "https://localhost:8080/",
          "height": 34
        }
      },
      "execution_count": 1,
      "outputs": [
        {
          "output_type": "display_data",
          "data": {
            "text/html": [
              "'Wed Oct 29 07:39:13 PM 2025'"
            ],
            "text/markdown": "'Wed Oct 29 07:39:13 PM 2025'",
            "text/latex": "'Wed Oct 29 07:39:13 PM 2025'",
            "text/plain": [
              "[1] \"Wed Oct 29 07:39:13 PM 2025\""
            ]
          },
          "metadata": {}
        }
      ]
    },
    {
      "cell_type": "code",
      "execution_count": 2,
      "metadata": {
        "id": "1iE0U4_WCPRT",
        "outputId": "4120dc71-f922-40a1-b88c-c7ed93317205",
        "colab": {
          "base_uri": "https://localhost:8080/",
          "height": 130
        }
      },
      "outputs": [
        {
          "output_type": "display_data",
          "data": {
            "text/html": [
              "<table class=\"dataframe\">\n",
              "<caption>A matrix: 2 × 6 of type dbl</caption>\n",
              "<thead>\n",
              "\t<tr><th></th><th scope=col>used</th><th scope=col>(Mb)</th><th scope=col>gc trigger</th><th scope=col>(Mb)</th><th scope=col>max used</th><th scope=col>(Mb)</th></tr>\n",
              "</thead>\n",
              "<tbody>\n",
              "\t<tr><th scope=row>Ncells</th><td> 660468</td><td>35.3</td><td>1454468</td><td>77.7</td><td>1438474</td><td>76.9</td></tr>\n",
              "\t<tr><th scope=row>Vcells</th><td>1226772</td><td> 9.4</td><td>8388608</td><td>64.0</td><td>1975128</td><td>15.1</td></tr>\n",
              "</tbody>\n",
              "</table>\n"
            ],
            "text/markdown": "\nA matrix: 2 × 6 of type dbl\n\n| <!--/--> | used | (Mb) | gc trigger | (Mb) | max used | (Mb) |\n|---|---|---|---|---|---|---|\n| Ncells |  660468 | 35.3 | 1454468 | 77.7 | 1438474 | 76.9 |\n| Vcells | 1226772 |  9.4 | 8388608 | 64.0 | 1975128 | 15.1 |\n\n",
            "text/latex": "A matrix: 2 × 6 of type dbl\n\\begin{tabular}{r|llllll}\n  & used & (Mb) & gc trigger & (Mb) & max used & (Mb)\\\\\n\\hline\n\tNcells &  660468 & 35.3 & 1454468 & 77.7 & 1438474 & 76.9\\\\\n\tVcells & 1226772 &  9.4 & 8388608 & 64.0 & 1975128 & 15.1\\\\\n\\end{tabular}\n",
            "text/plain": [
              "       used    (Mb) gc trigger (Mb) max used (Mb)\n",
              "Ncells  660468 35.3 1454468    77.7 1438474  76.9\n",
              "Vcells 1226772  9.4 8388608    64.0 1975128  15.1"
            ]
          },
          "metadata": {}
        }
      ],
      "source": [
        "# limpio la memoria\n",
        "rm(list=ls(all.names=TRUE)) # remove all objects\n",
        "gc(full=TRUE, verbose=FALSE) # garbage collection"
      ]
    },
    {
      "cell_type": "code",
      "execution_count": 3,
      "metadata": {
        "id": "BJDwdD0dCPRU",
        "outputId": "790e1500-37ff-4d56-bb2e-4024da388dc8",
        "colab": {
          "base_uri": "https://localhost:8080/"
        }
      },
      "outputs": [
        {
          "output_type": "stream",
          "name": "stderr",
          "text": [
            "Loading required package: data.table\n",
            "\n",
            "Loading required package: rpart\n",
            "\n",
            "Loading required package: rlist\n",
            "\n",
            "Warning message in library(package, lib.loc = lib.loc, character.only = TRUE, logical.return = TRUE, :\n",
            "“there is no package called ‘rlist’”\n",
            "Installing package into ‘/usr/local/lib/R/site-library’\n",
            "(as ‘lib’ is unspecified)\n",
            "\n",
            "also installing the dependency ‘XML’\n",
            "\n",
            "\n",
            "Loading required package: rlist\n",
            "\n",
            "Loading required package: lightgbm\n",
            "\n",
            "Warning message in library(package, lib.loc = lib.loc, character.only = TRUE, logical.return = TRUE, :\n",
            "“there is no package called ‘lightgbm’”\n",
            "Installing package into ‘/usr/local/lib/R/site-library’\n",
            "(as ‘lib’ is unspecified)\n",
            "\n",
            "Loading required package: lightgbm\n",
            "\n"
          ]
        }
      ],
      "source": [
        "# cargo las librerias que necesito\n",
        "require(\"data.table\")\n",
        "require(\"rpart\")\n",
        "\n",
        "if( !require(\"rlist\") ) install.packages(\"rlist\")\n",
        "require(\"rlist\")\n",
        "\n",
        "if( !require(\"lightgbm\") ) install.packages(\"lightgbm\")\n",
        "require(\"lightgbm\")"
      ]
    },
    {
      "cell_type": "markdown",
      "source": [
        "Aqui debe cargar SU semilla primigenia"
      ],
      "metadata": {
        "id": "M8-Pyp6CCPRU"
      }
    },
    {
      "cell_type": "code",
      "source": [
        "PARAM <- list()\n",
        "PARAM$experimento <- 4070\n",
        "PARAM$semilla_primigenia <- 163733\n",
        "\n",
        "# estos hiperparametros de LightGBM surgieron de una Bayesian Optimization\n",
        "PARAM$lgb$num_iterations <- 1000  # cantidad de arbolitos\n",
        "PARAM$lgb$learning_rate <- 0.027\n",
        "PARAM$lgb$feature_fraction <- 0.8\n",
        "PARAM$lgb$min_data_in_leaf <- 76\n",
        "PARAM$lgb$num_leaves <- 8\n",
        "PARAM$lgb$max_bin <- 31\n"
      ],
      "metadata": {
        "id": "peRH7ySLCPRV"
      },
      "execution_count": 4,
      "outputs": []
    },
    {
      "cell_type": "code",
      "source": [
        "# carpeta de trabajo\n",
        "setwd(\"/content/buckets/b1/exp\")\n",
        "experimento_folder <- paste0(\"KA\", PARAM$experimento)\n",
        "dir.create(experimento_folder, showWarnings=FALSE)\n",
        "setwd( paste0(\"/content/buckets/b1/exp/\", experimento_folder ))"
      ],
      "metadata": {
        "id": "1gZD6ZMvCPRV"
      },
      "execution_count": 5,
      "outputs": []
    },
    {
      "cell_type": "code",
      "source": [
        "# lectura del dataset\n",
        "dataset <- fread(\"/content/datasets/dataset_pequeno.csv\", stringsAsFactors= TRUE)"
      ],
      "metadata": {
        "id": "Xi0emX2ECPRV"
      },
      "execution_count": 6,
      "outputs": []
    },
    {
      "cell_type": "code",
      "source": [
        "# paso la clase a binaria\n",
        "\n",
        "dataset[, clase01 := ifelse(clase_ternaria %in% c(\"BAJA+2\"), 1L, 0L)]"
      ],
      "metadata": {
        "id": "-3XuBeDy1Ugj"
      },
      "execution_count": 7,
      "outputs": []
    },
    {
      "cell_type": "code",
      "source": [
        "# los campos que se van a utilizar\n",
        "\n",
        "campos_buenos <- setdiff(colnames(dataset), c(\"clase_ternaria\", \"clase01\"))"
      ],
      "metadata": {
        "id": "h8Anoo4Sel8S"
      },
      "execution_count": 8,
      "outputs": []
    },
    {
      "cell_type": "code",
      "source": [
        "# establezco donde entreno\n",
        "\n",
        "dataset[, train := 0L]\n",
        "dataset[foto_mes %in% c(202107), train := 1L]"
      ],
      "metadata": {
        "id": "RA3cSJ6KaGwA"
      },
      "execution_count": 9,
      "outputs": []
    },
    {
      "cell_type": "code",
      "source": [
        "# dejo los datos en el formato que necesita LightGBM\n",
        "\n",
        "dtrain <- lgb.Dataset(\n",
        "  data= data.matrix(dataset[train == 1L, campos_buenos, with= FALSE]),\n",
        "  label= dataset[train == 1L, clase01]\n",
        ")"
      ],
      "metadata": {
        "id": "T6Zr06HB1kMU"
      },
      "execution_count": 10,
      "outputs": []
    },
    {
      "cell_type": "code",
      "source": [
        "# genero el modelo\n",
        "# estos hiperparametros  salieron de una laaarga Optmizacion Bayesiana\n",
        "\n",
        "set.seed(PARAM$semilla_primigenia, kind = \"L'Ecuyer-CMRG\") # Establezco la semilla aleatoria\n",
        "\n",
        "modelo <- lgb.train(\n",
        "  data= dtrain,\n",
        "  param= list(\n",
        "    objective= \"binary\",\n",
        "    max_bin= PARAM$lgb$max_bin,\n",
        "    learning_rate= PARAM$lgb$learning_rate,\n",
        "    num_iterations= PARAM$lgb$num_iterations,\n",
        "    num_leaves= PARAM$lgb$num_leaves,\n",
        "    min_data_in_leaf= PARAM$lgb$min_data_in_leaf,\n",
        "    feature_fraction= PARAM$lgb$feature_fraction,\n",
        "    seed= PARAM$semilla_primigenia\n",
        "  )\n",
        ")\n"
      ],
      "metadata": {
        "id": "TI9_5pii2zCF",
        "outputId": "6989afdb-5fc5-42b8-ef24-7ec04b210de3",
        "colab": {
          "base_uri": "https://localhost:8080/"
        }
      },
      "execution_count": 11,
      "outputs": [
        {
          "output_type": "stream",
          "name": "stdout",
          "text": [
            "[LightGBM] [Info] Number of positive: 1248, number of negative: 163348\n",
            "[LightGBM] [Info] Auto-choosing row-wise multi-threading, the overhead of testing was 0.149029 seconds.\n",
            "You can set `force_row_wise=true` to remove the overhead.\n",
            "And if memory is not enough, you can set `force_col_wise=true`.\n",
            "[LightGBM] [Info] Total Bins 3612\n",
            "[LightGBM] [Info] Number of data points in the train set: 164596, number of used features: 153\n",
            "[LightGBM] [Info] [binary:BoostFromScore]: pavg=0.007582 -> initscore=-4.874341\n",
            "[LightGBM] [Info] Start training from score -4.874341\n"
          ]
        }
      ]
    },
    {
      "cell_type": "code",
      "source": [
        "# ahora imprimo la importancia de variables\n",
        "tb_importancia <- as.data.table(lgb.importance(modelo))\n",
        "archivo_importancia <- \"impo.txt\"\n",
        "\n",
        "fwrite(tb_importancia,\n",
        "  file= archivo_importancia,\n",
        "  sep= \"\\t\"\n",
        ")\n"
      ],
      "metadata": {
        "id": "69QcMsSkg9d-"
      },
      "execution_count": 12,
      "outputs": []
    },
    {
      "cell_type": "code",
      "source": [
        "# grabo a disco el modelo en un formato para seres humanos ... ponele ...\n",
        "\n",
        "lgb.save(modelo, \"modelo.txt\" )"
      ],
      "metadata": {
        "id": "lauiNeQDg-XP"
      },
      "execution_count": 13,
      "outputs": []
    },
    {
      "cell_type": "code",
      "source": [
        "# aplico el modelo a los datos sin clase\n",
        "dfuture <- dataset[foto_mes == 202109]\n",
        "\n",
        "# aplico el modelo a los datos nuevos\n",
        "prediccion <- predict(\n",
        "  modelo,\n",
        "  data.matrix(dfuture[, campos_buenos, with= FALSE])\n",
        ")\n"
      ],
      "metadata": {
        "id": "VQhEcNmBhF7u"
      },
      "execution_count": 14,
      "outputs": []
    },
    {
      "cell_type": "code",
      "source": [
        "# tabla de prediccion\n",
        "\n",
        "tb_prediccion <- dfuture[, list(numero_de_cliente)]\n",
        "tb_prediccion[, prob := prediccion ]\n",
        "\n",
        "# grabo las probabilidad del modelo\n",
        "fwrite(tb_prediccion,\n",
        "  file= \"prediccion.txt\",\n",
        "  sep= \"\\t\"\n",
        ")"
      ],
      "metadata": {
        "id": "Z5LYpStThlIC"
      },
      "execution_count": 15,
      "outputs": []
    },
    {
      "cell_type": "code",
      "source": [
        "# subidas a Kaggle\n",
        "# ordeno por probabilidad descendente\n",
        "\n",
        "setorder(tb_prediccion, -prob)"
      ],
      "metadata": {
        "id": "vSopCODCh6kL"
      },
      "execution_count": 16,
      "outputs": []
    },
    {
      "cell_type": "code",
      "source": [
        "# genero la prediccion y subo a Kaggle\n",
        "\n",
        "tb_prediccion[, Predicted := 0L]\n",
        "tb_prediccion[prob>(1/40), Predicted := 1L]\n",
        "\n",
        "archivo_kaggle <- paste0(\"KA\", PARAM$experimento, \".csv\")\n",
        "\n",
        "# grabo el archivo\n",
        "fwrite(tb_prediccion[, list(numero_de_cliente, Predicted)],\n",
        "  file= archivo_kaggle,\n",
        "  sep= \",\"\n",
        ")\n",
        "\n",
        "# subida a Kaggle\n",
        "comando <- \"kaggle competitions submit\"\n",
        "competencia <- \"-c labo-i-2025-virtual-analista-sr\"\n",
        "arch <- paste( \"-f\", archivo_kaggle)\n",
        "\n",
        "mensaje <- paste0(\"-m 'num_iterations=\", PARAM$lgb$num_iterations,\n",
        "  \"  learning_rate=\", PARAM$lgb$learning_rate,\n",
        "  \"  feature_fraction=\", PARAM$lgb$feature_fraction,\n",
        "  \"  min_data_in_leaf=\", PARAM$lgb$min_data_in_leaf,\n",
        "  \"  num_leaves=\",PARAM$lgb$num_leaves,\n",
        "  \"  max_bin=\", PARAM$lgb$max_bin,\n",
        "\"'\" )\n",
        "\n",
        "linea <- paste( comando, competencia, arch, mensaje)\n",
        "salida <- system(linea, intern=TRUE)\n",
        "cat(salida)"
      ],
      "metadata": {
        "id": "pmxc2Z0fpJAZ",
        "outputId": "30e995a7-e695-476e-fae6-0c12303f4879",
        "colab": {
          "base_uri": "https://localhost:8080/"
        }
      },
      "execution_count": 17,
      "outputs": [
        {
          "output_type": "stream",
          "name": "stdout",
          "text": [
            "Successfully submitted to LaboI 2025 virtual analista sr"
          ]
        }
      ]
    },
    {
      "cell_type": "code",
      "source": [
        "format(Sys.time(), \"%a %b %d %X %Y\")"
      ],
      "metadata": {
        "id": "PK3QGWJsXk_k",
        "outputId": "a8a6a463-dc1c-4700-e8e3-9cce388398e5",
        "colab": {
          "base_uri": "https://localhost:8080/",
          "height": 34
        }
      },
      "execution_count": 18,
      "outputs": [
        {
          "output_type": "display_data",
          "data": {
            "text/html": [
              "'Wed Oct 29 07:56:14 PM 2025'"
            ],
            "text/markdown": "'Wed Oct 29 07:56:14 PM 2025'",
            "text/latex": "'Wed Oct 29 07:56:14 PM 2025'",
            "text/plain": [
              "[1] \"Wed Oct 29 07:56:14 PM 2025\""
            ]
          },
          "metadata": {}
        }
      ]
    },
    {
      "cell_type": "markdown",
      "metadata": {
        "id": "UMr6Z1enOyd3"
      },
      "source": [
        "\n",
        "\n",
        "---\n",
        "\n"
      ]
    },
    {
      "cell_type": "markdown",
      "source": [
        "### 4.08  LightGBM  optimizacion de hiperparámetros"
      ],
      "metadata": {
        "id": "lO4QwOEU-xPe"
      }
    },
    {
      "cell_type": "markdown",
      "source": [
        "La optimizacion de los hiperparámetros de LightGBM mediante el método de optimizacion bayesiana será su *caballito de batalla* durante la asignatura !"
      ],
      "metadata": {
        "id": "75FU3LjSF2uN"
      }
    },
    {
      "cell_type": "markdown",
      "metadata": {
        "id": "aJBO5Dcb_B7s"
      },
      "source": [
        "limpio el ambiente de R"
      ]
    },
    {
      "cell_type": "code",
      "source": [
        "format(Sys.time(), \"%a %b %d %X %Y\")"
      ],
      "metadata": {
        "id": "2CeMTfCuX3bH",
        "outputId": "4f49a7ca-ed9d-4105-b511-dd4905c3bffd",
        "colab": {
          "base_uri": "https://localhost:8080/",
          "height": 34
        }
      },
      "execution_count": 19,
      "outputs": [
        {
          "output_type": "display_data",
          "data": {
            "text/html": [
              "'Wed Oct 29 07:56:31 PM 2025'"
            ],
            "text/markdown": "'Wed Oct 29 07:56:31 PM 2025'",
            "text/latex": "'Wed Oct 29 07:56:31 PM 2025'",
            "text/plain": [
              "[1] \"Wed Oct 29 07:56:31 PM 2025\""
            ]
          },
          "metadata": {}
        }
      ]
    },
    {
      "cell_type": "code",
      "execution_count": 20,
      "metadata": {
        "id": "HPKFI6yP_B7s",
        "outputId": "2a882f61-b781-4345-8071-bef5b1d40e6b",
        "colab": {
          "base_uri": "https://localhost:8080/",
          "height": 130
        }
      },
      "outputs": [
        {
          "output_type": "display_data",
          "data": {
            "text/html": [
              "<table class=\"dataframe\">\n",
              "<caption>A matrix: 2 × 6 of type dbl</caption>\n",
              "<thead>\n",
              "\t<tr><th></th><th scope=col>used</th><th scope=col>(Mb)</th><th scope=col>gc trigger</th><th scope=col>(Mb)</th><th scope=col>max used</th><th scope=col>(Mb)</th></tr>\n",
              "</thead>\n",
              "<tbody>\n",
              "\t<tr><th scope=row>Ncells</th><td>1849490</td><td>98.8</td><td>  3377041</td><td>180.4</td><td>  3377041</td><td> 180.4</td></tr>\n",
              "\t<tr><th scope=row>Vcells</th><td>3520505</td><td>26.9</td><td>116480928</td><td>888.7</td><td>135085677</td><td>1030.7</td></tr>\n",
              "</tbody>\n",
              "</table>\n"
            ],
            "text/markdown": "\nA matrix: 2 × 6 of type dbl\n\n| <!--/--> | used | (Mb) | gc trigger | (Mb) | max used | (Mb) |\n|---|---|---|---|---|---|---|\n| Ncells | 1849490 | 98.8 |   3377041 | 180.4 |   3377041 |  180.4 |\n| Vcells | 3520505 | 26.9 | 116480928 | 888.7 | 135085677 | 1030.7 |\n\n",
            "text/latex": "A matrix: 2 × 6 of type dbl\n\\begin{tabular}{r|llllll}\n  & used & (Mb) & gc trigger & (Mb) & max used & (Mb)\\\\\n\\hline\n\tNcells & 1849490 & 98.8 &   3377041 & 180.4 &   3377041 &  180.4\\\\\n\tVcells & 3520505 & 26.9 & 116480928 & 888.7 & 135085677 & 1030.7\\\\\n\\end{tabular}\n",
            "text/plain": [
              "       used    (Mb) gc trigger (Mb)  max used  (Mb)  \n",
              "Ncells 1849490 98.8   3377041  180.4   3377041  180.4\n",
              "Vcells 3520505 26.9 116480928  888.7 135085677 1030.7"
            ]
          },
          "metadata": {}
        }
      ],
      "source": [
        "# limpio la memoria\n",
        "rm(list=ls(all.names=TRUE)) # remove all objects\n",
        "gc(full=TRUE, verbose=FALSE) # garbage collection"
      ]
    },
    {
      "cell_type": "code",
      "execution_count": 21,
      "metadata": {
        "id": "B6X8U6XF_B7t",
        "outputId": "3f8875d7-f957-456a-f0f4-5d8def7a0b70",
        "colab": {
          "base_uri": "https://localhost:8080/"
        }
      },
      "outputs": [
        {
          "output_type": "stream",
          "name": "stderr",
          "text": [
            "Loading required package: parallel\n",
            "\n",
            "Loading required package: primes\n",
            "\n",
            "Warning message in library(package, lib.loc = lib.loc, character.only = TRUE, logical.return = TRUE, :\n",
            "“there is no package called ‘primes’”\n",
            "Installing package into ‘/usr/local/lib/R/site-library’\n",
            "(as ‘lib’ is unspecified)\n",
            "\n",
            "Loading required package: primes\n",
            "\n",
            "Loading required package: DiceKriging\n",
            "\n",
            "Warning message in library(package, lib.loc = lib.loc, character.only = TRUE, logical.return = TRUE, :\n",
            "“there is no package called ‘DiceKriging’”\n",
            "Installing package into ‘/usr/local/lib/R/site-library’\n",
            "(as ‘lib’ is unspecified)\n",
            "\n",
            "Loading required package: DiceKriging\n",
            "\n",
            "Loading required package: mlrMBO\n",
            "\n",
            "Warning message in library(package, lib.loc = lib.loc, character.only = TRUE, logical.return = TRUE, :\n",
            "“there is no package called ‘mlrMBO’”\n",
            "Installing package into ‘/usr/local/lib/R/site-library’\n",
            "(as ‘lib’ is unspecified)\n",
            "\n",
            "also installing the dependencies ‘fastmatch’, ‘RcppArmadillo’, ‘mlr’, ‘ParamHelpers’, ‘smoof’, ‘BBmisc’, ‘checkmate’, ‘lhs’, ‘parallelMap’\n",
            "\n",
            "\n",
            "Loading required package: mlrMBO\n",
            "\n",
            "Loading required package: mlr\n",
            "\n",
            "Loading required package: ParamHelpers\n",
            "\n",
            "Loading required package: smoof\n",
            "\n",
            "Loading required package: checkmate\n",
            "\n",
            "\n",
            "Attaching package: ‘checkmate’\n",
            "\n",
            "\n",
            "The following object is masked from ‘package:DiceKriging’:\n",
            "\n",
            "    checkNames\n",
            "\n",
            "\n"
          ]
        }
      ],
      "source": [
        "# cargo las librerias que necesito\n",
        "require(\"data.table\")\n",
        "require(\"rpart\")\n",
        "require(\"parallel\")\n",
        "\n",
        "if( !require(\"primes\") ) install.packages(\"primes\")\n",
        "require(\"primes\")\n",
        "\n",
        "if( !require(\"rlist\") ) install.packages(\"rlist\")\n",
        "require(\"rlist\")\n",
        "\n",
        "if( !require(\"lightgbm\") ) install.packages(\"lightgbm\")\n",
        "require(\"lightgbm\")\n",
        "\n",
        "if( !require(\"DiceKriging\") ) install.packages(\"DiceKriging\")\n",
        "require(\"DiceKriging\")\n",
        "\n",
        "if( !require(\"mlrMBO\") ) install.packages(\"mlrMBO\")\n",
        "require(\"mlrMBO\")\n"
      ]
    },
    {
      "cell_type": "markdown",
      "source": [
        "Aqui debe cargar SU semilla primigenia"
      ],
      "metadata": {
        "id": "_qZHeAHdCJQ2"
      }
    },
    {
      "cell_type": "code",
      "source": [
        "PARAM <- list()\n",
        "PARAM$experimento <- 4080\n",
        "PARAM$semilla_primigenia <- 163733\n",
        "\n",
        "# un undersampling de 0.1  toma solo el 10% de los CONTINUA\n",
        "# undersampling de 1.0  implica tomar TODOS los datos\n",
        "PARAM$trainingstrategy$undersampling <- 1.0\n",
        "\n",
        "PARAM$hyperparametertuning$iteraciones <- 30 # iteracines bayesianas\n",
        "\n",
        "PARAM$hyperparametertuning$xval_folds <- 5\n",
        "\n",
        "# parametros fijos del LightGBM\n",
        "PARAM$lgbm$param_fijos <- list(\n",
        "  objective= \"binary\",\n",
        "  metric= \"auc\",\n",
        "  first_metric_only= TRUE,\n",
        "  boost_from_average= TRUE,\n",
        "  feature_pre_filter= FALSE,\n",
        "  verbosity= -100,\n",
        "  force_row_wise= TRUE, # para evitar warning\n",
        "  seed= PARAM$semilla_primigenia,\n",
        "  max_bin= 31,\n",
        "  num_iterations= 2048,  # valor grande, lo limita early_stopping_rounds\n",
        "  early_stopping_rounds= 200\n",
        ")\n",
        "\n",
        "# Aqui se cargan los bordes de los hiperparametros\n",
        "PARAM$hypeparametertuning$hs <- makeParamSet(\n",
        "  makeNumericParam(\"learning_rate\", lower= 0.01, upper= 0.3),\n",
        "  makeNumericParam(\"feature_fraction\", lower= 0.1, upper= 1.0),\n",
        "  makeIntegerParam(\"num_leaves\", lower= 8L, upper= 2048L),\n",
        "  makeIntegerParam(\"min_data_in_leaf\", lower= 1L, upper= 8000L)\n",
        ")"
      ],
      "metadata": {
        "id": "2y3Ai8F6CJQ2"
      },
      "execution_count": 22,
      "outputs": []
    },
    {
      "cell_type": "code",
      "source": [
        "# En el argumento x llegan los parmaetros de la bayesiana\n",
        "#  devuelve la AUC de cross validation del modelo entrenado\n",
        "\n",
        "EstimarGanancia_AUC_lightgbm <- function(x) {\n",
        "\n",
        "  message(format(Sys.time(), \"%a %b %d %X %Y\"))\n",
        "\n",
        "  # uno la lista de hiperparametros : fijos + variables\n",
        "  param_completo <- c(PARAM$lgbm$param_fijos, x)\n",
        "\n",
        "  # entreno LightGBM\n",
        "  modelocv <- lgb.cv(\n",
        "    data= dtrain,\n",
        "    nfold= PARAM$hyperparametertuning$xval_folds,\n",
        "    stratified= TRUE,\n",
        "    param= param_completo,\n",
        "    verbose= -100\n",
        "  )\n",
        "\n",
        "  # obtengo la ganancia\n",
        "  AUC <- modelocv$best_score\n",
        "\n",
        "  # esta es la forma de devolver un parametro extra\n",
        "  attr(AUC, \"extras\") <- list(\"num_iterations\"= modelocv$best_iter)\n",
        "\n",
        "  # hago espacio en la memoria\n",
        "  rm(modelocv)\n",
        "  gc(full= TRUE, verbose= FALSE)\n",
        "\n",
        "  message( \"AUC: \", AUC)\n",
        "  return(AUC)\n",
        "}"
      ],
      "metadata": {
        "id": "NnPKiCHuCwVo"
      },
      "execution_count": 23,
      "outputs": []
    },
    {
      "cell_type": "markdown",
      "source": [
        "aqui se inicia el programa"
      ],
      "metadata": {
        "id": "P7Pw1KLeE3UH"
      }
    },
    {
      "cell_type": "code",
      "source": [
        "# carpeta de trabajo\n",
        "\n",
        "setwd(\"/content/buckets/b1/exp\")\n",
        "experimento_folder <- paste0(\"HT\", PARAM$experimento)\n",
        "dir.create(experimento_folder, showWarnings=FALSE)\n",
        "setwd( paste0(\"/content/buckets/b1/exp/\", experimento_folder ))"
      ],
      "metadata": {
        "id": "w1lb19whCJQ3"
      },
      "execution_count": 24,
      "outputs": []
    },
    {
      "cell_type": "code",
      "source": [
        "# en este archivo quedan la evolucion binaria de la BO\n",
        "\n",
        "kbayesiana <- \"bayesiana.RDATA\""
      ],
      "metadata": {
        "id": "QvOokHUvuolF"
      },
      "execution_count": 25,
      "outputs": []
    },
    {
      "cell_type": "code",
      "source": [
        "# lectura del dataset\n",
        "\n",
        "dataset <- fread(\"/content/datasets/dataset_pequeno.csv\")"
      ],
      "metadata": {
        "id": "xcOJpoFvCJQ3"
      },
      "execution_count": 26,
      "outputs": []
    },
    {
      "cell_type": "code",
      "source": [
        "dataset <- dataset[foto_mes %in% c(202107)]"
      ],
      "metadata": {
        "id": "JorOk_A8EhSy"
      },
      "execution_count": 27,
      "outputs": []
    },
    {
      "cell_type": "code",
      "source": [
        "# paso la clase a binaria que tome valores {0,1}  enteros\n",
        "\n",
        "dataset[\n",
        "  foto_mes %in% c(202107),\n",
        "  clase01 := ifelse(clase_ternaria == \"BAJA+2\", 1L, 0L)\n",
        "]"
      ],
      "metadata": {
        "id": "JDg9xZVYrwvj"
      },
      "execution_count": 28,
      "outputs": []
    },
    {
      "cell_type": "code",
      "source": [
        "# los campos que se van a utilizar\n",
        "\n",
        "campos_buenos <- setdiff(\n",
        "  colnames(dataset),\n",
        "  c(\"clase_ternaria\", \"clase01\", \"azar\", \"training\")\n",
        ")\n"
      ],
      "metadata": {
        "id": "E68xpDYAr0nK"
      },
      "execution_count": 29,
      "outputs": []
    },
    {
      "cell_type": "code",
      "source": [
        "# defino los datos que forma parte del training\n",
        "# aqui se hace el undersampling de los CONTINUA\n",
        "# notar que para esto utilizo la SEGUNDA semilla\n",
        "\n",
        "set.seed(PARAM$semilla_primigenia, kind= \"L'Ecuyer-CMRG\")\n",
        "dataset[, azar := runif(nrow(dataset))]\n",
        "dataset[, training := 0L]\n",
        "\n",
        "dataset[\n",
        "  foto_mes %in% c(202107) &\n",
        "    (azar <= PARAM$trainingstrategy$undersampling | clase_ternaria %in% c(\"BAJA+1\", \"BAJA+2\")),\n",
        "  training := 1L\n",
        "]"
      ],
      "metadata": {
        "id": "G8zeYUfSr3GF"
      },
      "execution_count": 30,
      "outputs": []
    },
    {
      "cell_type": "code",
      "source": [
        "# dejo los datos en el formato que necesita LightGBM\n",
        "\n",
        "dtrain <- lgb.Dataset(\n",
        "  data= data.matrix(dataset[training == 1L, campos_buenos, with= FALSE]),\n",
        "  label= dataset[training == 1L, clase01],\n",
        "  free_raw_data= FALSE\n",
        ")\n",
        "\n",
        "nrow(dtrain)\n",
        "ncol(dtrain)"
      ],
      "metadata": {
        "id": "se8_aKuMr5CV",
        "outputId": "75f25714-d726-4801-ebbf-d30cb4c3662a",
        "colab": {
          "base_uri": "https://localhost:8080/",
          "height": 52
        }
      },
      "execution_count": 31,
      "outputs": [
        {
          "output_type": "display_data",
          "data": {
            "text/html": [
              "164596"
            ],
            "text/markdown": "164596",
            "text/latex": "164596",
            "text/plain": [
              "[1] 164596"
            ]
          },
          "metadata": {}
        },
        {
          "output_type": "display_data",
          "data": {
            "text/html": [
              "154"
            ],
            "text/markdown": "154",
            "text/latex": "154",
            "text/plain": [
              "[1] 154"
            ]
          },
          "metadata": {}
        }
      ]
    },
    {
      "cell_type": "code",
      "source": [
        "# Aqui comienza la configuracion de la Bayesian Optimization\n",
        "\n",
        "funcion_optimizar <- EstimarGanancia_AUC_lightgbm # la funcion que voy a maximizar\n",
        "\n",
        "configureMlr(show.learner.output= FALSE)\n",
        "\n",
        "# configuro la busqueda bayesiana,  los hiperparametros que se van a optimizar\n",
        "# por favor, no desesperarse por lo complejo\n",
        "\n",
        "obj.fun <- makeSingleObjectiveFunction(\n",
        "  fn= funcion_optimizar, # la funcion que voy a maximizar\n",
        "  minimize= FALSE, # estoy Maximizando la ganancia\n",
        "  noisy= TRUE,\n",
        "  par.set= PARAM$hypeparametertuning$hs, # definido al comienzo del programa\n",
        "  has.simple.signature= FALSE # paso los parametros en una lista\n",
        ")\n",
        "\n",
        "# cada 600 segundos guardo el resultado intermedio\n",
        "ctrl <- makeMBOControl(\n",
        "  save.on.disk.at.time= 600, # se graba cada 600 segundos\n",
        "  save.file.path= kbayesiana\n",
        ") # se graba cada 600 segundos\n",
        "\n",
        "# indico la cantidad de iteraciones que va a tener la Bayesian Optimization\n",
        "ctrl <- setMBOControlTermination(\n",
        "  ctrl,\n",
        "  iters= PARAM$hyperparametertuning$iteraciones\n",
        ") # cantidad de iteraciones\n",
        "\n",
        "# defino el método estandar para la creacion de los puntos iniciales,\n",
        "# los \"No Inteligentes\"\n",
        "ctrl <- setMBOControlInfill(ctrl, crit= makeMBOInfillCritEI())\n",
        "\n",
        "# establezco la funcion que busca el maximo\n",
        "surr.km <- makeLearner(\n",
        "  \"regr.km\",\n",
        "  predict.type= \"se\",\n",
        "  covtype= \"matern3_2\",\n",
        "  control= list(trace= TRUE)\n",
        ")\n"
      ],
      "metadata": {
        "id": "CsRYGGeN-1ID"
      },
      "execution_count": 32,
      "outputs": []
    },
    {
      "cell_type": "code",
      "source": [
        "# inicio la optimizacion bayesiana, retomando si ya existe\n",
        "\n",
        "if (!file.exists(kbayesiana)) {\n",
        "  bayesiana_salida <- mbo(obj.fun, learner= surr.km, control= ctrl)\n",
        "} else {\n",
        "  bayesiana_salida <- mboContinue(kbayesiana) # retomo en caso que ya exista\n",
        "}"
      ],
      "metadata": {
        "id": "TissqCCHD1uZ",
        "outputId": "92266186-7ac4-45cc-ed17-2aa5c7502603",
        "colab": {
          "base_uri": "https://localhost:8080/"
        }
      },
      "execution_count": 33,
      "outputs": [
        {
          "output_type": "stream",
          "name": "stderr",
          "text": [
            "Computing y column(s) for design. Not provided.\n",
            "\n",
            "Wed Oct 29 08:04:15 PM 2025\n",
            "\n",
            "AUC: 0.900155084808635\n",
            "\n",
            "Wed Oct 29 08:05:49 PM 2025\n",
            "\n",
            "AUC: 0.90279270236566\n",
            "\n",
            "Wed Oct 29 08:06:55 PM 2025\n",
            "\n",
            "AUC: 0.903116364064592\n",
            "\n",
            "Wed Oct 29 08:08:38 PM 2025\n",
            "\n",
            "AUC: 0.902539542907627\n",
            "\n",
            "Wed Oct 29 08:10:09 PM 2025\n",
            "\n",
            "AUC: 0.901571103988775\n",
            "\n",
            "Wed Oct 29 08:11:20 PM 2025\n",
            "\n",
            "AUC: 0.889178311193919\n",
            "\n",
            "Wed Oct 29 08:12:26 PM 2025\n",
            "\n",
            "AUC: 0.902746896783397\n",
            "\n",
            "Wed Oct 29 08:14:19 PM 2025\n",
            "\n",
            "AUC: 0.90656338580842\n",
            "\n",
            "Wed Oct 29 08:15:55 PM 2025\n",
            "\n",
            "AUC: 0.903814256456637\n",
            "\n",
            "Wed Oct 29 08:20:33 PM 2025\n",
            "\n",
            "AUC: 0.903891187894845\n",
            "\n",
            "Wed Oct 29 08:22:54 PM 2025\n",
            "\n",
            "AUC: 0.889865637684543\n",
            "\n",
            "Wed Oct 29 08:24:57 PM 2025\n",
            "\n",
            "AUC: 0.893175377968897\n",
            "\n",
            "Wed Oct 29 08:27:25 PM 2025\n",
            "\n",
            "AUC: 0.904473980105965\n",
            "\n",
            "Wed Oct 29 08:29:10 PM 2025\n",
            "\n",
            "AUC: 0.901319001546446\n",
            "\n",
            "Wed Oct 29 08:30:44 PM 2025\n",
            "\n",
            "AUC: 0.898975557850461\n",
            "\n",
            "Wed Oct 29 08:32:54 PM 2025\n",
            "\n",
            "AUC: 0.900241931109923\n",
            "\n",
            "[mbo] 0: learning_rate=0.226; feature_fraction=0.356; num_leaves=720; min_data_in_leaf=4910 : y = 0.9 : 94.4 secs : initdesign\n",
            "\n",
            "[mbo] 0: learning_rate=0.19; feature_fraction=0.648; num_leaves=1048; min_data_in_leaf=7453 : y = 0.903 : 65.9 secs : initdesign\n",
            "\n",
            "[mbo] 0: learning_rate=0.161; feature_fraction=0.565; num_leaves=1719; min_data_in_leaf=5506 : y = 0.903 : 103.3 secs : initdesign\n",
            "\n",
            "[mbo] 0: learning_rate=0.133; feature_fraction=0.676; num_leaves=1489; min_data_in_leaf=2122 : y = 0.903 : 90.9 secs : initdesign\n",
            "\n",
            "[mbo] 0: learning_rate=0.273; feature_fraction=0.879; num_leaves=604; min_data_in_leaf=3235 : y = 0.902 : 70.8 secs : initdesign\n",
            "\n",
            "[mbo] 0: learning_rate=0.246; feature_fraction=0.108; num_leaves=1226; min_data_in_leaf=1676 : y = 0.889 : 65.7 secs : initdesign\n",
            "\n",
            "[mbo] 0: learning_rate=0.137; feature_fraction=0.428; num_leaves=1952; min_data_in_leaf=5394 : y = 0.903 : 113.3 secs : initdesign\n",
            "\n",
            "[mbo] 0: learning_rate=0.0652; feature_fraction=0.803; num_leaves=334; min_data_in_leaf=6867 : y = 0.907 : 95.7 secs : initdesign\n",
            "\n",
            "[mbo] 0: learning_rate=0.0103; feature_fraction=0.203; num_leaves=50; min_data_in_leaf=4002 : y = 0.904 : 277.9 secs : initdesign\n",
            "\n",
            "[mbo] 0: learning_rate=0.0552; feature_fraction=0.245; num_leaves=914; min_data_in_leaf=7784 : y = 0.904 : 141.1 secs : initdesign\n",
            "\n",
            "[mbo] 0: learning_rate=0.295; feature_fraction=0.524; num_leaves=478; min_data_in_leaf=1300 : y = 0.89 : 123.5 secs : initdesign\n",
            "\n",
            "[mbo] 0: learning_rate=0.198; feature_fraction=0.92; num_leaves=1580; min_data_in_leaf=768 : y = 0.893 : 147.5 secs : initdesign\n",
            "\n",
            "[mbo] 0: learning_rate=0.0394; feature_fraction=0.763; num_leaves=1898; min_data_in_leaf=3835 : y = 0.904 : 105.6 secs : initdesign\n",
            "\n",
            "[mbo] 0: learning_rate=0.0891; feature_fraction=0.963; num_leaves=143; min_data_in_leaf=2923 : y = 0.901 : 93.7 secs : initdesign\n",
            "\n",
            "[mbo] 0: learning_rate=0.112; feature_fraction=0.286; num_leaves=1340; min_data_in_leaf=473 : y = 0.899 : 129.8 secs : initdesign\n",
            "\n",
            "[mbo] 0: learning_rate=0.239; feature_fraction=0.485; num_leaves=814; min_data_in_leaf=6335 : y = 0.9 : 106.8 secs : initdesign\n",
            "\n",
            "Saved the current state after iteration 1 in the file bayesiana.RDATA.\n",
            "\n",
            "Wed Oct 29 08:34:41 PM 2025\n",
            "\n",
            "AUC: 0.902791693689122\n",
            "\n",
            "[mbo] 1: learning_rate=0.0973; feature_fraction=0.721; num_leaves=922; min_data_in_leaf=5077 : y = 0.903 : 79.1 secs : infill_ei\n",
            "\n",
            "Wed Oct 29 08:36:01 PM 2025\n",
            "\n",
            "AUC: 0.904712406128927\n",
            "\n",
            "[mbo] 2: learning_rate=0.0102; feature_fraction=0.997; num_leaves=72; min_data_in_leaf=6941 : y = 0.905 : 308.7 secs : infill_ei\n",
            "\n",
            "Wed Oct 29 08:41:10 PM 2025\n",
            "\n",
            "AUC: 0.902913739808702\n",
            "\n",
            "[mbo] 3: learning_rate=0.0684; feature_fraction=0.302; num_leaves=1205; min_data_in_leaf=6958 : y = 0.903 : 119.1 secs : infill_ei\n",
            "\n",
            "Wed Oct 29 08:43:10 PM 2025\n",
            "\n",
            "AUC: 0.903918486077428\n",
            "\n",
            "[mbo] 4: learning_rate=0.0825; feature_fraction=0.982; num_leaves=9; min_data_in_leaf=7662 : y = 0.904 : 68.3 secs : infill_ei\n",
            "\n",
            "Wed Oct 29 08:44:18 PM 2025\n",
            "\n",
            "AUC: 0.902434886274748\n",
            "\n",
            "[mbo] 5: learning_rate=0.0458; feature_fraction=0.7; num_leaves=9; min_data_in_leaf=6475 : y = 0.902 : 84.7 secs : infill_ei\n",
            "\n",
            "Saved the current state after iteration 6 in the file bayesiana.RDATA.\n",
            "\n",
            "Wed Oct 29 08:45:44 PM 2025\n",
            "\n",
            "AUC: 0.90567287535126\n",
            "\n",
            "[mbo] 6: learning_rate=0.104; feature_fraction=1; num_leaves=110; min_data_in_leaf=6892 : y = 0.906 : 71.5 secs : infill_ei\n",
            "\n",
            "Wed Oct 29 08:46:56 PM 2025\n",
            "\n",
            "AUC: 0.903594288301134\n",
            "\n",
            "[mbo] 7: learning_rate=0.0703; feature_fraction=0.88; num_leaves=1699; min_data_in_leaf=6992 : y = 0.904 : 81.7 secs : infill_ei\n",
            "\n",
            "Wed Oct 29 08:48:18 PM 2025\n",
            "\n",
            "AUC: 0.906507505722285\n",
            "\n",
            "[mbo] 8: learning_rate=0.0101; feature_fraction=0.232; num_leaves=1980; min_data_in_leaf=2475 : y = 0.907 : 340.3 secs : infill_ei\n",
            "\n",
            "Wed Oct 29 08:53:59 PM 2025\n",
            "\n",
            "AUC: 0.90370738775978\n",
            "\n",
            "[mbo] 9: learning_rate=0.0117; feature_fraction=0.905; num_leaves=2041; min_data_in_leaf=2426 : y = 0.904 : 217.2 secs : infill_ei\n",
            "\n",
            "Saved the current state after iteration 10 in the file bayesiana.RDATA.\n",
            "\n",
            "Wed Oct 29 08:57:36 PM 2025\n",
            "\n",
            "AUC: 0.90567941717904\n",
            "\n",
            "[mbo] 10: learning_rate=0.0815; feature_fraction=1; num_leaves=536; min_data_in_leaf=7079 : y = 0.906 : 91.4 secs : infill_ei\n",
            "\n",
            "Wed Oct 29 08:59:08 PM 2025\n",
            "\n",
            "AUC: 0.900213815157974\n",
            "\n",
            "[mbo] 11: learning_rate=0.0401; feature_fraction=0.101; num_leaves=1742; min_data_in_leaf=2932 : y = 0.9 : 128.6 secs : infill_ei\n",
            "\n",
            "Wed Oct 29 09:01:17 PM 2025\n",
            "\n",
            "AUC: 0.903388466805058\n",
            "\n",
            "[mbo] 12: learning_rate=0.01; feature_fraction=0.115; num_leaves=2034; min_data_in_leaf=2271 : y = 0.903 : 313.0 secs : infill_ei\n",
            "\n",
            "Wed Oct 29 09:06:31 PM 2025\n",
            "\n",
            "AUC: 0.905084884345937\n",
            "\n",
            "[mbo] 13: learning_rate=0.01; feature_fraction=0.434; num_leaves=2041; min_data_in_leaf=2433 : y = 0.905 : 415.1 secs : infill_ei\n",
            "\n",
            "Saved the current state after iteration 14 in the file bayesiana.RDATA.\n",
            "\n",
            "Wed Oct 29 09:13:26 PM 2025\n",
            "\n",
            "AUC: 0.902428682393693\n",
            "\n",
            "[mbo] 14: learning_rate=0.146; feature_fraction=0.854; num_leaves=449; min_data_in_leaf=6794 : y = 0.902 : 66.4 secs : infill_ei\n",
            "\n",
            "Wed Oct 29 09:14:33 PM 2025\n",
            "\n",
            "AUC: 0.903423974019407\n",
            "\n",
            "[mbo] 15: learning_rate=0.0101; feature_fraction=0.817; num_leaves=565; min_data_in_leaf=6177 : y = 0.903 : 251.1 secs : infill_ei\n",
            "\n",
            "Wed Oct 29 09:18:45 PM 2025\n",
            "\n",
            "AUC: 0.903463645453729\n",
            "\n",
            "[mbo] 16: learning_rate=0.0157; feature_fraction=0.13; num_leaves=1123; min_data_in_leaf=2527 : y = 0.903 : 243.5 secs : infill_ei\n",
            "\n",
            "Wed Oct 29 09:22:49 PM 2025\n",
            "\n",
            "AUC: 0.901046442981903\n",
            "\n",
            "[mbo] 17: learning_rate=0.0989; feature_fraction=0.232; num_leaves=2048; min_data_in_leaf=2498 : y = 0.901 : 105.4 secs : infill_ei\n",
            "\n",
            "Saved the current state after iteration 18 in the file bayesiana.RDATA.\n",
            "\n",
            "Wed Oct 29 09:24:35 PM 2025\n",
            "\n",
            "AUC: 0.904143920834527\n",
            "\n",
            "[mbo] 18: learning_rate=0.0646; feature_fraction=0.902; num_leaves=280; min_data_in_leaf=6901 : y = 0.904 : 88.0 secs : infill_ei\n",
            "\n",
            "Wed Oct 29 09:26:03 PM 2025\n",
            "\n",
            "AUC: 0.904525661196852\n",
            "\n",
            "[mbo] 19: learning_rate=0.01; feature_fraction=0.262; num_leaves=2031; min_data_in_leaf=7942 : y = 0.905 : 454.1 secs : infill_ei\n",
            "\n",
            "Wed Oct 29 09:33:38 PM 2025\n",
            "\n",
            "AUC: 0.905179437300202\n",
            "\n",
            "[mbo] 20: learning_rate=0.0102; feature_fraction=0.487; num_leaves=1967; min_data_in_leaf=5245 : y = 0.905 : 489.8 secs : infill_ei\n",
            "\n",
            "Saved the current state after iteration 21 in the file bayesiana.RDATA.\n",
            "\n",
            "Wed Oct 29 09:41:48 PM 2025\n",
            "\n",
            "AUC: 0.904044145455904\n",
            "\n",
            "[mbo] 21: learning_rate=0.0345; feature_fraction=1; num_leaves=1593; min_data_in_leaf=7120 : y = 0.904 : 106.2 secs : infill_ei\n",
            "\n",
            "Wed Oct 29 09:43:35 PM 2025\n",
            "\n",
            "AUC: 0.904634572651795\n",
            "\n",
            "[mbo] 22: learning_rate=0.0643; feature_fraction=0.797; num_leaves=815; min_data_in_leaf=7999 : y = 0.905 : 92.7 secs : infill_ei\n",
            "\n",
            "Wed Oct 29 09:45:08 PM 2025\n",
            "\n",
            "AUC: 0.904913173078311\n",
            "\n",
            "[mbo] 23: learning_rate=0.0639; feature_fraction=0.809; num_leaves=12; min_data_in_leaf=3734 : y = 0.905 : 91.5 secs : infill_ei\n",
            "\n",
            "Wed Oct 29 09:46:40 PM 2025\n",
            "\n",
            "AUC: 0.901807384923565\n",
            "\n",
            "[mbo] 24: learning_rate=0.0111; feature_fraction=0.581; num_leaves=2048; min_data_in_leaf=165 : y = 0.902 : 886.2 secs : infill_ei\n",
            "\n",
            "Saved the current state after iteration 25 in the file bayesiana.RDATA.\n",
            "\n",
            "Wed Oct 29 10:01:27 PM 2025\n",
            "\n",
            "AUC: 0.902243425465955\n",
            "\n",
            "[mbo] 25: learning_rate=0.3; feature_fraction=1; num_leaves=214; min_data_in_leaf=7930 : y = 0.902 : 56.7 secs : infill_ei\n",
            "\n",
            "Wed Oct 29 10:02:24 PM 2025\n",
            "\n",
            "AUC: 0.902210776150277\n",
            "\n",
            "[mbo] 26: learning_rate=0.0561; feature_fraction=0.758; num_leaves=133; min_data_in_leaf=7123 : y = 0.902 : 86.4 secs : infill_ei\n",
            "\n",
            "Wed Oct 29 10:03:51 PM 2025\n",
            "\n",
            "AUC: 0.906636799248567\n",
            "\n",
            "[mbo] 27: learning_rate=0.0101; feature_fraction=0.302; num_leaves=1193; min_data_in_leaf=2481 : y = 0.907 : 301.3 secs : infill_ei\n",
            "\n",
            "Wed Oct 29 10:08:53 PM 2025\n",
            "\n",
            "AUC: 0.904307294242368\n",
            "\n",
            "[mbo] 28: learning_rate=0.0176; feature_fraction=0.746; num_leaves=891; min_data_in_leaf=6817 : y = 0.904 : 174.3 secs : infill_ei\n",
            "\n",
            "Saved the current state after iteration 29 in the file bayesiana.RDATA.\n",
            "\n",
            "Wed Oct 29 10:11:48 PM 2025\n",
            "\n",
            "AUC: 0.903378310368761\n",
            "\n",
            "[mbo] 29: learning_rate=0.0716; feature_fraction=0.807; num_leaves=943; min_data_in_leaf=6641 : y = 0.903 : 81.8 secs : infill_ei\n",
            "\n",
            "Wed Oct 29 10:13:10 PM 2025\n",
            "\n",
            "AUC: 0.903744642365252\n",
            "\n",
            "[mbo] 30: learning_rate=0.01; feature_fraction=0.236; num_leaves=1201; min_data_in_leaf=3724 : y = 0.904 : 350.8 secs : infill_ei\n",
            "\n",
            "Saved the final state in the file bayesiana.RDATA\n",
            "\n"
          ]
        }
      ]
    },
    {
      "cell_type": "code",
      "source": [
        "# almaceno los resultados de la Bayesian Optimization\n",
        "# y capturo los mejores hiperparametros encontrados\n",
        "\n",
        "tb_bayesiana <- as.data.table(bayesiana_salida$opt.path)\n",
        "\n",
        "tb_bayesiana[, iter:= .I]\n",
        "# ordeno en forma descendente por AUC = y\n",
        "setorder(tb_bayesiana, -y, -num_iterations)\n",
        "\n",
        "# grabo para eventualmente poder utilizarlos en OTRA corrida\n",
        "fwrite( tb_bayesiana,\n",
        "  file= \"BO_log.txt\",\n",
        "  sep= \"\\t\"\n",
        ")\n",
        "\n",
        "# los mejores hiperparámetros son los que quedaron en el registro 1 de la tabla\n",
        "PARAM$out$lgbm$mejores_hiperparametros <- tb_bayesiana[\n",
        "  1, # el primero es el de mejor AUC\n",
        "  list(learning_rate, feature_fraction, num_leaves, min_data_in_leaf, num_iterations)\n",
        "]\n",
        "\n",
        "print(PARAM$out$lgbm$mejores_hiperparametros)"
      ],
      "metadata": {
        "id": "aC-ls8JfNDTf",
        "colab": {
          "base_uri": "https://localhost:8080/"
        },
        "outputId": "86d3749d-e957-407d-d4a8-95bb9ea43895"
      },
      "execution_count": 34,
      "outputs": [
        {
          "output_type": "stream",
          "name": "stdout",
          "text": [
            "   learning_rate feature_fraction num_leaves min_data_in_leaf num_iterations\n",
            "           <num>            <num>      <int>            <int>          <int>\n",
            "1:    0.01008274        0.3022719       1193             2481            535\n"
          ]
        }
      ]
    },
    {
      "cell_type": "code",
      "source": [
        "format(Sys.time(), \"%a %b %d %X %Y\")"
      ],
      "metadata": {
        "id": "5dPpsZpcX6e8",
        "outputId": "812dc181-0fa2-4ed0-f5a7-df1e434927b6",
        "colab": {
          "base_uri": "https://localhost:8080/",
          "height": 34
        }
      },
      "execution_count": 35,
      "outputs": [
        {
          "output_type": "display_data",
          "data": {
            "text/html": [
              "'Wed Oct 29 10:19:01 PM 2025'"
            ],
            "text/markdown": "'Wed Oct 29 10:19:01 PM 2025'",
            "text/latex": "'Wed Oct 29 10:19:01 PM 2025'",
            "text/plain": [
              "[1] \"Wed Oct 29 10:19:01 PM 2025\""
            ]
          },
          "metadata": {}
        }
      ]
    },
    {
      "cell_type": "markdown",
      "metadata": {
        "id": "0vu-1vf5LrVg"
      },
      "source": [
        "\n",
        "\n",
        "---\n",
        "\n"
      ]
    }
  ]
}