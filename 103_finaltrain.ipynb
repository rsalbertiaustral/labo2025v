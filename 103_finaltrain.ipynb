{
  "nbformat": 4,
  "nbformat_minor": 0,
  "metadata": {
    "colab": {
      "provenance": [],
      "include_colab_link": true
    },
    "kernelspec": {
      "name": "python3",
      "display_name": "Python 3"
    },
    "language_info": {
      "name": "python"
    }
  },
  "cells": [
    {
      "cell_type": "markdown",
      "metadata": {
        "id": "view-in-github",
        "colab_type": "text"
      },
      "source": [
        "<a href=\"https://colab.research.google.com/github/rsalbertiaustral/labo2025v/blob/main/103_finaltrain.ipynb\" target=\"_parent\"><img src=\"https://colab.research.google.com/assets/colab-badge.svg\" alt=\"Open In Colab\"/></a>"
      ]
    },
    {
      "cell_type": "markdown",
      "source": [
        "# Arbol elemental con libreria  rpart"
      ],
      "metadata": {
        "id": "x79hZRjomDop"
      }
    },
    {
      "cell_type": "markdown",
      "source": [
        "## Introduccion"
      ],
      "metadata": {
        "id": "_4490Ry5cqPo"
      }
    },
    {
      "cell_type": "markdown",
      "source": [
        "Este es el primer notebook/script de la materia Laboratorio de Implementacion I, se expone en la primera clase.\n",
        "<br>Se utilizan Arboles de Decision, librería **rpart**,  el primer algoritmo, el más simple que utilizaremos en la materia pero que es el fundamento de los Ensembles de Arboles de Decision tales como  Random Forest y  Gradient Boosting of Decision Trees (XGBoost/LightGBM)\n",
        "<br>La materia posee un dataset con 31 meses, en las primeras clases toda la cohorte, independiente de la modalidad elegida, utilizará **dataset_pequeno** que posee apenas un mes histórico 202107 y obviamente el mes donde se debe realizar la predicción 202109\n",
        "<br>Este primer notebook/script **no** desarrolla todas las etapas necesarias para la generación de un buen modelo, apenas posee la parte final del pipeline/workflow."
      ],
      "metadata": {
        "id": "aAYUcclYjDCi"
      }
    },
    {
      "cell_type": "markdown",
      "source": [
        "### Limitaciones\n",
        "\n"
      ],
      "metadata": {
        "id": "kjl2iZNJjTTn"
      }
    },
    {
      "cell_type": "markdown",
      "source": [
        "Este primer y elemental notebook/script supone estas simplificaciónes:\n",
        "* Solo se dispone del mes 202107 con el campo clase_ternaria completo, es el unico mes donde entrenar\n",
        "* Se decidió previamente, de alguna forma, que la etapa de Final Training se hará sobre TODO el dataset de 202107\n",
        "* Se obtuvieron previamente los hiperparámetros optimos de la libería **rpart** para este problema, mediante algun tipo de busqueda búsqueda.  Esta es la etapa que demandará decenas de horas para quienes opten por la *modalidad Analista Senior*\n",
        "* No se realiza ningun tipo de feature engineering intra-mes\n",
        "* Al no disponer de datos históricos no se realiza ningun tipo de feature engineering histórico\n",
        "* No hay ningun analisis de la calidad de los campos, no se analiza si ocurrió alguna catástrofe ese mes y algun campo no se calculó correctamente\n",
        "* Noy hay ningun tipo de análisis de Data Drifting entre los meses de 202107 y 202109\n",
        "* Obedientemente se trabaja utlizando como clase el campo **clase_ternaria** sin ningun tipo de transformacion\n",
        "\n",
        "\n",
        "<br> Obviamente, a lo largo de la materia se avanzará sobre todas las limitacinoes anteriores."
      ],
      "metadata": {
        "id": "Ls6hLk6Vja_C"
      }
    },
    {
      "cell_type": "markdown",
      "source": [
        "## Seteo del ambiente en Google Colab"
      ],
      "metadata": {
        "id": "kmLygy1TYPfg"
      }
    },
    {
      "cell_type": "markdown",
      "source": [
        "Esta parte se debe correr con el runtime en Python3\n",
        "<br>Ir al menu, Runtime -> Change Runtime Tipe -> Runtime type ->  **Python 3**"
      ],
      "metadata": {
        "id": "OikOm5K2YU3X"
      }
    },
    {
      "cell_type": "markdown",
      "source": [
        "Conectar la virtual machine donde esta corriendo Google Colab con el  Google Drive, para poder tener persistencia de archivos"
      ],
      "metadata": {
        "id": "4fmV5LyZdFyI"
      }
    },
    {
      "cell_type": "code",
      "source": [
        "# primero establecer el Runtime de Python 3\n",
        "from google.colab import drive\n",
        "drive.mount('/content/.drive')"
      ],
      "metadata": {
        "id": "ilEZ-bE2VybW"
      },
      "execution_count": null,
      "outputs": []
    },
    {
      "cell_type": "markdown",
      "source": [
        "Para correr la siguiente celda es fundamental en Arranque en Frio haber copiado el archivo kaggle.json al Google Drive, en la carpeta indicada en el instructivo\n",
        "\n",
        "<br>los siguientes comando estan en shell script de Linux\n",
        "*   Crear las carpetas en el Google Drive\n",
        "*   \"instalar\" el archivo kaggle.json desde el Google Drive a la virtual machine para que pueda ser utilizado por la libreria  kaggle de Python\n",
        "*   Bajar el  **dataset_pequeno**  al  Google Drive  y tambien al disco local de la virtual machine que esta corriendo Google Colab\n",
        "\n"
      ],
      "metadata": {
        "id": "ilaKtqWldeWg"
      }
    },
    {
      "cell_type": "code",
      "source": [
        "%%shell\n",
        "\n",
        "mkdir -p \"/content/.drive/My Drive/labo1\"\n",
        "mkdir -p \"/content/buckets\"\n",
        "ln -s \"/content/.drive/My Drive/labo1\" /content/buckets/b1\n",
        "\n",
        "mkdir -p ~/.kaggle\n",
        "cp /content/buckets/b1/kaggle/kaggle.json  ~/.kaggle\n",
        "chmod 600 ~/.kaggle/kaggle.json\n",
        "\n",
        "\n",
        "mkdir -p /content/buckets/b1/exp\n",
        "mkdir -p /content/buckets/b1/datasets\n",
        "mkdir -p /content/datasets\n",
        "\n",
        "\n",
        "\n",
        "archivo_origen=\"https://storage.googleapis.com/open-courses/austral2025-af91/gridsearchconsol.csv\"\n",
        "archivo_destino_bucket=\"/content/buckets/b1/datasets/gridsearchconsol.csv\"\n",
        "\n",
        "if ! test -f $archivo_destino_bucket; then\n",
        "  wget  $archivo_origen  -O $archivo_destino_bucket\n",
        "fi\n",
        "\n",
        "\n",
        "if ! test -f $archivo_destino; then\n",
        "  cp  $archivo_destino_bucket  $archivo_destino\n",
        "fi\n"
      ],
      "metadata": {
        "id": "W8dQFI5QYCFa",
        "colab": {
          "base_uri": "https://localhost:8080/"
        },
        "outputId": "ebf0c80d-cedd-4b02-ff87-7eb1dc8c1874"
      },
      "execution_count": null,
      "outputs": [
        {
          "output_type": "execute_result",
          "data": {
            "text/plain": []
          },
          "metadata": {},
          "execution_count": 2
        }
      ]
    },
    {
      "cell_type": "markdown",
      "source": [
        "## Final Train y generacion de la prediccion"
      ],
      "metadata": {
        "id": "GfY5gFQAaWDe"
      }
    },
    {
      "cell_type": "markdown",
      "source": [
        "Esta parte se debe correr con el runtime en lenguaje **R** Ir al menu, Runtime -> Change Runtime Tipe -> Runtime type -> R"
      ],
      "metadata": {
        "id": "SBXPU-_tabMb"
      }
    },
    {
      "cell_type": "markdown",
      "source": [
        "limpio el ambiente de R"
      ],
      "metadata": {
        "id": "SE94XRhWsxkX"
      }
    },
    {
      "cell_type": "code",
      "source": [
        "# limpio la memoria\n",
        "rm(list=ls(all.names=TRUE)) # remove all objects\n",
        "gc(full=TRUE, verbose=FALSE) # garbage collection"
      ],
      "metadata": {
        "id": "oZG_4br6szlT",
        "colab": {
          "base_uri": "https://localhost:8080/",
          "height": 130
        },
        "outputId": "24732f4f-f59f-4580-b648-279214fc0dad"
      },
      "execution_count": null,
      "outputs": [
        {
          "output_type": "display_data",
          "data": {
            "text/html": [
              "<table class=\"dataframe\">\n",
              "<caption>A matrix: 2 × 6 of type dbl</caption>\n",
              "<thead>\n",
              "\t<tr><th></th><th scope=col>used</th><th scope=col>(Mb)</th><th scope=col>gc trigger</th><th scope=col>(Mb)</th><th scope=col>max used</th><th scope=col>(Mb)</th></tr>\n",
              "</thead>\n",
              "<tbody>\n",
              "\t<tr><th scope=row>Ncells</th><td> 657247</td><td>35.2</td><td>1454468</td><td>77.7</td><td>1367424</td><td>73.1</td></tr>\n",
              "\t<tr><th scope=row>Vcells</th><td>1220276</td><td> 9.4</td><td>8388608</td><td>64.0</td><td>1975128</td><td>15.1</td></tr>\n",
              "</tbody>\n",
              "</table>\n"
            ],
            "text/markdown": "\nA matrix: 2 × 6 of type dbl\n\n| <!--/--> | used | (Mb) | gc trigger | (Mb) | max used | (Mb) |\n|---|---|---|---|---|---|---|\n| Ncells |  657247 | 35.2 | 1454468 | 77.7 | 1367424 | 73.1 |\n| Vcells | 1220276 |  9.4 | 8388608 | 64.0 | 1975128 | 15.1 |\n\n",
            "text/latex": "A matrix: 2 × 6 of type dbl\n\\begin{tabular}{r|llllll}\n  & used & (Mb) & gc trigger & (Mb) & max used & (Mb)\\\\\n\\hline\n\tNcells &  657247 & 35.2 & 1454468 & 77.7 & 1367424 & 73.1\\\\\n\tVcells & 1220276 &  9.4 & 8388608 & 64.0 & 1975128 & 15.1\\\\\n\\end{tabular}\n",
            "text/plain": [
              "       used    (Mb) gc trigger (Mb) max used (Mb)\n",
              "Ncells  657247 35.2 1454468    77.7 1367424  73.1\n",
              "Vcells 1220276  9.4 8388608    64.0 1975128  15.1"
            ]
          },
          "metadata": {}
        }
      ]
    },
    {
      "cell_type": "markdown",
      "source": [
        "* Instalacion de la libreria  rpart.plot  para dibujar el arbol\n",
        "* invocacion de las librerias  **data.table**  **rpart** y  **rpart.plot**"
      ],
      "metadata": {
        "id": "3BrrQ47PeEb2"
      }
    },
    {
      "cell_type": "code",
      "source": [
        "# cargo las librerias que necesito\n",
        "require(\"data.table\")\n",
        "require(\"rpart\")\n",
        "if (!require(\"rpart.plot\")) install.packages(\"rpart.plot\")\n",
        "require(\"rpart.plot\")"
      ],
      "metadata": {
        "id": "SxO-0Ql0khn6",
        "colab": {
          "base_uri": "https://localhost:8080/"
        },
        "outputId": "8282b3d0-74d9-4718-d282-dda20490748a"
      },
      "execution_count": null,
      "outputs": [
        {
          "output_type": "stream",
          "name": "stderr",
          "text": [
            "Loading required package: data.table\n",
            "\n",
            "Loading required package: rpart\n",
            "\n",
            "Loading required package: rpart.plot\n",
            "\n",
            "Warning message in library(package, lib.loc = lib.loc, character.only = TRUE, logical.return = TRUE, :\n",
            "“there is no package called ‘rpart.plot’”\n",
            "Installing package into ‘/usr/local/lib/R/site-library’\n",
            "(as ‘lib’ is unspecified)\n",
            "\n",
            "Loading required package: rpart.plot\n",
            "\n"
          ]
        }
      ]
    },
    {
      "cell_type": "markdown",
      "source": [
        "Crear y moverse a la carpeta donde se va a trabajar"
      ],
      "metadata": {
        "id": "apAqiSA2eXSr"
      }
    },
    {
      "cell_type": "code",
      "source": [
        "# carpeta de trabajo\n",
        "setwd(\"/content/buckets/b1/exp\")\n",
        "experimento <- \"KA2001consol\"\n",
        "dir.create(experimento, showWarnings=FALSE)\n",
        "setwd( paste0(\"/content/buckets/b1/exp/\", experimento ))"
      ],
      "metadata": {
        "id": "u6JQluRzaNlX"
      },
      "execution_count": null,
      "outputs": []
    },
    {
      "cell_type": "markdown",
      "source": [
        "## Final Training"
      ],
      "metadata": {
        "id": "8ZvIUVwIWUTo"
      }
    },
    {
      "cell_type": "markdown",
      "source": [
        "### Final Train Dataset"
      ],
      "metadata": {
        "id": "XLOILuGOXR2J"
      }
    },
    {
      "cell_type": "markdown",
      "source": [
        "Es importante notar que para el entrenamiento final utilizo el mes de 202107 completo sin ningun tipo particion  train/test, aqui no hay random, aqui no hay semillas"
      ],
      "metadata": {
        "id": "xWhnTG7lxQQ-"
      }
    },
    {
      "cell_type": "code",
      "source": [
        "# lectura del dataset\n",
        "dataset <- fread(\"/content/datasets/gridsearchconsol.csv\")\n",
        "# dtrain_final <- dataset[foto_mes == 202107] # defino donde voy a entrenar"
      ],
      "metadata": {
        "id": "SguKBIIyaeWK"
      },
      "execution_count": null,
      "outputs": []
    },
    {
      "cell_type": "markdown",
      "source": [
        "### Hyperparameters"
      ],
      "metadata": {
        "id": "HiQCnQPEXcuM"
      }
    },
    {
      "cell_type": "markdown",
      "source": [
        "Aqui los hiperparámetros estan hardcodeados\n",
        "<br> Usted puede jugar con ellos manualmente\n",
        "<br> En las siguientes clases veremos como encontrar previamente los hiperparámetros óptimos, para ser copiados aquí"
      ],
      "metadata": {
        "id": "pfCLuBh4zJ2g"
      }
    },
    {
      "cell_type": "code",
      "source": [
        "param_final <- list (\n",
        "  \"cp\"= -1, # complejidad minima\n",
        "  \"minsplit\"= 250, # minima cantidad de regs en un nodo para hacer el split\n",
        "  \"minbucket\"= 100, # minima cantidad de regs en una hoja\n",
        "  \"maxdepth\"= 3 # profundidad máxima del arbol\n",
        ")"
      ],
      "metadata": {
        "id": "OaCUo3gYXgYV"
      },
      "execution_count": null,
      "outputs": []
    },
    {
      "cell_type": "markdown",
      "source": [
        "### Training"
      ],
      "metadata": {
        "id": "0PBsV__gXqJq"
      }
    },
    {
      "cell_type": "code",
      "source": [
        "# genero el modelo,  aqui se construye el arbol\n",
        "# quiero predecir ganancia test a partir de el resto de las variables\n",
        "modelo_final <- rpart(\n",
        "    formula= \" ganancia_test ~ .\",\n",
        "    data= dtrain_final, # los datos donde voy a entrenar\n",
        "    xval= 0,\n",
        "    control= do.call(rpart.control, param_final)\n",
        ")\n"
      ],
      "metadata": {
        "id": "SZz1lLIyke0U",
        "outputId": "0feb9de4-3b1c-4f7c-c8aa-0e865ad23ea5",
        "colab": {
          "base_uri": "https://localhost:8080/",
          "height": 1000
        }
      },
      "execution_count": null,
      "outputs": [
        {
          "output_type": "error",
          "ename": "ERROR",
          "evalue": "Error in eval(expr, p): object 'dtrain_final' not found\n",
          "traceback": [
            "Error in eval(expr, p): object 'dtrain_final' not found\nTraceback:\n",
            "1. eval.parent(temp)",
            "2. eval(expr, p)",
            "3. eval(expr, p)",
            "4. stats::model.frame(formula = \" ganancia_test ~ .\", data = dtrain_final, \n .     na.action = function (x) \n .     {\n .         Terms <- attr(x, \"terms\")\n .         if (!is.null(Terms)) \n .             yvar <- attr(Terms, \"response\")\n .         else yvar <- 0L\n .         if (yvar == 0L) {\n .             xmiss <- is.na(x)\n .             keep <- (xmiss %*% rep(1, ncol(xmiss))) < ncol(xmiss)\n .         }\n .         else {\n .             xmiss <- is.na(x[-yvar])\n .             ymiss <- is.na(x[[yvar]])\n .             keep <- if (is.matrix(ymiss)) \n .                 ((xmiss %*% rep(1, ncol(xmiss))) < ncol(xmiss)) & \n .                   ((ymiss %*% rep(1, ncol(ymiss))) == 0)\n .             else ((xmiss %*% rep(1, ncol(xmiss))) < ncol(xmiss)) & \n .                 !ymiss\n .         }\n .         if (all(keep)) \n .             x\n .         else {\n .             temp <- seq(keep)[!keep]\n .             names(temp) <- row.names(x)[!keep]\n .             class(temp) <- c(\"na.rpart\", \"omit\")\n .             structure(x[keep, , drop = FALSE], na.action = temp)\n .         }\n .     })",
            "5. model.frame.default(formula = \" ganancia_test ~ .\", data = dtrain_final, \n .     na.action = function (x) \n .     {\n .         Terms <- attr(x, \"terms\")\n .         if (!is.null(Terms)) \n .             yvar <- attr(Terms, \"response\")\n .         else yvar <- 0L\n .         if (yvar == 0L) {\n .             xmiss <- is.na(x)\n .             keep <- (xmiss %*% rep(1, ncol(xmiss))) < ncol(xmiss)\n .         }\n .         else {\n .             xmiss <- is.na(x[-yvar])\n .             ymiss <- is.na(x[[yvar]])\n .             keep <- if (is.matrix(ymiss)) \n .                 ((xmiss %*% rep(1, ncol(xmiss))) < ncol(xmiss)) & \n .                   ((ymiss %*% rep(1, ncol(ymiss))) == 0)\n .             else ((xmiss %*% rep(1, ncol(xmiss))) < ncol(xmiss)) & \n .                 !ymiss\n .         }\n .         if (all(keep)) \n .             x\n .         else {\n .             temp <- seq(keep)[!keep]\n .             names(temp) <- row.names(x)[!keep]\n .             class(temp) <- c(\"na.rpart\", \"omit\")\n .             structure(x[keep, , drop = FALSE], na.action = temp)\n .         }\n .     })",
            "6. is.data.frame(data)",
            "7. .handleSimpleError(function (cnd) \n . {\n .     watcher$capture_plot_and_output()\n .     cnd <- sanitize_call(cnd)\n .     watcher$push(cnd)\n .     switch(on_error, continue = invokeRestart(\"eval_continue\"), \n .         stop = invokeRestart(\"eval_stop\"), error = NULL)\n . }, \"object 'dtrain_final' not found\", base::quote(eval(expr, \n .     p)))"
          ]
        }
      ]
    },
    {
      "cell_type": "markdown",
      "source": [
        "#### Impresion del modelo"
      ],
      "metadata": {
        "id": "nsZbb_9-X9EZ"
      }
    },
    {
      "cell_type": "code",
      "source": [
        "# grafico el arbol\n",
        "options(repr.plot.width=30, repr.plot.height=20 )\n",
        "\n",
        "prp(modelo_final,\n",
        "    extra= 101,\n",
        "    digits= -5,\n",
        "    branch= 1,\n",
        "    type= 4,\n",
        "    varlen= 0,\n",
        "    faclen= 0\n",
        ")"
      ],
      "metadata": {
        "id": "mAVWy614X6hJ",
        "colab": {
          "base_uri": "https://localhost:8080/",
          "height": 1000
        },
        "outputId": "f3cab2b3-c9bf-4fef-f575-a2d4e747ad45"
      },
      "execution_count": null,
      "outputs": [
        {
          "output_type": "stream",
          "name": "stderr",
          "text": [
            "Warning message:\n",
            "“labs do not fit even at cex 0.15, there may be some overplotting”\n"
          ]
        },
        {
          "output_type": "display_data",
          "data": {
            "text/plain": [
              "plot without title"
            ],
            "image/png": "[encoded data removed]"
          },
          "metadata": {
            "image/png": {
              "width": 1800,
              "height": 1200
            }
          }
        }
      ]
    },
    {
      "cell_type": "markdown",
      "source": [
        "## Dataset Future"
      ],
      "metadata": {
        "id": "xN2ig210f6-N"
      }
    },
    {
      "cell_type": "markdown",
      "source": [
        "Aqui se define el dataset donde quiero hacer la prediccion final, generalmente esto viene dado por el problema y es trivial su eleccion"
      ],
      "metadata": {
        "id": "ZJioDs4Jf-lB"
      }
    },
    {
      "cell_type": "code",
      "source": [
        "# dfuture <- dataset[foto_mes == 202109] # defino donde voy a aplicar el modelo"
      ],
      "metadata": {
        "id": "h7JErrOagHbH"
      },
      "execution_count": null,
      "outputs": []
    },
    {
      "cell_type": "markdown",
      "source": [
        "### Scoring"
      ],
      "metadata": {
        "id": "spyjXPVYj6Nk"
      }
    },
    {
      "cell_type": "markdown",
      "source": [
        "Aplico el modelo_final a los datos del futuro"
      ],
      "metadata": {
        "id": "CNMKS5m6gLX-"
      }
    },
    {
      "cell_type": "code",
      "source": [
        "# aplico el modelo a los datos nuevos\n",
        "prediccion <- predict(\n",
        "    object= modelo_final,\n",
        "    newdata= dfuture,\n",
        "    type= \"prob\"\n",
        ")\n",
        "\n",
        "# veo que  quedó en predccion\n",
        "# es una matriz, una linea por registro del dataset dfuture\n",
        "# una columna para cada uno de los valores de la clase\n",
        "prediccion"
      ],
      "metadata": {
        "id": "2iS68RYaZhLJ",
        "colab": {
          "base_uri": "https://localhost:8080/",
          "height": 1000
        },
        "outputId": "571fb13d-0a1f-43dc-dac3-3065a3cb3973"
      },
      "execution_count": null,
      "outputs": [
        {
          "output_type": "display_data",
          "data": {
            "text/html": [
              "<table class=\"dataframe\">\n",
              "<caption>A matrix: 165093 × 3 of type dbl</caption>\n",
              "<thead>\n",
              "\t<tr><th></th><th scope=col>BAJA+1</th><th scope=col>BAJA+2</th><th scope=col>CONTINUA</th></tr>\n",
              "</thead>\n",
              "<tbody>\n",
              "\t<tr><th scope=row>1</th><td>0.0001454313</td><td>0.0003199488</td><td>0.9995346</td></tr>\n",
              "\t<tr><th scope=row>2</th><td>0.0001454313</td><td>0.0003199488</td><td>0.9995346</td></tr>\n",
              "\t<tr><th scope=row>3</th><td>0.0142622052</td><td>0.0159078442</td><td>0.9698300</td></tr>\n",
              "\t<tr><th scope=row>4</th><td>0.0007636826</td><td>0.0015697921</td><td>0.9976665</td></tr>\n",
              "\t<tr><th scope=row>5</th><td>0.0007636826</td><td>0.0015697921</td><td>0.9976665</td></tr>\n",
              "\t<tr><th scope=row>6</th><td>0.0001454313</td><td>0.0003199488</td><td>0.9995346</td></tr>\n",
              "\t<tr><th scope=row>7</th><td>0.0001454313</td><td>0.0003199488</td><td>0.9995346</td></tr>\n",
              "\t<tr><th scope=row>8</th><td>0.0007636826</td><td>0.0015697921</td><td>0.9976665</td></tr>\n",
              "\t<tr><th scope=row>9</th><td>0.0007636826</td><td>0.0015697921</td><td>0.9976665</td></tr>\n",
              "\t<tr><th scope=row>10</th><td>0.0033057851</td><td>0.0041322314</td><td>0.9925620</td></tr>\n",
              "\t<tr><th scope=row>11</th><td>0.0001454313</td><td>0.0003199488</td><td>0.9995346</td></tr>\n",
              "\t<tr><th scope=row>12</th><td>0.0000000000</td><td>0.0003741115</td><td>0.9996259</td></tr>\n",
              "\t<tr><th scope=row>13</th><td>0.0007636826</td><td>0.0015697921</td><td>0.9976665</td></tr>\n",
              "\t<tr><th scope=row>14</th><td>0.0007636826</td><td>0.0015697921</td><td>0.9976665</td></tr>\n",
              "\t<tr><th scope=row>15</th><td>0.0025200458</td><td>0.0032073310</td><td>0.9942726</td></tr>\n",
              "\t<tr><th scope=row>16</th><td>0.0025200458</td><td>0.0032073310</td><td>0.9942726</td></tr>\n",
              "\t<tr><th scope=row>17</th><td>0.0001454313</td><td>0.0003199488</td><td>0.9995346</td></tr>\n",
              "\t<tr><th scope=row>18</th><td>0.0007636826</td><td>0.0015697921</td><td>0.9976665</td></tr>\n",
              "\t<tr><th scope=row>19</th><td>0.0001454313</td><td>0.0003199488</td><td>0.9995346</td></tr>\n",
              "\t<tr><th scope=row>20</th><td>0.0001454313</td><td>0.0003199488</td><td>0.9995346</td></tr>\n",
              "\t<tr><th scope=row>21</th><td>0.0007636826</td><td>0.0015697921</td><td>0.9976665</td></tr>\n",
              "\t<tr><th scope=row>22</th><td>0.0081566069</td><td>0.0179445351</td><td>0.9738989</td></tr>\n",
              "\t<tr><th scope=row>23</th><td>0.0001454313</td><td>0.0003199488</td><td>0.9995346</td></tr>\n",
              "\t<tr><th scope=row>24</th><td>0.0019081168</td><td>0.0019081168</td><td>0.9961838</td></tr>\n",
              "\t<tr><th scope=row>25</th><td>0.0019081168</td><td>0.0019081168</td><td>0.9961838</td></tr>\n",
              "\t<tr><th scope=row>26</th><td>0.0007636826</td><td>0.0015697921</td><td>0.9976665</td></tr>\n",
              "\t<tr><th scope=row>27</th><td>0.0007636826</td><td>0.0015697921</td><td>0.9976665</td></tr>\n",
              "\t<tr><th scope=row>28</th><td>0.0001454313</td><td>0.0003199488</td><td>0.9995346</td></tr>\n",
              "\t<tr><th scope=row>29</th><td>0.0019081168</td><td>0.0019081168</td><td>0.9961838</td></tr>\n",
              "\t<tr><th scope=row>30</th><td>0.0001454313</td><td>0.0003199488</td><td>0.9995346</td></tr>\n",
              "\t<tr><th scope=row>⋮</th><td>⋮</td><td>⋮</td><td>⋮</td></tr>\n",
              "\t<tr><th scope=row>165064</th><td>0.0085409253</td><td>0.011387900</td><td>0.9800712</td></tr>\n",
              "\t<tr><th scope=row>165065</th><td>0.0085409253</td><td>0.011387900</td><td>0.9800712</td></tr>\n",
              "\t<tr><th scope=row>165066</th><td>0.0085409253</td><td>0.011387900</td><td>0.9800712</td></tr>\n",
              "\t<tr><th scope=row>165067</th><td>0.0085409253</td><td>0.011387900</td><td>0.9800712</td></tr>\n",
              "\t<tr><th scope=row>165068</th><td>0.0085409253</td><td>0.011387900</td><td>0.9800712</td></tr>\n",
              "\t<tr><th scope=row>165069</th><td>0.0085409253</td><td>0.011387900</td><td>0.9800712</td></tr>\n",
              "\t<tr><th scope=row>165070</th><td>0.0085409253</td><td>0.011387900</td><td>0.9800712</td></tr>\n",
              "\t<tr><th scope=row>165071</th><td>0.0074557316</td><td>0.008387698</td><td>0.9841566</td></tr>\n",
              "\t<tr><th scope=row>165072</th><td>0.0338266385</td><td>0.042283298</td><td>0.9238901</td></tr>\n",
              "\t<tr><th scope=row>165073</th><td>0.0085409253</td><td>0.011387900</td><td>0.9800712</td></tr>\n",
              "\t<tr><th scope=row>165074</th><td>0.0085409253</td><td>0.011387900</td><td>0.9800712</td></tr>\n",
              "\t<tr><th scope=row>165075</th><td>0.0085409253</td><td>0.011387900</td><td>0.9800712</td></tr>\n",
              "\t<tr><th scope=row>165076</th><td>0.0618892508</td><td>0.052117264</td><td>0.8859935</td></tr>\n",
              "\t<tr><th scope=row>165077</th><td>0.0267558528</td><td>0.033444816</td><td>0.9397993</td></tr>\n",
              "\t<tr><th scope=row>165078</th><td>0.0085409253</td><td>0.011387900</td><td>0.9800712</td></tr>\n",
              "\t<tr><th scope=row>165079</th><td>0.0085409253</td><td>0.011387900</td><td>0.9800712</td></tr>\n",
              "\t<tr><th scope=row>165080</th><td>0.0085409253</td><td>0.011387900</td><td>0.9800712</td></tr>\n",
              "\t<tr><th scope=row>165081</th><td>0.0328820116</td><td>0.044487427</td><td>0.9226306</td></tr>\n",
              "\t<tr><th scope=row>165082</th><td>0.0085409253</td><td>0.011387900</td><td>0.9800712</td></tr>\n",
              "\t<tr><th scope=row>165083</th><td>0.0085409253</td><td>0.011387900</td><td>0.9800712</td></tr>\n",
              "\t<tr><th scope=row>165084</th><td>0.0006531205</td><td>0.002394775</td><td>0.9969521</td></tr>\n",
              "\t<tr><th scope=row>165085</th><td>0.0328820116</td><td>0.044487427</td><td>0.9226306</td></tr>\n",
              "\t<tr><th scope=row>165086</th><td>0.0085409253</td><td>0.011387900</td><td>0.9800712</td></tr>\n",
              "\t<tr><th scope=row>165087</th><td>0.0085409253</td><td>0.011387900</td><td>0.9800712</td></tr>\n",
              "\t<tr><th scope=row>165088</th><td>0.0085409253</td><td>0.011387900</td><td>0.9800712</td></tr>\n",
              "\t<tr><th scope=row>165089</th><td>0.0074557316</td><td>0.008387698</td><td>0.9841566</td></tr>\n",
              "\t<tr><th scope=row>165090</th><td>0.0000000000</td><td>0.000000000</td><td>1.0000000</td></tr>\n",
              "\t<tr><th scope=row>165091</th><td>0.0085409253</td><td>0.011387900</td><td>0.9800712</td></tr>\n",
              "\t<tr><th scope=row>165092</th><td>0.0085409253</td><td>0.011387900</td><td>0.9800712</td></tr>\n",
              "\t<tr><th scope=row>165093</th><td>0.0085409253</td><td>0.011387900</td><td>0.9800712</td></tr>\n",
              "</tbody>\n",
              "</table>\n"
            ],
            "text/markdown": "\nA matrix: 165093 × 3 of type dbl\n\n| <!--/--> | BAJA+1 | BAJA+2 | CONTINUA |\n|---|---|---|---|\n| 1 | 0.0001454313 | 0.0003199488 | 0.9995346 |\n| 2 | 0.0001454313 | 0.0003199488 | 0.9995346 |\n| 3 | 0.0142622052 | 0.0159078442 | 0.9698300 |\n| 4 | 0.0007636826 | 0.0015697921 | 0.9976665 |\n| 5 | 0.0007636826 | 0.0015697921 | 0.9976665 |\n| 6 | 0.0001454313 | 0.0003199488 | 0.9995346 |\n| 7 | 0.0001454313 | 0.0003199488 | 0.9995346 |\n| 8 | 0.0007636826 | 0.0015697921 | 0.9976665 |\n| 9 | 0.0007636826 | 0.0015697921 | 0.9976665 |\n| 10 | 0.0033057851 | 0.0041322314 | 0.9925620 |\n| 11 | 0.0001454313 | 0.0003199488 | 0.9995346 |\n| 12 | 0.0000000000 | 0.0003741115 | 0.9996259 |\n| 13 | 0.0007636826 | 0.0015697921 | 0.9976665 |\n| 14 | 0.0007636826 | 0.0015697921 | 0.9976665 |\n| 15 | 0.0025200458 | 0.0032073310 | 0.9942726 |\n| 16 | 0.0025200458 | 0.0032073310 | 0.9942726 |\n| 17 | 0.0001454313 | 0.0003199488 | 0.9995346 |\n| 18 | 0.0007636826 | 0.0015697921 | 0.9976665 |\n| 19 | 0.0001454313 | 0.0003199488 | 0.9995346 |\n| 20 | 0.0001454313 | 0.0003199488 | 0.9995346 |\n| 21 | 0.0007636826 | 0.0015697921 | 0.9976665 |\n| 22 | 0.0081566069 | 0.0179445351 | 0.9738989 |\n| 23 | 0.0001454313 | 0.0003199488 | 0.9995346 |\n| 24 | 0.0019081168 | 0.0019081168 | 0.9961838 |\n| 25 | 0.0019081168 | 0.0019081168 | 0.9961838 |\n| 26 | 0.0007636826 | 0.0015697921 | 0.9976665 |\n| 27 | 0.0007636826 | 0.0015697921 | 0.9976665 |\n| 28 | 0.0001454313 | 0.0003199488 | 0.9995346 |\n| 29 | 0.0019081168 | 0.0019081168 | 0.9961838 |\n| 30 | 0.0001454313 | 0.0003199488 | 0.9995346 |\n| ⋮ | ⋮ | ⋮ | ⋮ |\n| 165064 | 0.0085409253 | 0.011387900 | 0.9800712 |\n| 165065 | 0.0085409253 | 0.011387900 | 0.9800712 |\n| 165066 | 0.0085409253 | 0.011387900 | 0.9800712 |\n| 165067 | 0.0085409253 | 0.011387900 | 0.9800712 |\n| 165068 | 0.0085409253 | 0.011387900 | 0.9800712 |\n| 165069 | 0.0085409253 | 0.011387900 | 0.9800712 |\n| 165070 | 0.0085409253 | 0.011387900 | 0.9800712 |\n| 165071 | 0.0074557316 | 0.008387698 | 0.9841566 |\n| 165072 | 0.0338266385 | 0.042283298 | 0.9238901 |\n| 165073 | 0.0085409253 | 0.011387900 | 0.9800712 |\n| 165074 | 0.0085409253 | 0.011387900 | 0.9800712 |\n| 165075 | 0.0085409253 | 0.011387900 | 0.9800712 |\n| 165076 | 0.0618892508 | 0.052117264 | 0.8859935 |\n| 165077 | 0.0267558528 | 0.033444816 | 0.9397993 |\n| 165078 | 0.0085409253 | 0.011387900 | 0.9800712 |\n| 165079 | 0.0085409253 | 0.011387900 | 0.9800712 |\n| 165080 | 0.0085409253 | 0.011387900 | 0.9800712 |\n| 165081 | 0.0328820116 | 0.044487427 | 0.9226306 |\n| 165082 | 0.0085409253 | 0.011387900 | 0.9800712 |\n| 165083 | 0.0085409253 | 0.011387900 | 0.9800712 |\n| 165084 | 0.0006531205 | 0.002394775 | 0.9969521 |\n| 165085 | 0.0328820116 | 0.044487427 | 0.9226306 |\n| 165086 | 0.0085409253 | 0.011387900 | 0.9800712 |\n| 165087 | 0.0085409253 | 0.011387900 | 0.9800712 |\n| 165088 | 0.0085409253 | 0.011387900 | 0.9800712 |\n| 165089 | 0.0074557316 | 0.008387698 | 0.9841566 |\n| 165090 | 0.0000000000 | 0.000000000 | 1.0000000 |\n| 165091 | 0.0085409253 | 0.011387900 | 0.9800712 |\n| 165092 | 0.0085409253 | 0.011387900 | 0.9800712 |\n| 165093 | 0.0085409253 | 0.011387900 | 0.9800712 |\n\n",
            "text/latex": "A matrix: 165093 × 3 of type dbl\n\\begin{tabular}{r|lll}\n  & BAJA+1 & BAJA+2 & CONTINUA\\\\\n\\hline\n\t1 & 0.0001454313 & 0.0003199488 & 0.9995346\\\\\n\t2 & 0.0001454313 & 0.0003199488 & 0.9995346\\\\\n\t3 & 0.0142622052 & 0.0159078442 & 0.9698300\\\\\n\t4 & 0.0007636826 & 0.0015697921 & 0.9976665\\\\\n\t5 & 0.0007636826 & 0.0015697921 & 0.9976665\\\\\n\t6 & 0.0001454313 & 0.0003199488 & 0.9995346\\\\\n\t7 & 0.0001454313 & 0.0003199488 & 0.9995346\\\\\n\t8 & 0.0007636826 & 0.0015697921 & 0.9976665\\\\\n\t9 & 0.0007636826 & 0.0015697921 & 0.9976665\\\\\n\t10 & 0.0033057851 & 0.0041322314 & 0.9925620\\\\\n\t11 & 0.0001454313 & 0.0003199488 & 0.9995346\\\\\n\t12 & 0.0000000000 & 0.0003741115 & 0.9996259\\\\\n\t13 & 0.0007636826 & 0.0015697921 & 0.9976665\\\\\n\t14 & 0.0007636826 & 0.0015697921 & 0.9976665\\\\\n\t15 & 0.0025200458 & 0.0032073310 & 0.9942726\\\\\n\t16 & 0.0025200458 & 0.0032073310 & 0.9942726\\\\\n\t17 & 0.0001454313 & 0.0003199488 & 0.9995346\\\\\n\t18 & 0.0007636826 & 0.0015697921 & 0.9976665\\\\\n\t19 & 0.0001454313 & 0.0003199488 & 0.9995346\\\\\n\t20 & 0.0001454313 & 0.0003199488 & 0.9995346\\\\\n\t21 & 0.0007636826 & 0.0015697921 & 0.9976665\\\\\n\t22 & 0.0081566069 & 0.0179445351 & 0.9738989\\\\\n\t23 & 0.0001454313 & 0.0003199488 & 0.9995346\\\\\n\t24 & 0.0019081168 & 0.0019081168 & 0.9961838\\\\\n\t25 & 0.0019081168 & 0.0019081168 & 0.9961838\\\\\n\t26 & 0.0007636826 & 0.0015697921 & 0.9976665\\\\\n\t27 & 0.0007636826 & 0.0015697921 & 0.9976665\\\\\n\t28 & 0.0001454313 & 0.0003199488 & 0.9995346\\\\\n\t29 & 0.0019081168 & 0.0019081168 & 0.9961838\\\\\n\t30 & 0.0001454313 & 0.0003199488 & 0.9995346\\\\\n\t⋮ & ⋮ & ⋮ & ⋮\\\\\n\t165064 & 0.0085409253 & 0.011387900 & 0.9800712\\\\\n\t165065 & 0.0085409253 & 0.011387900 & 0.9800712\\\\\n\t165066 & 0.0085409253 & 0.011387900 & 0.9800712\\\\\n\t165067 & 0.0085409253 & 0.011387900 & 0.9800712\\\\\n\t165068 & 0.0085409253 & 0.011387900 & 0.9800712\\\\\n\t165069 & 0.0085409253 & 0.011387900 & 0.9800712\\\\\n\t165070 & 0.0085409253 & 0.011387900 & 0.9800712\\\\\n\t165071 & 0.0074557316 & 0.008387698 & 0.9841566\\\\\n\t165072 & 0.0338266385 & 0.042283298 & 0.9238901\\\\\n\t165073 & 0.0085409253 & 0.011387900 & 0.9800712\\\\\n\t165074 & 0.0085409253 & 0.011387900 & 0.9800712\\\\\n\t165075 & 0.0085409253 & 0.011387900 & 0.9800712\\\\\n\t165076 & 0.0618892508 & 0.052117264 & 0.8859935\\\\\n\t165077 & 0.0267558528 & 0.033444816 & 0.9397993\\\\\n\t165078 & 0.0085409253 & 0.011387900 & 0.9800712\\\\\n\t165079 & 0.0085409253 & 0.011387900 & 0.9800712\\\\\n\t165080 & 0.0085409253 & 0.011387900 & 0.9800712\\\\\n\t165081 & 0.0328820116 & 0.044487427 & 0.9226306\\\\\n\t165082 & 0.0085409253 & 0.011387900 & 0.9800712\\\\\n\t165083 & 0.0085409253 & 0.011387900 & 0.9800712\\\\\n\t165084 & 0.0006531205 & 0.002394775 & 0.9969521\\\\\n\t165085 & 0.0328820116 & 0.044487427 & 0.9226306\\\\\n\t165086 & 0.0085409253 & 0.011387900 & 0.9800712\\\\\n\t165087 & 0.0085409253 & 0.011387900 & 0.9800712\\\\\n\t165088 & 0.0085409253 & 0.011387900 & 0.9800712\\\\\n\t165089 & 0.0074557316 & 0.008387698 & 0.9841566\\\\\n\t165090 & 0.0000000000 & 0.000000000 & 1.0000000\\\\\n\t165091 & 0.0085409253 & 0.011387900 & 0.9800712\\\\\n\t165092 & 0.0085409253 & 0.011387900 & 0.9800712\\\\\n\t165093 & 0.0085409253 & 0.011387900 & 0.9800712\\\\\n\\end{tabular}\n",
            "text/plain": [
              "       BAJA+1       BAJA+2       CONTINUA \n",
              "1      0.0001454313 0.0003199488 0.9995346\n",
              "2      0.0001454313 0.0003199488 0.9995346\n",
              "3      0.0142622052 0.0159078442 0.9698300\n",
              "4      0.0007636826 0.0015697921 0.9976665\n",
              "5      0.0007636826 0.0015697921 0.9976665\n",
              "6      0.0001454313 0.0003199488 0.9995346\n",
              "7      0.0001454313 0.0003199488 0.9995346\n",
              "8      0.0007636826 0.0015697921 0.9976665\n",
              "9      0.0007636826 0.0015697921 0.9976665\n",
              "10     0.0033057851 0.0041322314 0.9925620\n",
              "11     0.0001454313 0.0003199488 0.9995346\n",
              "12     0.0000000000 0.0003741115 0.9996259\n",
              "13     0.0007636826 0.0015697921 0.9976665\n",
              "14     0.0007636826 0.0015697921 0.9976665\n",
              "15     0.0025200458 0.0032073310 0.9942726\n",
              "16     0.0025200458 0.0032073310 0.9942726\n",
              "17     0.0001454313 0.0003199488 0.9995346\n",
              "18     0.0007636826 0.0015697921 0.9976665\n",
              "19     0.0001454313 0.0003199488 0.9995346\n",
              "20     0.0001454313 0.0003199488 0.9995346\n",
              "21     0.0007636826 0.0015697921 0.9976665\n",
              "22     0.0081566069 0.0179445351 0.9738989\n",
              "23     0.0001454313 0.0003199488 0.9995346\n",
              "24     0.0019081168 0.0019081168 0.9961838\n",
              "25     0.0019081168 0.0019081168 0.9961838\n",
              "26     0.0007636826 0.0015697921 0.9976665\n",
              "27     0.0007636826 0.0015697921 0.9976665\n",
              "28     0.0001454313 0.0003199488 0.9995346\n",
              "29     0.0019081168 0.0019081168 0.9961838\n",
              "30     0.0001454313 0.0003199488 0.9995346\n",
              "⋮      ⋮            ⋮            ⋮        \n",
              "165064 0.0085409253 0.011387900  0.9800712\n",
              "165065 0.0085409253 0.011387900  0.9800712\n",
              "165066 0.0085409253 0.011387900  0.9800712\n",
              "165067 0.0085409253 0.011387900  0.9800712\n",
              "165068 0.0085409253 0.011387900  0.9800712\n",
              "165069 0.0085409253 0.011387900  0.9800712\n",
              "165070 0.0085409253 0.011387900  0.9800712\n",
              "165071 0.0074557316 0.008387698  0.9841566\n",
              "165072 0.0338266385 0.042283298  0.9238901\n",
              "165073 0.0085409253 0.011387900  0.9800712\n",
              "165074 0.0085409253 0.011387900  0.9800712\n",
              "165075 0.0085409253 0.011387900  0.9800712\n",
              "165076 0.0618892508 0.052117264  0.8859935\n",
              "165077 0.0267558528 0.033444816  0.9397993\n",
              "165078 0.0085409253 0.011387900  0.9800712\n",
              "165079 0.0085409253 0.011387900  0.9800712\n",
              "165080 0.0085409253 0.011387900  0.9800712\n",
              "165081 0.0328820116 0.044487427  0.9226306\n",
              "165082 0.0085409253 0.011387900  0.9800712\n",
              "165083 0.0085409253 0.011387900  0.9800712\n",
              "165084 0.0006531205 0.002394775  0.9969521\n",
              "165085 0.0328820116 0.044487427  0.9226306\n",
              "165086 0.0085409253 0.011387900  0.9800712\n",
              "165087 0.0085409253 0.011387900  0.9800712\n",
              "165088 0.0085409253 0.011387900  0.9800712\n",
              "165089 0.0074557316 0.008387698  0.9841566\n",
              "165090 0.0000000000 0.000000000  1.0000000\n",
              "165091 0.0085409253 0.011387900  0.9800712\n",
              "165092 0.0085409253 0.011387900  0.9800712\n",
              "165093 0.0085409253 0.011387900  0.9800712"
            ]
          },
          "metadata": {}
        }
      ]
    },
    {
      "cell_type": "markdown",
      "source": [
        "## Tabla Prediccion"
      ],
      "metadata": {
        "id": "YgEJUN2ZlLZN"
      }
    },
    {
      "cell_type": "code",
      "source": [
        "tb_prediccion <- as.data.table(list(\n",
        "  \"numero_de_cliente\" = dfuture$numero_de_cliente,\n",
        "  \"prob\"=prediccion[, \"BAJA+2\"]\n",
        "))"
      ],
      "metadata": {
        "id": "-UbcZ6u4lwuK"
      },
      "execution_count": null,
      "outputs": []
    },
    {
      "cell_type": "markdown",
      "source": [
        "## Decision"
      ],
      "metadata": {
        "id": "lbFzDPDwWcnM"
      }
    },
    {
      "cell_type": "code",
      "source": [
        "# decido a quien se envia estimulo y a quien no\n",
        "# como trabajo con clase_ternaria puedo hacer el corte en 1/40\n",
        "# solo le envio estimulo a los registros\n",
        "#  con probabilidad de BAJA+2 mayor  a  1/40\n",
        "\n",
        "tb_prediccion[, Predicted := prob > (1/40) ]\n",
        "\n",
        "# veo que hay en tb_prediccion\n",
        "tb_prediccion"
      ],
      "metadata": {
        "id": "m_8lCAWKWgbu",
        "colab": {
          "base_uri": "https://localhost:8080/",
          "height": 1000
        },
        "outputId": "a8fdc8ba-390c-4911-f501-370f6dc88950"
      },
      "execution_count": null,
      "outputs": [
        {
          "output_type": "display_data",
          "data": {
            "text/html": [
              "<table class=\"dataframe\">\n",
              "<caption>A data.table: 165093 × 3</caption>\n",
              "<thead>\n",
              "\t<tr><th scope=col>numero_de_cliente</th><th scope=col>prob</th><th scope=col>Predicted</th></tr>\n",
              "\t<tr><th scope=col>&lt;int&gt;</th><th scope=col>&lt;dbl&gt;</th><th scope=col>&lt;lgl&gt;</th></tr>\n",
              "</thead>\n",
              "<tbody>\n",
              "\t<tr><td>29183733</td><td>0.0003199488</td><td>FALSE</td></tr>\n",
              "\t<tr><td>29184468</td><td>0.0003199488</td><td>FALSE</td></tr>\n",
              "\t<tr><td>29185245</td><td>0.0159078442</td><td>FALSE</td></tr>\n",
              "\t<tr><td>29186441</td><td>0.0015697921</td><td>FALSE</td></tr>\n",
              "\t<tr><td>29186475</td><td>0.0015697921</td><td>FALSE</td></tr>\n",
              "\t<tr><td>29187730</td><td>0.0003199488</td><td>FALSE</td></tr>\n",
              "\t<tr><td>29187764</td><td>0.0003199488</td><td>FALSE</td></tr>\n",
              "\t<tr><td>29187961</td><td>0.0015697921</td><td>FALSE</td></tr>\n",
              "\t<tr><td>29189899</td><td>0.0015697921</td><td>FALSE</td></tr>\n",
              "\t<tr><td>29189993</td><td>0.0041322314</td><td>FALSE</td></tr>\n",
              "\t<tr><td>29190113</td><td>0.0003199488</td><td>FALSE</td></tr>\n",
              "\t<tr><td>29192179</td><td>0.0003741115</td><td>FALSE</td></tr>\n",
              "\t<tr><td>29193101</td><td>0.0015697921</td><td>FALSE</td></tr>\n",
              "\t<tr><td>29193281</td><td>0.0015697921</td><td>FALSE</td></tr>\n",
              "\t<tr><td>29193324</td><td>0.0032073310</td><td>FALSE</td></tr>\n",
              "\t<tr><td>29195356</td><td>0.0032073310</td><td>FALSE</td></tr>\n",
              "\t<tr><td>29195433</td><td>0.0003199488</td><td>FALSE</td></tr>\n",
              "\t<tr><td>29196099</td><td>0.0015697921</td><td>FALSE</td></tr>\n",
              "\t<tr><td>29196902</td><td>0.0003199488</td><td>FALSE</td></tr>\n",
              "\t<tr><td>29198055</td><td>0.0003199488</td><td>FALSE</td></tr>\n",
              "\t<tr><td>29198891</td><td>0.0015697921</td><td>FALSE</td></tr>\n",
              "\t<tr><td>29199242</td><td>0.0179445351</td><td>FALSE</td></tr>\n",
              "\t<tr><td>29200335</td><td>0.0003199488</td><td>FALSE</td></tr>\n",
              "\t<tr><td>29200343</td><td>0.0019081168</td><td>FALSE</td></tr>\n",
              "\t<tr><td>29200514</td><td>0.0019081168</td><td>FALSE</td></tr>\n",
              "\t<tr><td>29200651</td><td>0.0015697921</td><td>FALSE</td></tr>\n",
              "\t<tr><td>29200727</td><td>0.0015697921</td><td>FALSE</td></tr>\n",
              "\t<tr><td>29200770</td><td>0.0003199488</td><td>FALSE</td></tr>\n",
              "\t<tr><td>29200984</td><td>0.0019081168</td><td>FALSE</td></tr>\n",
              "\t<tr><td>29201086</td><td>0.0003199488</td><td>FALSE</td></tr>\n",
              "\t<tr><td>⋮</td><td>⋮</td><td>⋮</td></tr>\n",
              "\t<tr><td>187967614</td><td>0.011387900</td><td>FALSE</td></tr>\n",
              "\t<tr><td>187969270</td><td>0.011387900</td><td>FALSE</td></tr>\n",
              "\t<tr><td>187989740</td><td>0.011387900</td><td>FALSE</td></tr>\n",
              "\t<tr><td>187999433</td><td>0.011387900</td><td>FALSE</td></tr>\n",
              "\t<tr><td>188009390</td><td>0.011387900</td><td>FALSE</td></tr>\n",
              "\t<tr><td>188009578</td><td>0.011387900</td><td>FALSE</td></tr>\n",
              "\t<tr><td>188015094</td><td>0.011387900</td><td>FALSE</td></tr>\n",
              "\t<tr><td>188017716</td><td>0.008387698</td><td>FALSE</td></tr>\n",
              "\t<tr><td>188019279</td><td>0.042283298</td><td> TRUE</td></tr>\n",
              "\t<tr><td>188031482</td><td>0.011387900</td><td>FALSE</td></tr>\n",
              "\t<tr><td>188042080</td><td>0.011387900</td><td>FALSE</td></tr>\n",
              "\t<tr><td>188054394</td><td>0.011387900</td><td>FALSE</td></tr>\n",
              "\t<tr><td>188055368</td><td>0.052117264</td><td> TRUE</td></tr>\n",
              "\t<tr><td>188057878</td><td>0.033444816</td><td> TRUE</td></tr>\n",
              "\t<tr><td>188061679</td><td>0.011387900</td><td>FALSE</td></tr>\n",
              "\t<tr><td>188062558</td><td>0.011387900</td><td>FALSE</td></tr>\n",
              "\t<tr><td>188064497</td><td>0.011387900</td><td>FALSE</td></tr>\n",
              "\t<tr><td>188071815</td><td>0.044487427</td><td> TRUE</td></tr>\n",
              "\t<tr><td>188073113</td><td>0.011387900</td><td>FALSE</td></tr>\n",
              "\t<tr><td>188074787</td><td>0.011387900</td><td>FALSE</td></tr>\n",
              "\t<tr><td>188084847</td><td>0.002394775</td><td>FALSE</td></tr>\n",
              "\t<tr><td>188096188</td><td>0.044487427</td><td> TRUE</td></tr>\n",
              "\t<tr><td>188097537</td><td>0.011387900</td><td>FALSE</td></tr>\n",
              "\t<tr><td>188100654</td><td>0.011387900</td><td>FALSE</td></tr>\n",
              "\t<tr><td>188101739</td><td>0.011387900</td><td>FALSE</td></tr>\n",
              "\t<tr><td>188115120</td><td>0.008387698</td><td>FALSE</td></tr>\n",
              "\t<tr><td>188116871</td><td>0.000000000</td><td>FALSE</td></tr>\n",
              "\t<tr><td>188122277</td><td>0.011387900</td><td>FALSE</td></tr>\n",
              "\t<tr><td>188128903</td><td>0.011387900</td><td>FALSE</td></tr>\n",
              "\t<tr><td>188136205</td><td>0.011387900</td><td>FALSE</td></tr>\n",
              "</tbody>\n",
              "</table>\n"
            ],
            "text/markdown": "\nA data.table: 165093 × 3\n\n| numero_de_cliente &lt;int&gt; | prob &lt;dbl&gt; | Predicted &lt;lgl&gt; |\n|---|---|---|\n| 29183733 | 0.0003199488 | FALSE |\n| 29184468 | 0.0003199488 | FALSE |\n| 29185245 | 0.0159078442 | FALSE |\n| 29186441 | 0.0015697921 | FALSE |\n| 29186475 | 0.0015697921 | FALSE |\n| 29187730 | 0.0003199488 | FALSE |\n| 29187764 | 0.0003199488 | FALSE |\n| 29187961 | 0.0015697921 | FALSE |\n| 29189899 | 0.0015697921 | FALSE |\n| 29189993 | 0.0041322314 | FALSE |\n| 29190113 | 0.0003199488 | FALSE |\n| 29192179 | 0.0003741115 | FALSE |\n| 29193101 | 0.0015697921 | FALSE |\n| 29193281 | 0.0015697921 | FALSE |\n| 29193324 | 0.0032073310 | FALSE |\n| 29195356 | 0.0032073310 | FALSE |\n| 29195433 | 0.0003199488 | FALSE |\n| 29196099 | 0.0015697921 | FALSE |\n| 29196902 | 0.0003199488 | FALSE |\n| 29198055 | 0.0003199488 | FALSE |\n| 29198891 | 0.0015697921 | FALSE |\n| 29199242 | 0.0179445351 | FALSE |\n| 29200335 | 0.0003199488 | FALSE |\n| 29200343 | 0.0019081168 | FALSE |\n| 29200514 | 0.0019081168 | FALSE |\n| 29200651 | 0.0015697921 | FALSE |\n| 29200727 | 0.0015697921 | FALSE |\n| 29200770 | 0.0003199488 | FALSE |\n| 29200984 | 0.0019081168 | FALSE |\n| 29201086 | 0.0003199488 | FALSE |\n| ⋮ | ⋮ | ⋮ |\n| 187967614 | 0.011387900 | FALSE |\n| 187969270 | 0.011387900 | FALSE |\n| 187989740 | 0.011387900 | FALSE |\n| 187999433 | 0.011387900 | FALSE |\n| 188009390 | 0.011387900 | FALSE |\n| 188009578 | 0.011387900 | FALSE |\n| 188015094 | 0.011387900 | FALSE |\n| 188017716 | 0.008387698 | FALSE |\n| 188019279 | 0.042283298 |  TRUE |\n| 188031482 | 0.011387900 | FALSE |\n| 188042080 | 0.011387900 | FALSE |\n| 188054394 | 0.011387900 | FALSE |\n| 188055368 | 0.052117264 |  TRUE |\n| 188057878 | 0.033444816 |  TRUE |\n| 188061679 | 0.011387900 | FALSE |\n| 188062558 | 0.011387900 | FALSE |\n| 188064497 | 0.011387900 | FALSE |\n| 188071815 | 0.044487427 |  TRUE |\n| 188073113 | 0.011387900 | FALSE |\n| 188074787 | 0.011387900 | FALSE |\n| 188084847 | 0.002394775 | FALSE |\n| 188096188 | 0.044487427 |  TRUE |\n| 188097537 | 0.011387900 | FALSE |\n| 188100654 | 0.011387900 | FALSE |\n| 188101739 | 0.011387900 | FALSE |\n| 188115120 | 0.008387698 | FALSE |\n| 188116871 | 0.000000000 | FALSE |\n| 188122277 | 0.011387900 | FALSE |\n| 188128903 | 0.011387900 | FALSE |\n| 188136205 | 0.011387900 | FALSE |\n\n",
            "text/latex": "A data.table: 165093 × 3\n\\begin{tabular}{lll}\n numero\\_de\\_cliente & prob & Predicted\\\\\n <int> & <dbl> & <lgl>\\\\\n\\hline\n\t 29183733 & 0.0003199488 & FALSE\\\\\n\t 29184468 & 0.0003199488 & FALSE\\\\\n\t 29185245 & 0.0159078442 & FALSE\\\\\n\t 29186441 & 0.0015697921 & FALSE\\\\\n\t 29186475 & 0.0015697921 & FALSE\\\\\n\t 29187730 & 0.0003199488 & FALSE\\\\\n\t 29187764 & 0.0003199488 & FALSE\\\\\n\t 29187961 & 0.0015697921 & FALSE\\\\\n\t 29189899 & 0.0015697921 & FALSE\\\\\n\t 29189993 & 0.0041322314 & FALSE\\\\\n\t 29190113 & 0.0003199488 & FALSE\\\\\n\t 29192179 & 0.0003741115 & FALSE\\\\\n\t 29193101 & 0.0015697921 & FALSE\\\\\n\t 29193281 & 0.0015697921 & FALSE\\\\\n\t 29193324 & 0.0032073310 & FALSE\\\\\n\t 29195356 & 0.0032073310 & FALSE\\\\\n\t 29195433 & 0.0003199488 & FALSE\\\\\n\t 29196099 & 0.0015697921 & FALSE\\\\\n\t 29196902 & 0.0003199488 & FALSE\\\\\n\t 29198055 & 0.0003199488 & FALSE\\\\\n\t 29198891 & 0.0015697921 & FALSE\\\\\n\t 29199242 & 0.0179445351 & FALSE\\\\\n\t 29200335 & 0.0003199488 & FALSE\\\\\n\t 29200343 & 0.0019081168 & FALSE\\\\\n\t 29200514 & 0.0019081168 & FALSE\\\\\n\t 29200651 & 0.0015697921 & FALSE\\\\\n\t 29200727 & 0.0015697921 & FALSE\\\\\n\t 29200770 & 0.0003199488 & FALSE\\\\\n\t 29200984 & 0.0019081168 & FALSE\\\\\n\t 29201086 & 0.0003199488 & FALSE\\\\\n\t ⋮ & ⋮ & ⋮\\\\\n\t 187967614 & 0.011387900 & FALSE\\\\\n\t 187969270 & 0.011387900 & FALSE\\\\\n\t 187989740 & 0.011387900 & FALSE\\\\\n\t 187999433 & 0.011387900 & FALSE\\\\\n\t 188009390 & 0.011387900 & FALSE\\\\\n\t 188009578 & 0.011387900 & FALSE\\\\\n\t 188015094 & 0.011387900 & FALSE\\\\\n\t 188017716 & 0.008387698 & FALSE\\\\\n\t 188019279 & 0.042283298 &  TRUE\\\\\n\t 188031482 & 0.011387900 & FALSE\\\\\n\t 188042080 & 0.011387900 & FALSE\\\\\n\t 188054394 & 0.011387900 & FALSE\\\\\n\t 188055368 & 0.052117264 &  TRUE\\\\\n\t 188057878 & 0.033444816 &  TRUE\\\\\n\t 188061679 & 0.011387900 & FALSE\\\\\n\t 188062558 & 0.011387900 & FALSE\\\\\n\t 188064497 & 0.011387900 & FALSE\\\\\n\t 188071815 & 0.044487427 &  TRUE\\\\\n\t 188073113 & 0.011387900 & FALSE\\\\\n\t 188074787 & 0.011387900 & FALSE\\\\\n\t 188084847 & 0.002394775 & FALSE\\\\\n\t 188096188 & 0.044487427 &  TRUE\\\\\n\t 188097537 & 0.011387900 & FALSE\\\\\n\t 188100654 & 0.011387900 & FALSE\\\\\n\t 188101739 & 0.011387900 & FALSE\\\\\n\t 188115120 & 0.008387698 & FALSE\\\\\n\t 188116871 & 0.000000000 & FALSE\\\\\n\t 188122277 & 0.011387900 & FALSE\\\\\n\t 188128903 & 0.011387900 & FALSE\\\\\n\t 188136205 & 0.011387900 & FALSE\\\\\n\\end{tabular}\n",
            "text/plain": [
              "       numero_de_cliente prob         Predicted\n",
              "1      29183733          0.0003199488 FALSE    \n",
              "2      29184468          0.0003199488 FALSE    \n",
              "3      29185245          0.0159078442 FALSE    \n",
              "4      29186441          0.0015697921 FALSE    \n",
              "5      29186475          0.0015697921 FALSE    \n",
              "6      29187730          0.0003199488 FALSE    \n",
              "7      29187764          0.0003199488 FALSE    \n",
              "8      29187961          0.0015697921 FALSE    \n",
              "9      29189899          0.0015697921 FALSE    \n",
              "10     29189993          0.0041322314 FALSE    \n",
              "11     29190113          0.0003199488 FALSE    \n",
              "12     29192179          0.0003741115 FALSE    \n",
              "13     29193101          0.0015697921 FALSE    \n",
              "14     29193281          0.0015697921 FALSE    \n",
              "15     29193324          0.0032073310 FALSE    \n",
              "16     29195356          0.0032073310 FALSE    \n",
              "17     29195433          0.0003199488 FALSE    \n",
              "18     29196099          0.0015697921 FALSE    \n",
              "19     29196902          0.0003199488 FALSE    \n",
              "20     29198055          0.0003199488 FALSE    \n",
              "21     29198891          0.0015697921 FALSE    \n",
              "22     29199242          0.0179445351 FALSE    \n",
              "23     29200335          0.0003199488 FALSE    \n",
              "24     29200343          0.0019081168 FALSE    \n",
              "25     29200514          0.0019081168 FALSE    \n",
              "26     29200651          0.0015697921 FALSE    \n",
              "27     29200727          0.0015697921 FALSE    \n",
              "28     29200770          0.0003199488 FALSE    \n",
              "29     29200984          0.0019081168 FALSE    \n",
              "30     29201086          0.0003199488 FALSE    \n",
              "⋮      ⋮                 ⋮            ⋮        \n",
              "165064 187967614         0.011387900  FALSE    \n",
              "165065 187969270         0.011387900  FALSE    \n",
              "165066 187989740         0.011387900  FALSE    \n",
              "165067 187999433         0.011387900  FALSE    \n",
              "165068 188009390         0.011387900  FALSE    \n",
              "165069 188009578         0.011387900  FALSE    \n",
              "165070 188015094         0.011387900  FALSE    \n",
              "165071 188017716         0.008387698  FALSE    \n",
              "165072 188019279         0.042283298   TRUE    \n",
              "165073 188031482         0.011387900  FALSE    \n",
              "165074 188042080         0.011387900  FALSE    \n",
              "165075 188054394         0.011387900  FALSE    \n",
              "165076 188055368         0.052117264   TRUE    \n",
              "165077 188057878         0.033444816   TRUE    \n",
              "165078 188061679         0.011387900  FALSE    \n",
              "165079 188062558         0.011387900  FALSE    \n",
              "165080 188064497         0.011387900  FALSE    \n",
              "165081 188071815         0.044487427   TRUE    \n",
              "165082 188073113         0.011387900  FALSE    \n",
              "165083 188074787         0.011387900  FALSE    \n",
              "165084 188084847         0.002394775  FALSE    \n",
              "165085 188096188         0.044487427   TRUE    \n",
              "165086 188097537         0.011387900  FALSE    \n",
              "165087 188100654         0.011387900  FALSE    \n",
              "165088 188101739         0.011387900  FALSE    \n",
              "165089 188115120         0.008387698  FALSE    \n",
              "165090 188116871         0.000000000  FALSE    \n",
              "165091 188122277         0.011387900  FALSE    \n",
              "165092 188128903         0.011387900  FALSE    \n",
              "165093 188136205         0.011387900  FALSE    "
            ]
          },
          "metadata": {}
        }
      ]
    },
    {
      "cell_type": "markdown",
      "source": [
        "## Kaggle"
      ],
      "metadata": {
        "id": "x8wauYqsn159"
      }
    },
    {
      "cell_type": "code",
      "source": [
        "# genero el archivo para Kaggle\n",
        "# en el formato requerido por Kaggle\n",
        "# <numero_de_cliente, Predicted>  separados por coma, estension .csv\n",
        "\n",
        "archivo_kaggle <- \"K101_007.csv\"\n",
        "\n",
        "fwrite( tb_prediccion[, list(numero_de_cliente, Predicted)],\n",
        "    file = archivo_kaggle,\n",
        "    sep = \",\"\n",
        ")"
      ],
      "metadata": {
        "id": "F3t1x1FWdNiK"
      },
      "execution_count": null,
      "outputs": []
    },
    {
      "cell_type": "markdown",
      "source": [
        "### Kaggle Competition Submit"
      ],
      "metadata": {
        "id": "fZ2TFi8IjkqS"
      }
    },
    {
      "cell_type": "markdown",
      "source": [
        "Google Colab ya trae instalada una libreria llamada **kaggle** de python, que permite hacer submits a la Plataforma Kaggle"
      ],
      "metadata": {
        "id": "tHgAYi8PfOja"
      }
    },
    {
      "cell_type": "code",
      "source": [
        "comando <- \"kaggle competitions submit\"\n",
        "competencia <- \"-c labo-i-2025-virtual-analista-sr\"\n",
        "arch <- paste( \"-f\", archivo_kaggle)"
      ],
      "metadata": {
        "id": "ssU7YGxzg9ks"
      },
      "execution_count": null,
      "outputs": []
    },
    {
      "cell_type": "code",
      "source": [
        "mensaje <-  paste0( \"-m 'cp=\", param_final$cp, \"  minsplit=\", param_final$minsplit, \"  minbucket=\", param_final$minbucket, \"  maxdepth=\", param_final$maxdepth, \"'\")"
      ],
      "metadata": {
        "id": "SgkMHQU_hbH_"
      },
      "execution_count": null,
      "outputs": []
    },
    {
      "cell_type": "code",
      "source": [
        "linea <- paste( comando, competencia, arch, mensaje)\n",
        "\n",
        "# este el el comando que correria desde el prompt de Linux\n",
        "linea"
      ],
      "metadata": {
        "id": "pxY7faTRiSPm",
        "colab": {
          "base_uri": "https://localhost:8080/",
          "height": 34
        },
        "outputId": "b3a358fa-3f21-4c74-dcbd-ea0381ef05d0"
      },
      "execution_count": null,
      "outputs": [
        {
          "output_type": "display_data",
          "data": {
            "text/html": [
              "<span style=white-space:pre-wrap>'kaggle competitions submit -c labo-i-2025-virtual-analista-sr -f K101_006.csv -m \\'cp=-0.5  minsplit=600  minbucket=10  maxdepth=10\\''</span>"
            ],
            "text/markdown": "<span style=white-space:pre-wrap>'kaggle competitions submit -c labo-i-2025-virtual-analista-sr -f K101_006.csv -m \\'cp=-0.5  minsplit=600  minbucket=10  maxdepth=10\\''</span>",
            "text/latex": "'kaggle competitions submit -c labo-i-2025-virtual-analista-sr -f K101\\_006.csv -m \\textbackslash{}'cp=-0.5  minsplit=600  minbucket=10  maxdepth=10\\textbackslash{}''",
            "text/plain": [
              "[1] \"kaggle competitions submit -c labo-i-2025-virtual-analista-sr -f K101_006.csv -m 'cp=-0.5  minsplit=600  minbucket=10  maxdepth=10'\""
            ]
          },
          "metadata": {}
        }
      ]
    },
    {
      "cell_type": "code",
      "source": [
        "# ejecuto el comando\n",
        "salida <- system(linea, intern=TRUE)\n",
        "cat(salida)"
      ],
      "metadata": {
        "id": "S_uqWh7KhgQr",
        "colab": {
          "base_uri": "https://localhost:8080/"
        },
        "outputId": "b91f36bc-8ff0-41c7-c5b0-3f0cbcca9e6d"
      },
      "execution_count": null,
      "outputs": [
        {
          "output_type": "stream",
          "name": "stdout",
          "text": [
            "Successfully submitted to LaboI 2025 virtual analista sr"
          ]
        }
      ]
    },
    {
      "cell_type": "markdown",
      "source": [
        "## Tarea para el Hogar"
      ],
      "metadata": {
        "id": "yOPAzXbyvfVu"
      }
    },
    {
      "cell_type": "markdown",
      "source": [
        "Explorar manualmente que hiperparámetros genera una mayor ganancia en Kaggle\n",
        "<br> Si en un momento logra quedar en primera posición del Private Leaderboard, saquese una selfie"
      ],
      "metadata": {
        "id": "1m6BshdUvjqv"
      }
    }
  ]
}