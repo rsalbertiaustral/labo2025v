{
  "nbformat": 4,
  "nbformat_minor": 0,
  "metadata": {
    "colab": {
      "provenance": [],
      "include_colab_link": true
    },
    "kernelspec": {
      "name": "python3",
      "display_name": "Python 3"
    },
    "language_info": {
      "name": "python"
    }
  },
  "cells": [
    {
      "cell_type": "markdown",
      "metadata": {
        "id": "view-in-github",
        "colab_type": "text"
      },
      "source": [
        "<a href=\"https://colab.research.google.com/github/rsalbertiaustral/labo2025v/blob/main/randomness_testRoxy.ipynb\" target=\"_parent\"><img src=\"https://colab.research.google.com/assets/colab-badge.svg\" alt=\"Open In Colab\"/></a>"
      ]
    },
    {
      "cell_type": "code",
      "source": [
        "from google.colab import drive\n",
        "drive.mount('/content/drive')\n",
        "!mkdir -p /content/drive/MyDrive/random/"
      ],
      "metadata": {
        "colab": {
          "base_uri": "https://localhost:8080/"
        },
        "id": "PTx31Kjf-tNJ",
        "outputId": "145cf8b3-a719-4288-b44e-846bd9443409"
      },
      "execution_count": null,
      "outputs": [
        {
          "output_type": "stream",
          "name": "stdout",
          "text": [
            "Mounted at /content/drive\n"
          ]
        }
      ]
    },
    {
      "cell_type": "markdown",
      "source": [
        "## Instalacion libreria NIST\n",
        "Clono el repo que tiene los tests estadisticos de NIST\n",
        "para los generadores de numeros pseudoaleatorios\n",
        "\n",
        "*   https://github.com/terrillmoore/NIST-Statistical-Test-Suite\n",
        "*   https://nvlpubs.nist.gov/nistpubs/legacy/sp/nistspecialpublication800-22r1a.pdf\n",
        "\n",
        "\n",
        "\n"
      ],
      "metadata": {
        "id": "kcVedfC5w4nR"
      }
    },
    {
      "cell_type": "markdown",
      "source": [
        "### Clono el repo\n",
        "\n",
        "que tiene los tests estadisticos de NIST para los generadores de numeros pseudoaleatorios\n",
        "\n",
        "https://github.com/terrillmoore/NIST-Statistical-Test-Suite\n",
        "https://nvlpubs.nist.gov/nistpubs/legacy/sp/nistspecialpublication800-22r1a.pdf"
      ],
      "metadata": {
        "id": "MylVj45DKRdY"
      }
    },
    {
      "cell_type": "code",
      "execution_count": null,
      "metadata": {
        "id": "lpIM_doawA5T",
        "collapsed": true,
        "colab": {
          "base_uri": "https://localhost:8080/"
        },
        "outputId": "024d11c5-7015-4db0-89df-42c5577d4283"
      },
      "outputs": [
        {
          "output_type": "stream",
          "name": "stdout",
          "text": [
            "/bin/bash: line 1: cd: /content/NIST-Statistical-Test-Suite: No such file or directory\n",
            "Cloning into '/content/NIST-Statistical-Test-Suite'...\n",
            "remote: Enumerating objects: 152, done.\u001b[K\n",
            "remote: Counting objects: 100% (39/39), done.\u001b[K\n",
            "remote: Compressing objects: 100% (28/28), done.\u001b[K\n",
            "remote: Total 152 (delta 21), reused 21 (delta 11), pack-reused 113 (from 1)\u001b[K\n",
            "Receiving objects: 100% (152/152), 47.41 MiB | 33.00 MiB/s, done.\n",
            "Resolving deltas: 100% (45/45), done.\n"
          ]
        }
      ],
      "source": [
        "!if cd  /content/NIST-Statistical-Test-Suite; then git pull; else git clone https://github.com/terrillmoore/NIST-Statistical-Test-Suite  /content/NIST-Statistical-Test-Suite; fi"
      ]
    },
    {
      "cell_type": "markdown",
      "source": [
        "### instalaciones"
      ],
      "metadata": {
        "id": "NfEvCh65wgIP"
      }
    },
    {
      "cell_type": "code",
      "source": [
        "!cd /content/NIST-Statistical-Test-Suite && ./setup.sh && cd ./sts && make"
      ],
      "metadata": {
        "collapsed": true,
        "id": "rizO8Jn2yx-y",
        "colab": {
          "base_uri": "https://localhost:8080/"
        },
        "outputId": "fc63ddeb-8644-4214-df5b-1ed1594243f9"
      },
      "execution_count": null,
      "outputs": [
        {
          "output_type": "stream",
          "name": "stdout",
          "text": [
            "Setting up directories in ./sts/experiments.\n",
            "Created ./sts/obj.\n",
            "Created ./sts/experiments/AlgorithmTesting.\n",
            "Created ./sts/experiments/BBS.\n",
            "Created ./sts/experiments/CCG.\n",
            "Created ./sts/experiments/G-SHA1.\n",
            "Created ./sts/experiments/LCG.\n",
            "Created ./sts/experiments/MODEXP.\n",
            "Created ./sts/experiments/MS.\n",
            "Created ./sts/experiments/QCG1.\n",
            "Created ./sts/experiments/QCG2.\n",
            "Created ./sts/experiments/XOR.\n",
            "Creating the subdirectories via ./sts/experiments/create-dir-script.\n",
            "create-dir-script succeeded.\n",
            "Directories are set up. Change directory to ./sts and say 'make'!\n",
            "/usr/bin/gcc -o obj/assess.o -c ./src/assess.c\n",
            "/usr/bin/gcc -o obj/frequency.o -c -Wall ./src/frequency.c\n",
            "/usr/bin/gcc -o obj/blockFrequency.o -c -Wall ./src/blockFrequency.c\n",
            "/usr/bin/gcc -o obj/cusum.o -c -Wall ./src/cusum.c\n",
            "/usr/bin/gcc -o obj/runs.o -c -Wall ./src/runs.c\n",
            "/usr/bin/gcc -o obj/longestRunOfOnes.o -c -Wall ./src/longestRunOfOnes.c\n",
            "/usr/bin/gcc -o obj/serial.o -c -Wall ./src/serial.c\n",
            "/usr/bin/gcc -o obj/rank.o -c -Wall ./src/rank.c\n",
            "/usr/bin/gcc -o obj/discreteFourierTransform.o -c -Wall ./src/discreteFourierTransform.c\n",
            "/usr/bin/gcc -o obj/nonOverlappingTemplateMatchings.o -c -Wall ./src/nonOverlappingTemplateMatchings.c\n",
            "\u001b[01m\u001b[K./src/nonOverlappingTemplateMatchings.c:\u001b[m\u001b[K In function ‘\u001b[01m\u001b[KNonOverlappingTemplateMatchings\u001b[m\u001b[K’:\n",
            "\u001b[01m\u001b[K./src/nonOverlappingTemplateMatchings.c:24:37:\u001b[m\u001b[K \u001b[01;35m\u001b[Kwarning: \u001b[m\u001b[Kvariable ‘\u001b[01m\u001b[Knu\u001b[m\u001b[K’ set but not used [\u001b[01;35m\u001b[K\u001b]8;;https://gcc.gnu.org/onlinedocs/gcc/Warning-Options.html#index-Wunused-but-set-variable\u0007-Wunused-but-set-variable\u001b]8;;\u0007\u001b[m\u001b[K]\n",
            "   24 |         unsigned int    bit, W_obs, \u001b[01;35m\u001b[Knu\u001b[m\u001b[K[6], *Wj = NULL;\n",
            "      |                                     \u001b[01;35m\u001b[K^~\u001b[m\u001b[K\n",
            "/usr/bin/gcc -o obj/overlappingTemplateMatchings.o -c -Wall ./src/overlappingTemplateMatchings.c\n",
            "/usr/bin/gcc -o obj/universal.o -c -Wall ./src/universal.c\n",
            "/usr/bin/gcc -o obj/approximateEntropy.o -c -Wall ./src/approximateEntropy.c\n",
            "/usr/bin/gcc -o obj/randomExcursions.o -c -Wall ./src/randomExcursions.c\n",
            "/usr/bin/gcc -o obj/randomExcursionsVariant.o -c -Wall ./src/randomExcursionsVariant.c\n",
            "/usr/bin/gcc -o obj/linearComplexity.o -c -Wall ./src/linearComplexity.c\n",
            "/usr/bin/gcc -o obj/dfft.o -c -Wall ./src/dfft.c\n",
            "/usr/bin/gcc -o obj/cephes.o -c -Wall ./src/cephes.c\n",
            "/usr/bin/gcc -o obj/matrix.o -c -Wall ./src/matrix.c\n",
            "\u001b[01m\u001b[K./src/matrix.c:\u001b[m\u001b[K In function ‘\u001b[01m\u001b[Kfind_unit_element_and_swap\u001b[m\u001b[K’:\n",
            "\u001b[01m\u001b[K./src/matrix.c:69:17:\u001b[m\u001b[K \u001b[01;35m\u001b[Kwarning: \u001b[m\u001b[Kthis ‘\u001b[01m\u001b[Kwhile\u001b[m\u001b[K’ clause does not guard... [\u001b[01;35m\u001b[K\u001b]8;;https://gcc.gnu.org/onlinedocs/gcc/Warning-Options.html#index-Wmisleading-indentation\u0007-Wmisleading-indentation\u001b]8;;\u0007\u001b[m\u001b[K]\n",
            "   69 |                 \u001b[01;35m\u001b[Kwhile\u001b[m\u001b[K ( (index < M) && (A[index][i] == 0) )\n",
            "      |                 \u001b[01;35m\u001b[K^~~~~\u001b[m\u001b[K\n",
            "\u001b[01m\u001b[K./src/matrix.c:71:25:\u001b[m\u001b[K \u001b[01;36m\u001b[Knote: \u001b[m\u001b[K...this statement, but the latter is misleadingly indented as if it were guarded by the ‘\u001b[01m\u001b[Kwhile\u001b[m\u001b[K’\n",
            "   71 |                         \u001b[01;36m\u001b[Kif\u001b[m\u001b[K ( index < M )\n",
            "      |                         \u001b[01;36m\u001b[K^~\u001b[m\u001b[K\n",
            "\u001b[01m\u001b[K./src/matrix.c:76:17:\u001b[m\u001b[K \u001b[01;35m\u001b[Kwarning: \u001b[m\u001b[Kthis ‘\u001b[01m\u001b[Kwhile\u001b[m\u001b[K’ clause does not guard... [\u001b[01;35m\u001b[K\u001b]8;;https://gcc.gnu.org/onlinedocs/gcc/Warning-Options.html#index-Wmisleading-indentation\u0007-Wmisleading-indentation\u001b]8;;\u0007\u001b[m\u001b[K]\n",
            "   76 |                 \u001b[01;35m\u001b[Kwhile\u001b[m\u001b[K ( (index >= 0) && (A[index][i] == 0) )\n",
            "      |                 \u001b[01;35m\u001b[K^~~~~\u001b[m\u001b[K\n",
            "\u001b[01m\u001b[K./src/matrix.c:78:25:\u001b[m\u001b[K \u001b[01;36m\u001b[Knote: \u001b[m\u001b[K...this statement, but the latter is misleadingly indented as if it were guarded by the ‘\u001b[01m\u001b[Kwhile\u001b[m\u001b[K’\n",
            "   78 |                         \u001b[01;36m\u001b[Kif\u001b[m\u001b[K ( index >= 0 )\n",
            "      |                         \u001b[01;36m\u001b[K^~\u001b[m\u001b[K\n",
            "/usr/bin/gcc -o obj/utilities.o -c -Wall ./src/utilities.c\n",
            "/usr/bin/gcc -o obj/generators.o -c -Wall ./src/generators.c\n",
            "\u001b[01m\u001b[K./src/generators.c:\u001b[m\u001b[K In function ‘\u001b[01m\u001b[Klcg\u001b[m\u001b[K’:\n",
            "\u001b[01m\u001b[K./src/generators.c:48:28:\u001b[m\u001b[K \u001b[01;35m\u001b[Kwarning: \u001b[m\u001b[Kvariable ‘\u001b[01m\u001b[Kcounter\u001b[m\u001b[K’ set but not used [\u001b[01;35m\u001b[K\u001b]8;;https://gcc.gnu.org/onlinedocs/gcc/Warning-Options.html#index-Wunused-but-set-variable\u0007-Wunused-but-set-variable\u001b]8;;\u0007\u001b[m\u001b[K]\n",
            "   48 |         int             i, \u001b[01;35m\u001b[Kcounter\u001b[m\u001b[K;\n",
            "      |                            \u001b[01;35m\u001b[K^~~~~~~\u001b[m\u001b[K\n",
            "/usr/bin/gcc -o obj/genutils.o -c -Wall ./src/genutils.c\n",
            "\u001b[01m\u001b[K./src/genutils.c:\u001b[m\u001b[K In function ‘\u001b[01m\u001b[KMult\u001b[m\u001b[K’:\n",
            "\u001b[01m\u001b[K./src/genutils.c:175:34:\u001b[m\u001b[K \u001b[01;35m\u001b[Kwarning: \u001b[m\u001b[Kvariable ‘\u001b[01m\u001b[KLA\u001b[m\u001b[K’ set but not used [\u001b[01;35m\u001b[K\u001b]8;;https://gcc.gnu.org/onlinedocs/gcc/Warning-Options.html#index-Wunused-but-set-variable\u0007-Wunused-but-set-variable\u001b]8;;\u0007\u001b[m\u001b[K]\n",
            "  175 |         int             i, j, k, \u001b[01;35m\u001b[KLA\u001b[m\u001b[K;\n",
            "      |                                  \u001b[01;35m\u001b[K^~\u001b[m\u001b[K\n",
            "/usr/bin/gcc -o assess ./obj/assess.o ./obj/frequency.o ./obj/blockFrequency.o ./obj/cusum.o ./obj/runs.o ./obj/longestRunOfOnes.o ./obj/serial.o ./obj/rank.o ./obj/discreteFourierTransform.o ./obj/nonOverlappingTemplateMatchings.o ./obj/overlappingTemplateMatchings.o ./obj/universal.o ./obj/approximateEntropy.o ./obj/randomExcursions.o ./obj/randomExcursionsVariant.o ./obj/linearComplexity.o ./obj/dfft.o ./obj/cephes.o ./obj/matrix.o ./obj/utilities.o ./obj/generators.o ./obj/genutils.o -lm\n"
          ]
        }
      ]
    },
    {
      "cell_type": "markdown",
      "source": [
        "## Ejecuto los Experimentos\n"
      ],
      "metadata": {
        "id": "gRxHWEDP1XWd"
      }
    },
    {
      "cell_type": "markdown",
      "source": [
        "### Creo el template de los experimentos"
      ],
      "metadata": {
        "id": "utrR0QPZJ1DK"
      }
    },
    {
      "cell_type": "markdown",
      "source": [
        "\n",
        "\n",
        "1.   0 = hay archivbo de entrada\n",
        "2.   el archivo con la secuencia de bints\n",
        "3.   1  aplicacion de TODOS los tests\n",
        "4.   0  continuar\n",
        "5.  10 la cantidad de streams a experimentar\n",
        "6.   1 = archivo binario,  cada byte tiene 8 bits utiles y (supuestamente) random\n",
        "\n"
      ],
      "metadata": {
        "id": "nzMKF_PwmDJ8"
      }
    },
    {
      "cell_type": "code",
      "source": [
        "!echo \"0\" > /content/NIST-Statistical-Test-Suite/test/semilla.txt\n",
        "!echo \"/content/NIST-Statistical-Test-Suite/sts/data/semilla.bin\"  >> /content/NIST-Statistical-Test-Suite/test/semilla.txt\n",
        "!echo \"1\" >> /content/NIST-Statistical-Test-Suite/test/semilla.txt\n",
        "!echo \"0\" >> /content/NIST-Statistical-Test-Suite/test/semilla.txt\n",
        "!echo \"10\" >> /content/NIST-Statistical-Test-Suite/test/semilla.txt\n",
        "!echo -n \"1\" >> /content/NIST-Statistical-Test-Suite/test/semilla.txt\n",
        "\n"
      ],
      "metadata": {
        "id": "fr1dhjGa2Wmk"
      },
      "execution_count": null,
      "outputs": []
    },
    {
      "cell_type": "code",
      "source": [],
      "metadata": {
        "id": "EMAnDNRiX6yp"
      },
      "execution_count": null,
      "outputs": []
    },
    {
      "cell_type": "code",
      "source": [
        "import  numpy as np\n",
        "import  sympy\n",
        "import  os\n",
        "import  random\n",
        "\n",
        "carpeta_raiz= \"/content/NIST-Statistical-Test-Suite/sts/experiments/AlgorithmTesting/\"\n"
      ],
      "metadata": {
        "id": "Ux-YdDuyxlwQ"
      },
      "execution_count": null,
      "outputs": []
    },
    {
      "cell_type": "markdown",
      "source": [
        "Establezco la cantidad de semillas que voy a crear\n",
        "se crean en total 2*semillas_cantidad semillas\n",
        "\n",
        "\n",
        "*   semillas_cantidad numeros primos del intervalo [100000, 999999]\n",
        "*   0, 2, 4, 6, ..., 2*(semillas_cantidad - 1 )\n",
        "\n"
      ],
      "metadata": {
        "id": "frWsMyxMYJb7"
      }
    },
    {
      "cell_type": "code",
      "source": [
        "semillas_cantidad = 100\n",
        "bits_cantidad = 40000000\n",
        "semilla_experimento = 102191 # 410551 200177"
      ],
      "metadata": {
        "id": "rsp_i_U2YI1h"
      },
      "execution_count": null,
      "outputs": []
    },
    {
      "cell_type": "markdown",
      "source": [
        "### Genero los tests para las semillas numeros primos\n",
        "\n",
        "quedan en la carpeta \"/content/NIST-Statistical-Test-Suite/sts/experiments/AlgorithmTesting/$semilla_experimento\n",
        "\n",
        "y se llaman  s_xxxxxx.txt"
      ],
      "metadata": {
        "id": "UDa2wXWqHO0a"
      }
    },
    {
      "cell_type": "code",
      "source": [
        "# pruebo numeros primos\n",
        "import  random\n",
        "random.seed(semilla_experimento)  # inicilizo la libreria random\n",
        "carpeta_primos = carpeta_raiz + str(semilla_experimento) + \"/\"\n",
        "!mkdir -p $carpeta_primos\n",
        "primos = random.sample( list(sympy.primerange(100000, 999999)), semillas_cantidad )\n",
        "\n",
        "for i, sem  in  enumerate(primos):\n",
        "  print( i, end=' ')\n",
        "  archivo_test = carpeta_primos + \"s_\" + str(sem).rjust(6,'0') + \".txt\"\n",
        "  if ( False == os.path.exists(archivo_test) ):\n",
        "    # genero vector de 10000000  enteros sin signo, aleatorios\n",
        "    np.random.seed(sem)  # inicializo numpy\n",
        "    v = np.random.randint(0, high=2**32, size=bits_cantidad//4, dtype=np.uint32)\n",
        "    arch=open(\"/content/NIST-Statistical-Test-Suite/sts/data/semilla.bin\",\"wb\")\n",
        "    arch.write(v)\n",
        "    arch.close()\n",
        "\n",
        "    # ejecuto los tests\n",
        "    !cd /content/NIST-Statistical-Test-Suite/sts/ && cat /content/NIST-Statistical-Test-Suite/test/semilla.txt | /content/NIST-Statistical-Test-Suite/sts/assess 100000  >/dev/null 2>&1\n",
        "    # copio la salida que queda en finalAnalysisReport.txt  a un archivo con nombre de la semilla\n",
        "    linea = \"cp \" + carpeta_raiz + \"finalAnalysisReport.txt \" + archivo_test\n",
        "    !$linea\n"
      ],
      "metadata": {
        "collapsed": true,
        "id": "b1L9L_bOyJwv",
        "colab": {
          "base_uri": "https://localhost:8080/"
        },
        "outputId": "56783edf-9e70-4566-dc0c-07b090862a96"
      },
      "execution_count": null,
      "outputs": [
        {
          "output_type": "stream",
          "name": "stdout",
          "text": [
            "0 1 2 3 4 5 6 7 8 9 10 11 12 13 14 15 16 17 18 19 20 21 22 23 24 25 26 27 28 29 30 31 32 33 34 35 36 37 38 39 40 41 42 43 44 45 46 47 48 49 50 51 52 53 54 55 56 57 58 59 60 61 62 63 64 65 66 67 68 69 70 71 72 73 74 75 76 77 78 79 80 81 82 83 84 85 86 87 88 89 90 91 92 93 94 95 96 97 98 99 "
          ]
        }
      ]
    },
    {
      "cell_type": "markdown",
      "source": [
        "### Ahora genero los tests para los numeros PARES"
      ],
      "metadata": {
        "id": "3RyefFydIIon"
      }
    },
    {
      "cell_type": "code",
      "source": [
        "# pruebo numeros pares consecutivos 0, 2, 4, 6, ...\n",
        "for sem in range(0,2*semillas_cantidad,2):\n",
        "  print( sem, end=' ')\n",
        "  archivo_test = carpeta_raiz + \"s_\" + str(sem).rjust(6,'0') + \".txt\"\n",
        "  if ( False == os.path.exists(archivo_test) ):\n",
        "    np.random.seed(sem)   # inicializo numpy\n",
        "\n",
        "    # genero vector de 10000000  enteros sin signo, aleatorios\n",
        "    v = np.random.randint(0, high=2**32, size=bits_cantidad//4, dtype=np.uint32)\n",
        "    arch=open(\"/content/NIST-Statistical-Test-Suite/sts/data/semilla.bin\",\"wb\")\n",
        "    arch.write(v)\n",
        "    arch.close()\n",
        "\n",
        "    # ejecuto los tests\n",
        "    !cd /content/NIST-Statistical-Test-Suite/sts/ && cat /content/NIST-Statistical-Test-Suite/test/semilla.txt | /content/NIST-Statistical-Test-Suite/sts/assess 100000   >/dev/null 2>&1\n",
        "    # copio la salida que queda en finalAnalysisReport.txt  a un archivo con nombre de la semilla\n",
        "    linea = \"cp \" + carpeta_raiz + \"finalAnalysisReport.txt \" + archivo_test\n",
        "    !$linea\n"
      ],
      "metadata": {
        "id": "wlzVWddOEGqL",
        "collapsed": true,
        "colab": {
          "base_uri": "https://localhost:8080/"
        },
        "outputId": "0636d750-4bd9-442b-df4e-ead37fffe474"
      },
      "execution_count": null,
      "outputs": [
        {
          "output_type": "stream",
          "name": "stdout",
          "text": [
            "0 2 4 6 8 10 12 14 16 18 20 22 24 26 28 30 32 34 36 38 40 42 44 46 48 50 52 54 56 58 60 62 64 66 68 70 72 74 76 78 80 82 84 86 88 90 92 94 96 98 100 102 104 106 108 110 112 114 116 118 120 122 124 126 128 130 132 134 136 138 140 142 144 146 148 150 152 154 156 158 160 162 164 166 168 170 172 174 176 178 180 182 184 186 188 190 192 194 196 198 "
          ]
        }
      ]
    },
    {
      "cell_type": "markdown",
      "source": [
        "## Analizo los Experimentos\n",
        "\n",
        "> Añadir blockquote\n",
        "\n"
      ],
      "metadata": {
        "id": "mDeLbTiQJ-nf"
      }
    },
    {
      "cell_type": "markdown",
      "source": [
        "### uno todas las salidas, la de los primos y la de los pares"
      ],
      "metadata": {
        "id": "SAcJUjElEcHP"
      }
    },
    {
      "cell_type": "code",
      "source": [
        "archivo_salida =  carpeta_raiz + \"todos_\" + str(semilla_experimento) + \".txt\"\n"
      ],
      "metadata": {
        "id": "TH5Ep9FGo_nd"
      },
      "execution_count": null,
      "outputs": []
    },
    {
      "cell_type": "code",
      "source": [
        "!cd $carpeta_raiz && grep  -E \"[0-9]+\\.[0-9]+\" s_*.txt | grep -v \"\\*\" | sed 's/  */ /g'> $archivo_salida\n",
        "!cd $carpeta_primos && grep  -E \"[0-9]+\\.[0-9]+\" s_*.txt | grep -v \"\\*\" | sed 's/  */ /g'>> $archivo_salida"
      ],
      "metadata": {
        "id": "o2EAsWmEEhME"
      },
      "execution_count": null,
      "outputs": []
    },
    {
      "cell_type": "markdown",
      "source": [
        "### Analizo la salida\n",
        "\n",
        "FUNDAMENTAL : p-values mayores significa mejor aleatoriedad\n",
        "\n",
        "For these tests, each P-value is the probability that a perfect random number generator would have produced a sequence less random than the sequence that was tested, given the kind of nonrandomness assessed by the test. If a P-value for a test is determined to be equal to 1, then the sequence appears to have perfect randomness. A P-value of zero indicates that the sequence appears to be completely non-random."
      ],
      "metadata": {
        "id": "c-HixU0xIQvd"
      }
    },
    {
      "cell_type": "code",
      "source": [
        "import polars as pl\n",
        "\n",
        "\n",
        "dataset = pl.read_csv(\n",
        "  source = archivo_salida,\n",
        "  separator=\" \",\n",
        "  has_header=False,\n",
        "  truncate_ragged_lines=True)\n",
        "\n",
        "# me quedo con las columnas que me interesan\n",
        "dataset = dataset.select(pl.nth([0, 11, 13]))\n",
        "dataset.columns = [\"archivo\", \"pvalor\", \"analisis_tipo\"]\n",
        "\n",
        "# extraigo la semilla del nombre del archivo\n",
        "dataset = dataset.with_columns(\n",
        "    pl.col(\"archivo\").str.slice(2, 6).cast(pl.Int32).alias(\"semilla\")\n",
        ")\n",
        "\n",
        "# si es impar, en ESTE caso, es el numero prinmero\n",
        "dataset = dataset.with_columns((pl.col(\"semilla\") % 2).alias(\"semilla_prima\"))\n",
        "\n",
        "# genero la tabla con la agrupacion\n",
        "tbl = (\n",
        "    dataset\n",
        "    .group_by([\"analisis_tipo\", \"semilla_prima\"])\n",
        "    .agg([\n",
        "        pl.len().alias(\"cantidad\"),\n",
        "        pl.col(\"pvalor\").mean().alias(\"mean_pvalor\")\n",
        "    ])\n",
        ")\n",
        "\n",
        "# Sort by 'analisis' and 'pos'\n",
        "tbl = tbl.sort([\"analisis_tipo\", \"semilla_prima\"])\n",
        "\n",
        "with pl.Config(tbl_rows=-1):\n",
        "    print(tbl)\n",
        "\n",
        "tbl.write_csv(\"/content/drive/MyDrive/random/\"+\"tbl_\"+str(semilla_experimento)+\".csv\",\n",
        "    separator=\",\")"
      ],
      "metadata": {
        "collapsed": true,
        "id": "3pFLperkIO-v",
        "colab": {
          "base_uri": "https://localhost:8080/"
        },
        "outputId": "98a25d28-da54-4873-e03c-8debdf775bec"
      },
      "execution_count": null,
      "outputs": [
        {
          "output_type": "stream",
          "name": "stdout",
          "text": [
            "shape: (24, 4)\n",
            "┌────────────────────────┬───────────────┬──────────┬─────────────┐\n",
            "│ analisis_tipo          ┆ semilla_prima ┆ cantidad ┆ mean_pvalor │\n",
            "│ ---                    ┆ ---           ┆ ---      ┆ ---         │\n",
            "│ str                    ┆ i32           ┆ u32      ┆ f64         │\n",
            "╞════════════════════════╪═══════════════╪══════════╪═════════════╡\n",
            "│ ApproximateEntropy     ┆ 0             ┆ 100      ┆ 0.456144    │\n",
            "│ ApproximateEntropy     ┆ 1             ┆ 100      ┆ 0.494425    │\n",
            "│ BlockFrequency         ┆ 0             ┆ 99       ┆ 0.459401    │\n",
            "│ BlockFrequency         ┆ 1             ┆ 100      ┆ 0.541946    │\n",
            "│ CumulativeSums         ┆ 0             ┆ 200      ┆ 0.450535    │\n",
            "│ CumulativeSums         ┆ 1             ┆ 200      ┆ 0.51431     │\n",
            "│ FFT                    ┆ 0             ┆ 100      ┆ 0.536846    │\n",
            "│ FFT                    ┆ 1             ┆ 99       ┆ 0.505538    │\n",
            "│ Frequency              ┆ 0             ┆ 100      ┆ 0.50492     │\n",
            "│ Frequency              ┆ 1             ┆ 100      ┆ 0.492973    │\n",
            "│ LinearComplexity       ┆ 0             ┆ 100      ┆ 0.445556    │\n",
            "│ LinearComplexity       ┆ 1             ┆ 100      ┆ 0.584868    │\n",
            "│ LongestRun             ┆ 0             ┆ 100      ┆ 0.487235    │\n",
            "│ LongestRun             ┆ 1             ┆ 100      ┆ 0.464252    │\n",
            "│ NonOverlappingTemplate ┆ 0             ┆ 14795    ┆ 0.496341    │\n",
            "│ NonOverlappingTemplate ┆ 1             ┆ 14792    ┆ 0.495248    │\n",
            "│ OverlappingTemplate    ┆ 0             ┆ 100      ┆ 0.47383     │\n",
            "│ OverlappingTemplate    ┆ 1             ┆ 100      ┆ 0.454863    │\n",
            "│ Rank                   ┆ 0             ┆ 100      ┆ 0.524252    │\n",
            "│ Rank                   ┆ 1             ┆ 100      ┆ 0.452303    │\n",
            "│ Runs                   ┆ 0             ┆ 100      ┆ 0.522898    │\n",
            "│ Runs                   ┆ 1             ┆ 100      ┆ 0.524102    │\n",
            "│ Serial                 ┆ 0             ┆ 200      ┆ 0.492662    │\n",
            "│ Serial                 ┆ 1             ┆ 200      ┆ 0.468782    │\n",
            "└────────────────────────┴───────────────┴──────────┴─────────────┘\n"
          ]
        }
      ]
    },
    {
      "cell_type": "markdown",
      "source": [
        "\n",
        "A mayor p-valor,  mejor propiedades tiene la secuencia de numeros aleatorios\n",
        "\n",
        "semilla_prima = 1  indica que la semilla se inicializó con un numero prino\n",
        "\n",
        "Se observa que para este anlaisis que, por poca diferenica, las semillas numeros primos generan una secuencia un poco mejor de numeros aleatorios\n",
        "particularmente para el Linear Complexity\n",
        "\n"
      ],
      "metadata": {
        "id": "ZhGsSbkPS8dl"
      }
    }
  ]
}